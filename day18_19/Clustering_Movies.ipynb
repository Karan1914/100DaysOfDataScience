{
 "cells": [
  {
   "cell_type": "code",
   "execution_count": null,
   "metadata": {},
   "outputs": [],
   "source": [
    "\n",
    "# TF-IDF of movie plots\n",
    "\n",
    "\"\"\"\n",
    "\n",
    "\n",
    "Let us use the plots of randomly selected movies to perform document clustering on.\n",
    "Before performing clustering on documents, \n",
    "they need to be cleaned of any unwanted noise (such as special characters and stop words)\n",
    "and converted into a sparse matrix through TF-IDF of the documents.\n",
    "\n",
    "Use the TfidfVectorizer class to perform the TF-IDF of movie plots stored in the list plots. \n",
    "\n",
    "The remove_noise() function is available to use as a tokenizer in the TfidfVectorizer class. \n",
    "\n",
    "The .fit_transform() method fits the data into the TfidfVectorizer objects and\n",
    "then generates the TF-IDF sparse matrix.\n",
    "\n",
    "Note: It takes a few seconds to run the .fit_transform() method.\n",
    "\n",
    "\n",
    "\n",
    "\n",
    "\"\"\""
   ]
  },
  {
   "cell_type": "code",
   "execution_count": null,
   "metadata": {},
   "outputs": [],
   "source": [
    "# Import TfidfVectorizer class from sklearn\n",
    "from sklearn.feature_extraction.text import TfidfVectorizer\n",
    "\n",
    "# Initialize TfidfVectorizer\n",
    "tfidf_vectorizer = TfidfVectorizer(min_df = 0.1,max_df = 0.75,max_features=50, tokenizer= remove_noise)\n",
    "\n",
    "# Use the .fit_transform() method on the list plots\n",
    "tfidf_matrix = tfidf_vectorizer.fit_transform(plots)"
   ]
  },
  {
   "cell_type": "code",
   "execution_count": null,
   "metadata": {},
   "outputs": [],
   "source": [
    "num_clusters = 2\n",
    "\n",
    "# Generate cluster centers through the kmeans function\n",
    "cluster_centers, distortion = kmeans(tfidf_matrix.todense(), num_clusters)\n",
    "\n",
    "# Generate terms from the tfidf_vectorizer object\n",
    "terms = tfidf_vectorizer.get_feature_names()\n",
    "\n",
    "for i in range(num_clusters):\n",
    "    # Sort the terms and print top 3 terms\n",
    "    center_terms = dict(zip(terms,list(cluster_centers[i])))\n",
    "    sorted_terms = sorted(center_terms, key=center_terms.get, reverse=True)\n",
    "    print(sorted_terms)"
   ]
  },
  {
   "cell_type": "code",
   "execution_count": null,
   "metadata": {},
   "outputs": [],
   "source": [
    "\"\"\"\n",
    "In the FIFA 18 dataset, we have concentrated on defenders in previous exercises.\n",
    "Let us try to focus on attacking attributes of a player. \n",
    "Pace (pac), Dribbling (dri) and Shooting (sho) are features that are present in attack minded players. \n",
    "In this exercise, k-means clustering has already been applied on the data using the scaled values of these three attributes. \n",
    "Try some basic checks on the clusters so formed.\n",
    "\n",
    "The data is stored in a Pandas data frame, fifa.\n",
    "The scaled column names are present in a list scaled_features.\n",
    "The cluster labels are stored in the cluster_labels column. \n",
    "Recall the .count() and .mean() methods in Pandas help you\n",
    "find the number of observations and mean of observations in a data frame.\n",
    "\n",
    "\"\"\"\n",
    "\n",
    "\n",
    "# Print the size of the clusters\n",
    "print(fifa.groupby('cluster_labels')['ID'].count())\n",
    "\n",
    "# Print the mean value of wages in each cluster\n",
    "print(fifa.groupby('cluster_labels')['eur_wage'].mean())"
   ]
  },
  {
   "cell_type": "code",
   "execution_count": null,
   "metadata": {},
   "outputs": [],
   "source": [
    "# FIFA 18: what makes a complete player?\n",
    "#The overall level of a player in FIFA 18 is defined by six characteristics: \n",
    "# pace (pac), shooting (sho), passing (pas), dribbling (dri), defending (def), physical (phy).\n",
    "\n",
    "# Create centroids with kmeans for 2 clusters\n",
    "cluster_centers,_ = kmeans(fifa[scaled_features], 2)\n",
    "\n",
    "# Assign cluster labels and print cluster centers\n",
    "fifa['cluster_labels'], _ = vq(fifa[scaled_features], cluster_centers)\n",
    "print(fifa.groupby('cluster_labels')[scaled_features].mean())\n",
    "\n",
    "# Plot cluster centers to visualize clusters\n",
    "fifa.groupby('cluster_labels')[scaled_features].mean().plot(legend=True, kind='bar')\n",
    "plt.show()\n",
    "\n",
    "# Get the name column of top 5 players in each cluster\n",
    "for cluster in fifa['cluster_labels'].unique():\n",
    "    print(cluster, fifa[fifa['cluster_labels'] == cluster]['name'].values[:5])"
   ]
  }
 ],
 "metadata": {
  "kernelspec": {
   "display_name": "Python 3",
   "language": "python",
   "name": "python3"
  },
  "language_info": {
   "codemirror_mode": {
    "name": "ipython",
    "version": 3
   },
   "file_extension": ".py",
   "mimetype": "text/x-python",
   "name": "python",
   "nbconvert_exporter": "python",
   "pygments_lexer": "ipython3",
   "version": "3.7.3"
  }
 },
 "nbformat": 4,
 "nbformat_minor": 2
}
