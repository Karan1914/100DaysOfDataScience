{
  "nbformat": 4,
  "nbformat_minor": 0,
  "metadata": {
    "colab": {
      "name": "NLP.ipynb",
      "provenance": [],
      "collapsed_sections": [],
      "authorship_tag": "ABX9TyN8Eyn/sXRNy8nzU92KzPTU",
      "include_colab_link": true
    },
    "kernelspec": {
      "name": "python3",
      "display_name": "Python 3"
    }
  },
  "cells": [
    {
      "cell_type": "markdown",
      "metadata": {
        "id": "view-in-github",
        "colab_type": "text"
      },
      "source": [
        "<a href=\"https://colab.research.google.com/github/Karan1914/100DaysOfDataScience/blob/master/NLP.ipynb\" target=\"_parent\"><img src=\"https://colab.research.google.com/assets/colab-badge.svg\" alt=\"Open In Colab\"/></a>"
      ]
    },
    {
      "cell_type": "code",
      "metadata": {
        "id": "FICTbHBbbLJh"
      },
      "source": [
        "import pandas as pd"
      ],
      "execution_count": 1,
      "outputs": []
    },
    {
      "cell_type": "code",
      "metadata": {
        "id": "V0zfKh3_bfI4"
      },
      "source": [
        "corpus = '    This is my duMmy Dataset. It is part of taught course on text mining.   '\n"
      ],
      "execution_count": 2,
      "outputs": []
    },
    {
      "cell_type": "code",
      "metadata": {
        "colab": {
          "base_uri": "https://localhost:8080/",
          "height": 35
        },
        "id": "vC02k7z8bsm_",
        "outputId": "154397ed-a97a-4871-fdbb-a485e7759c6b"
      },
      "source": [
        "#1. to lowercase\n",
        "corpus = corpus.lower()\n",
        "\n",
        "corpus"
      ],
      "execution_count": 3,
      "outputs": [
        {
          "output_type": "execute_result",
          "data": {
            "application/vnd.google.colaboratory.intrinsic+json": {
              "type": "string"
            },
            "text/plain": [
              "'    this is my dummy dataset. it is part of taught course on text mining.   '"
            ]
          },
          "metadata": {
            "tags": []
          },
          "execution_count": 3
        }
      ]
    },
    {
      "cell_type": "code",
      "metadata": {
        "colab": {
          "base_uri": "https://localhost:8080/",
          "height": 35
        },
        "id": "UNfnhzw3bxwq",
        "outputId": "6820dab4-238a-414f-ac8d-da1b0df5f2b2"
      },
      "source": [
        "#2 remove white spaces\n",
        "corpus = corpus.strip()\n",
        "\n",
        "corpus"
      ],
      "execution_count": 4,
      "outputs": [
        {
          "output_type": "execute_result",
          "data": {
            "application/vnd.google.colaboratory.intrinsic+json": {
              "type": "string"
            },
            "text/plain": [
              "'this is my dummy dataset. it is part of taught course on text mining.'"
            ]
          },
          "metadata": {
            "tags": []
          },
          "execution_count": 4
        }
      ]
    },
    {
      "cell_type": "code",
      "metadata": {
        "colab": {
          "base_uri": "https://localhost:8080/",
          "height": 35
        },
        "id": "G5ENcIShbzrZ",
        "outputId": "0d008899-b678-422c-8dee-a140d623cd9e"
      },
      "source": [
        "#3 remove punctuations\n",
        "from string import punctuation as punc\n",
        "punc"
      ],
      "execution_count": 6,
      "outputs": [
        {
          "output_type": "execute_result",
          "data": {
            "application/vnd.google.colaboratory.intrinsic+json": {
              "type": "string"
            },
            "text/plain": [
              "'!\"#$%&\\'()*+,-./:;<=>?@[\\\\]^_`{|}~'"
            ]
          },
          "metadata": {
            "tags": []
          },
          "execution_count": 6
        }
      ]
    },
    {
      "cell_type": "code",
      "metadata": {
        "colab": {
          "base_uri": "https://localhost:8080/"
        },
        "id": "sZcVavMLb0ka",
        "outputId": "a96db9bf-e217-4526-8806-fbdfb1242203"
      },
      "source": [
        "for ch in corpus:\n",
        "    if ch in punc:\n",
        "        corpus = corpus.replace(ch, '')\n",
        "        \n",
        "print(corpus)  "
      ],
      "execution_count": 7,
      "outputs": [
        {
          "output_type": "stream",
          "text": [
            "this is my dummy dataset it is part of taught course on text mining\n"
          ],
          "name": "stdout"
        }
      ]
    },
    {
      "cell_type": "code",
      "metadata": {
        "colab": {
          "base_uri": "https://localhost:8080/"
        },
        "id": "zJHh7-FBb_FP",
        "outputId": "f5eeb12e-7724-4c36-fd65-e6d925a8f212"
      },
      "source": [
        "#4 stop words removal\n",
        "from sklearn.feature_extraction.stop_words import ENGLISH_STOP_WORDS\n",
        "print(ENGLISH_STOP_WORDS)\n",
        "\n"
      ],
      "execution_count": 9,
      "outputs": [
        {
          "output_type": "stream",
          "text": [
            "frozenset({'ltd', 'its', 'mill', 'those', 'because', 'describe', 'else', 'his', 'call', 'hers', 'etc', 'indeed', 'put', 'ourselves', 'here', 'anywhere', 'sometimes', 'bill', 'perhaps', 'six', 'noone', 'becoming', 'can', 'him', 'whereby', 'fire', 'onto', 'last', 'otherwise', 'whose', 'part', 'even', 'next', 'was', 'again', 'there', 'front', 'my', 'show', 'too', 'toward', 'made', 'alone', 'except', 'full', 'one', 'all', 'same', 'anything', 'thence', 'nor', 'that', 'such', 'under', 'empty', 'within', 'themselves', 'others', 'take', 'amoungst', 'co', 'before', 'done', 'it', 'than', 'thereby', 'therefore', 'anyway', 'but', 'about', 'nothing', 'nowhere', 'mostly', 'throughout', 'during', 'were', 'someone', 'something', 'so', 'the', 'am', 'cannot', 'over', 'yourself', 'well', 'still', 'wherever', 'beside', 'beyond', 'if', 'why', 'get', 'less', 'must', 'very', 'namely', 'when', 'their', 'thereupon', 'in', 'several', 'thru', 'will', 'and', 'of', 'once', 'eleven', 'third', 'should', 'side', 'please', 'two', 'your', 'go', 'amongst', 'moreover', 'system', 'a', 'whom', 'on', 'an', 'while', 'been', 'mine', 'serious', 'ours', 'thick', 'un', 'therein', 'do', 'then', 'us', 'nobody', 'towards', 'twelve', 'many', 'whether', 'up', 'whither', 'amount', 'couldnt', 'neither', 'for', 'see', 'between', 'sixty', 'ie', 'which', 'enough', 'itself', 'hundred', 'eg', 'keep', 'her', 'rather', 'ten', 'this', 'together', 'upon', 'per', 'behind', 're', 'further', 'whatever', 'our', 'own', 'another', 'interest', 'fifty', 'had', 'every', 'due', 'sometime', 'beforehand', 'whoever', 'both', 'first', 'without', 'eight', 'nevertheless', 'although', 'latterly', 'more', 'myself', 'not', 'seem', 'somewhere', 'whereafter', 'though', 'being', 'some', 'off', 'twenty', 'fill', 'find', 'is', 'give', 'hence', 'where', 'me', 'these', 'may', 'at', 'latter', 'whence', 'across', 'against', 'you', 'could', 'back', 'i', 'around', 'seeming', 'after', 'he', 'seems', 'would', 'hereafter', 'bottom', 'inc', 'thereafter', 'as', 'either', 'through', 'whenever', 'with', 'be', 'might', 'below', 'con', 'cant', 'also', 'any', 'fifteen', 'have', 'each', 'among', 'since', 'afterwards', 'seemed', 'to', 'always', 'name', 'anyhow', 'now', 'cry', 'yours', 'everyone', 'thus', 'few', 'four', 'besides', 'ever', 'everything', 'thin', 'nine', 'became', 'move', 'almost', 'has', 'herein', 'himself', 'what', 'yet', 'hereby', 'often', 'whole', 'de', 'become', 'three', 'somehow', 'until', 'sincere', 'along', 'top', 'only', 'much', 'already', 'how', 'wherein', 'she', 'herself', 'them', 'down', 'by', 'everywhere', 'hasnt', 'above', 'who', 'are', 'former', 'from', 'out', 'becomes', 'five', 'or', 'whereupon', 'no', 'forty', 'least', 'formerly', 'via', 'other', 'meanwhile', 'elsewhere', 'however', 'hereupon', 'into', 'most', 'none', 'we', 'yourselves', 'never', 'they', 'whereas', 'detail', 'found', 'anyone'})\n"
          ],
          "name": "stdout"
        }
      ]
    },
    {
      "cell_type": "code",
      "metadata": {
        "colab": {
          "base_uri": "https://localhost:8080/"
        },
        "id": "4EE8h8NccUUz",
        "outputId": "3c7f1f6a-a3cc-4a12-9ef9-4fbd78b72303"
      },
      "source": [
        "words = corpus.split(' ')\n",
        "\n",
        "for word in words:\n",
        "    if word in ENGLISH_STOP_WORDS:\n",
        "        words.remove(word)\n",
        "        \n",
        "print(words)  "
      ],
      "execution_count": 10,
      "outputs": [
        {
          "output_type": "stream",
          "text": [
            "['is', 'dummy', 'dataset', 'is', 'of', 'taught', 'course', 'text', 'mining']\n"
          ],
          "name": "stdout"
        }
      ]
    },
    {
      "cell_type": "code",
      "metadata": {
        "colab": {
          "base_uri": "https://localhost:8080/"
        },
        "id": "OW201fVpcccr",
        "outputId": "36c20590-4f09-4328-8202-acea51f9ea5d"
      },
      "source": [
        "corpus = '<html><head></head><body><h1>Paragraph Heading</h1><p>This is some text. <a href=\"\">The original price was $500 but now only USD250 </a> This is some text. This is some text. This is some text. This is some text. This is some text. This is some text. This is some text. This is some text. This is some text. This is <em>some text.</em> <strong>This is some text.</strong> This is some text. This is some text. This is some text. This is some text. This is some text. This is some text. This is some text. This is some text. This is some text. </p></body></html>'\n",
        "print('Raw data: ', corpus)\n"
      ],
      "execution_count": 11,
      "outputs": [
        {
          "output_type": "stream",
          "text": [
            "Raw data:  <html><head></head><body><h1>Paragraph Heading</h1><p>This is some text. <a href=\"\">The original price was $500 but now only USD250 </a> This is some text. This is some text. This is some text. This is some text. This is some text. This is some text. This is some text. This is some text. This is some text. This is <em>some text.</em> <strong>This is some text.</strong> This is some text. This is some text. This is some text. This is some text. This is some text. This is some text. This is some text. This is some text. This is some text. </p></body></html>\n"
          ],
          "name": "stdout"
        }
      ]
    },
    {
      "cell_type": "code",
      "metadata": {
        "colab": {
          "base_uri": "https://localhost:8080/"
        },
        "id": "IwLmsrjuemhZ",
        "outputId": "6d6b2048-c29b-4015-cb52-71969fb341d4"
      },
      "source": [
        "import re\n",
        "tags = re.compile(r'<.*?>')\n",
        "corpus = tags.sub('', corpus)\n",
        "\n",
        "prices = re.compile(r'(USD|\\$)[0-9]+')\n",
        "corpus = prices.sub('', corpus)\n",
        "\n",
        "print('normalized data: ', corpus)"
      ],
      "execution_count": 12,
      "outputs": [
        {
          "output_type": "stream",
          "text": [
            "normalized data:  Paragraph HeadingThis is some text. The original price was  but now only   This is some text. This is some text. This is some text. This is some text. This is some text. This is some text. This is some text. This is some text. This is some text. This is some text. This is some text. This is some text. This is some text. This is some text. This is some text. This is some text. This is some text. This is some text. This is some text. This is some text. \n"
          ],
          "name": "stdout"
        }
      ]
    },
    {
      "cell_type": "code",
      "metadata": {
        "colab": {
          "base_uri": "https://localhost:8080/"
        },
        "id": "gQGOJhlDfQxM",
        "outputId": "1a4fcfa1-8759-4d45-b67e-5f1ac1cf58a9"
      },
      "source": [
        "#Stemming\n",
        "from nltk.stem import PorterStemmer\n",
        "pstemmer = PorterStemmer()\n",
        "for i in range(0, len(words)):\n",
        "    words[i] = pstemmer.stem(words[i])\n",
        "print(words)\n",
        "\n",
        " "
      ],
      "execution_count": 13,
      "outputs": [
        {
          "output_type": "stream",
          "text": [
            "['is', 'dummi', 'dataset', 'is', 'of', 'taught', 'cours', 'text', 'mine']\n"
          ],
          "name": "stdout"
        }
      ]
    },
    {
      "cell_type": "code",
      "metadata": {
        "colab": {
          "base_uri": "https://localhost:8080/"
        },
        "id": "UCZkFoRrffdL",
        "outputId": "fb50be84-78ec-482e-8734-812291cddb00"
      },
      "source": [
        "import nltk\n",
        "nltk.download('all')\n"
      ],
      "execution_count": 16,
      "outputs": [
        {
          "output_type": "stream",
          "text": [
            "[nltk_data] Downloading collection 'all'\n",
            "[nltk_data]    | \n",
            "[nltk_data]    | Downloading package abc to /root/nltk_data...\n",
            "[nltk_data]    |   Unzipping corpora/abc.zip.\n",
            "[nltk_data]    | Downloading package alpino to /root/nltk_data...\n",
            "[nltk_data]    |   Unzipping corpora/alpino.zip.\n",
            "[nltk_data]    | Downloading package biocreative_ppi to\n",
            "[nltk_data]    |     /root/nltk_data...\n",
            "[nltk_data]    |   Unzipping corpora/biocreative_ppi.zip.\n",
            "[nltk_data]    | Downloading package brown to /root/nltk_data...\n",
            "[nltk_data]    |   Unzipping corpora/brown.zip.\n",
            "[nltk_data]    | Downloading package brown_tei to /root/nltk_data...\n",
            "[nltk_data]    |   Unzipping corpora/brown_tei.zip.\n",
            "[nltk_data]    | Downloading package cess_cat to /root/nltk_data...\n",
            "[nltk_data]    |   Unzipping corpora/cess_cat.zip.\n",
            "[nltk_data]    | Downloading package cess_esp to /root/nltk_data...\n",
            "[nltk_data]    |   Unzipping corpora/cess_esp.zip.\n",
            "[nltk_data]    | Downloading package chat80 to /root/nltk_data...\n",
            "[nltk_data]    |   Unzipping corpora/chat80.zip.\n",
            "[nltk_data]    | Downloading package city_database to\n",
            "[nltk_data]    |     /root/nltk_data...\n",
            "[nltk_data]    |   Unzipping corpora/city_database.zip.\n",
            "[nltk_data]    | Downloading package cmudict to /root/nltk_data...\n",
            "[nltk_data]    |   Unzipping corpora/cmudict.zip.\n",
            "[nltk_data]    | Downloading package comparative_sentences to\n",
            "[nltk_data]    |     /root/nltk_data...\n",
            "[nltk_data]    |   Unzipping corpora/comparative_sentences.zip.\n",
            "[nltk_data]    | Downloading package comtrans to /root/nltk_data...\n",
            "[nltk_data]    | Downloading package conll2000 to /root/nltk_data...\n",
            "[nltk_data]    |   Unzipping corpora/conll2000.zip.\n",
            "[nltk_data]    | Downloading package conll2002 to /root/nltk_data...\n",
            "[nltk_data]    |   Unzipping corpora/conll2002.zip.\n",
            "[nltk_data]    | Downloading package conll2007 to /root/nltk_data...\n",
            "[nltk_data]    | Downloading package crubadan to /root/nltk_data...\n",
            "[nltk_data]    |   Unzipping corpora/crubadan.zip.\n",
            "[nltk_data]    | Downloading package dependency_treebank to\n",
            "[nltk_data]    |     /root/nltk_data...\n",
            "[nltk_data]    |   Unzipping corpora/dependency_treebank.zip.\n",
            "[nltk_data]    | Downloading package dolch to /root/nltk_data...\n",
            "[nltk_data]    |   Unzipping corpora/dolch.zip.\n",
            "[nltk_data]    | Downloading package europarl_raw to\n",
            "[nltk_data]    |     /root/nltk_data...\n",
            "[nltk_data]    |   Unzipping corpora/europarl_raw.zip.\n",
            "[nltk_data]    | Downloading package floresta to /root/nltk_data...\n",
            "[nltk_data]    |   Unzipping corpora/floresta.zip.\n",
            "[nltk_data]    | Downloading package framenet_v15 to\n",
            "[nltk_data]    |     /root/nltk_data...\n",
            "[nltk_data]    |   Unzipping corpora/framenet_v15.zip.\n",
            "[nltk_data]    | Downloading package framenet_v17 to\n",
            "[nltk_data]    |     /root/nltk_data...\n",
            "[nltk_data]    |   Unzipping corpora/framenet_v17.zip.\n",
            "[nltk_data]    | Downloading package gazetteers to /root/nltk_data...\n",
            "[nltk_data]    |   Unzipping corpora/gazetteers.zip.\n",
            "[nltk_data]    | Downloading package genesis to /root/nltk_data...\n",
            "[nltk_data]    |   Unzipping corpora/genesis.zip.\n",
            "[nltk_data]    | Downloading package gutenberg to /root/nltk_data...\n",
            "[nltk_data]    |   Unzipping corpora/gutenberg.zip.\n",
            "[nltk_data]    | Downloading package ieer to /root/nltk_data...\n",
            "[nltk_data]    |   Unzipping corpora/ieer.zip.\n",
            "[nltk_data]    | Downloading package inaugural to /root/nltk_data...\n",
            "[nltk_data]    |   Unzipping corpora/inaugural.zip.\n",
            "[nltk_data]    | Downloading package indian to /root/nltk_data...\n",
            "[nltk_data]    |   Unzipping corpora/indian.zip.\n",
            "[nltk_data]    | Downloading package jeita to /root/nltk_data...\n",
            "[nltk_data]    | Downloading package kimmo to /root/nltk_data...\n",
            "[nltk_data]    |   Unzipping corpora/kimmo.zip.\n",
            "[nltk_data]    | Downloading package knbc to /root/nltk_data...\n",
            "[nltk_data]    | Downloading package lin_thesaurus to\n",
            "[nltk_data]    |     /root/nltk_data...\n",
            "[nltk_data]    |   Unzipping corpora/lin_thesaurus.zip.\n",
            "[nltk_data]    | Downloading package mac_morpho to /root/nltk_data...\n",
            "[nltk_data]    |   Unzipping corpora/mac_morpho.zip.\n",
            "[nltk_data]    | Downloading package machado to /root/nltk_data...\n",
            "[nltk_data]    | Downloading package masc_tagged to /root/nltk_data...\n",
            "[nltk_data]    | Downloading package moses_sample to\n",
            "[nltk_data]    |     /root/nltk_data...\n",
            "[nltk_data]    |   Unzipping models/moses_sample.zip.\n",
            "[nltk_data]    | Downloading package movie_reviews to\n",
            "[nltk_data]    |     /root/nltk_data...\n",
            "[nltk_data]    |   Unzipping corpora/movie_reviews.zip.\n",
            "[nltk_data]    | Downloading package names to /root/nltk_data...\n",
            "[nltk_data]    |   Unzipping corpora/names.zip.\n",
            "[nltk_data]    | Downloading package nombank.1.0 to /root/nltk_data...\n",
            "[nltk_data]    | Downloading package nps_chat to /root/nltk_data...\n",
            "[nltk_data]    |   Unzipping corpora/nps_chat.zip.\n",
            "[nltk_data]    | Downloading package omw to /root/nltk_data...\n",
            "[nltk_data]    |   Unzipping corpora/omw.zip.\n",
            "[nltk_data]    | Downloading package opinion_lexicon to\n",
            "[nltk_data]    |     /root/nltk_data...\n",
            "[nltk_data]    |   Unzipping corpora/opinion_lexicon.zip.\n",
            "[nltk_data]    | Downloading package paradigms to /root/nltk_data...\n",
            "[nltk_data]    |   Unzipping corpora/paradigms.zip.\n",
            "[nltk_data]    | Downloading package pil to /root/nltk_data...\n",
            "[nltk_data]    |   Unzipping corpora/pil.zip.\n",
            "[nltk_data]    | Downloading package pl196x to /root/nltk_data...\n",
            "[nltk_data]    |   Unzipping corpora/pl196x.zip.\n",
            "[nltk_data]    | Downloading package ppattach to /root/nltk_data...\n",
            "[nltk_data]    |   Unzipping corpora/ppattach.zip.\n",
            "[nltk_data]    | Downloading package problem_reports to\n",
            "[nltk_data]    |     /root/nltk_data...\n",
            "[nltk_data]    |   Unzipping corpora/problem_reports.zip.\n",
            "[nltk_data]    | Downloading package propbank to /root/nltk_data...\n",
            "[nltk_data]    | Downloading package ptb to /root/nltk_data...\n",
            "[nltk_data]    |   Unzipping corpora/ptb.zip.\n",
            "[nltk_data]    | Downloading package product_reviews_1 to\n",
            "[nltk_data]    |     /root/nltk_data...\n",
            "[nltk_data]    |   Unzipping corpora/product_reviews_1.zip.\n",
            "[nltk_data]    | Downloading package product_reviews_2 to\n",
            "[nltk_data]    |     /root/nltk_data...\n",
            "[nltk_data]    |   Unzipping corpora/product_reviews_2.zip.\n",
            "[nltk_data]    | Downloading package pros_cons to /root/nltk_data...\n",
            "[nltk_data]    |   Unzipping corpora/pros_cons.zip.\n",
            "[nltk_data]    | Downloading package qc to /root/nltk_data...\n",
            "[nltk_data]    |   Unzipping corpora/qc.zip.\n",
            "[nltk_data]    | Downloading package reuters to /root/nltk_data...\n",
            "[nltk_data]    | Downloading package rte to /root/nltk_data...\n",
            "[nltk_data]    |   Unzipping corpora/rte.zip.\n",
            "[nltk_data]    | Downloading package semcor to /root/nltk_data...\n",
            "[nltk_data]    | Downloading package senseval to /root/nltk_data...\n",
            "[nltk_data]    |   Unzipping corpora/senseval.zip.\n",
            "[nltk_data]    | Downloading package sentiwordnet to\n",
            "[nltk_data]    |     /root/nltk_data...\n",
            "[nltk_data]    |   Unzipping corpora/sentiwordnet.zip.\n",
            "[nltk_data]    | Downloading package sentence_polarity to\n",
            "[nltk_data]    |     /root/nltk_data...\n",
            "[nltk_data]    |   Unzipping corpora/sentence_polarity.zip.\n",
            "[nltk_data]    | Downloading package shakespeare to /root/nltk_data...\n",
            "[nltk_data]    |   Unzipping corpora/shakespeare.zip.\n",
            "[nltk_data]    | Downloading package sinica_treebank to\n",
            "[nltk_data]    |     /root/nltk_data...\n",
            "[nltk_data]    |   Unzipping corpora/sinica_treebank.zip.\n",
            "[nltk_data]    | Downloading package smultron to /root/nltk_data...\n",
            "[nltk_data]    |   Unzipping corpora/smultron.zip.\n",
            "[nltk_data]    | Downloading package state_union to /root/nltk_data...\n",
            "[nltk_data]    |   Unzipping corpora/state_union.zip.\n",
            "[nltk_data]    | Downloading package stopwords to /root/nltk_data...\n",
            "[nltk_data]    |   Unzipping corpora/stopwords.zip.\n",
            "[nltk_data]    | Downloading package subjectivity to\n",
            "[nltk_data]    |     /root/nltk_data...\n",
            "[nltk_data]    |   Unzipping corpora/subjectivity.zip.\n",
            "[nltk_data]    | Downloading package swadesh to /root/nltk_data...\n",
            "[nltk_data]    |   Unzipping corpora/swadesh.zip.\n",
            "[nltk_data]    | Downloading package switchboard to /root/nltk_data...\n",
            "[nltk_data]    |   Unzipping corpora/switchboard.zip.\n",
            "[nltk_data]    | Downloading package timit to /root/nltk_data...\n",
            "[nltk_data]    |   Unzipping corpora/timit.zip.\n",
            "[nltk_data]    | Downloading package toolbox to /root/nltk_data...\n",
            "[nltk_data]    |   Unzipping corpora/toolbox.zip.\n",
            "[nltk_data]    | Downloading package treebank to /root/nltk_data...\n",
            "[nltk_data]    |   Unzipping corpora/treebank.zip.\n",
            "[nltk_data]    | Downloading package twitter_samples to\n",
            "[nltk_data]    |     /root/nltk_data...\n",
            "[nltk_data]    |   Unzipping corpora/twitter_samples.zip.\n",
            "[nltk_data]    | Downloading package udhr to /root/nltk_data...\n",
            "[nltk_data]    |   Unzipping corpora/udhr.zip.\n",
            "[nltk_data]    | Downloading package udhr2 to /root/nltk_data...\n",
            "[nltk_data]    |   Unzipping corpora/udhr2.zip.\n",
            "[nltk_data]    | Downloading package unicode_samples to\n",
            "[nltk_data]    |     /root/nltk_data...\n",
            "[nltk_data]    |   Unzipping corpora/unicode_samples.zip.\n",
            "[nltk_data]    | Downloading package universal_treebanks_v20 to\n",
            "[nltk_data]    |     /root/nltk_data...\n",
            "[nltk_data]    | Downloading package verbnet to /root/nltk_data...\n",
            "[nltk_data]    |   Unzipping corpora/verbnet.zip.\n",
            "[nltk_data]    | Downloading package verbnet3 to /root/nltk_data...\n",
            "[nltk_data]    |   Unzipping corpora/verbnet3.zip.\n",
            "[nltk_data]    | Downloading package webtext to /root/nltk_data...\n",
            "[nltk_data]    |   Unzipping corpora/webtext.zip.\n",
            "[nltk_data]    | Downloading package wordnet to /root/nltk_data...\n",
            "[nltk_data]    |   Unzipping corpora/wordnet.zip.\n",
            "[nltk_data]    | Downloading package wordnet_ic to /root/nltk_data...\n",
            "[nltk_data]    |   Unzipping corpora/wordnet_ic.zip.\n",
            "[nltk_data]    | Downloading package words to /root/nltk_data...\n",
            "[nltk_data]    |   Unzipping corpora/words.zip.\n",
            "[nltk_data]    | Downloading package ycoe to /root/nltk_data...\n",
            "[nltk_data]    |   Unzipping corpora/ycoe.zip.\n",
            "[nltk_data]    | Downloading package rslp to /root/nltk_data...\n",
            "[nltk_data]    |   Unzipping stemmers/rslp.zip.\n",
            "[nltk_data]    | Downloading package maxent_treebank_pos_tagger to\n",
            "[nltk_data]    |     /root/nltk_data...\n",
            "[nltk_data]    |   Unzipping taggers/maxent_treebank_pos_tagger.zip.\n",
            "[nltk_data]    | Downloading package universal_tagset to\n",
            "[nltk_data]    |     /root/nltk_data...\n",
            "[nltk_data]    |   Unzipping taggers/universal_tagset.zip.\n",
            "[nltk_data]    | Downloading package maxent_ne_chunker to\n",
            "[nltk_data]    |     /root/nltk_data...\n",
            "[nltk_data]    |   Unzipping chunkers/maxent_ne_chunker.zip.\n",
            "[nltk_data]    | Downloading package punkt to /root/nltk_data...\n",
            "[nltk_data]    |   Unzipping tokenizers/punkt.zip.\n",
            "[nltk_data]    | Downloading package book_grammars to\n",
            "[nltk_data]    |     /root/nltk_data...\n",
            "[nltk_data]    |   Unzipping grammars/book_grammars.zip.\n",
            "[nltk_data]    | Downloading package sample_grammars to\n",
            "[nltk_data]    |     /root/nltk_data...\n",
            "[nltk_data]    |   Unzipping grammars/sample_grammars.zip.\n",
            "[nltk_data]    | Downloading package spanish_grammars to\n",
            "[nltk_data]    |     /root/nltk_data...\n",
            "[nltk_data]    |   Unzipping grammars/spanish_grammars.zip.\n",
            "[nltk_data]    | Downloading package basque_grammars to\n",
            "[nltk_data]    |     /root/nltk_data...\n",
            "[nltk_data]    |   Unzipping grammars/basque_grammars.zip.\n",
            "[nltk_data]    | Downloading package large_grammars to\n",
            "[nltk_data]    |     /root/nltk_data...\n",
            "[nltk_data]    |   Unzipping grammars/large_grammars.zip.\n",
            "[nltk_data]    | Downloading package tagsets to /root/nltk_data...\n",
            "[nltk_data]    |   Unzipping help/tagsets.zip.\n",
            "[nltk_data]    | Downloading package snowball_data to\n",
            "[nltk_data]    |     /root/nltk_data...\n",
            "[nltk_data]    | Downloading package bllip_wsj_no_aux to\n",
            "[nltk_data]    |     /root/nltk_data...\n",
            "[nltk_data]    |   Unzipping models/bllip_wsj_no_aux.zip.\n",
            "[nltk_data]    | Downloading package word2vec_sample to\n",
            "[nltk_data]    |     /root/nltk_data...\n",
            "[nltk_data]    |   Unzipping models/word2vec_sample.zip.\n",
            "[nltk_data]    | Downloading package panlex_swadesh to\n",
            "[nltk_data]    |     /root/nltk_data...\n",
            "[nltk_data]    | Downloading package mte_teip5 to /root/nltk_data...\n",
            "[nltk_data]    |   Unzipping corpora/mte_teip5.zip.\n",
            "[nltk_data]    | Downloading package averaged_perceptron_tagger to\n",
            "[nltk_data]    |     /root/nltk_data...\n",
            "[nltk_data]    |   Unzipping taggers/averaged_perceptron_tagger.zip.\n",
            "[nltk_data]    | Downloading package averaged_perceptron_tagger_ru to\n",
            "[nltk_data]    |     /root/nltk_data...\n",
            "[nltk_data]    |   Unzipping\n",
            "[nltk_data]    |       taggers/averaged_perceptron_tagger_ru.zip.\n",
            "[nltk_data]    | Downloading package perluniprops to\n",
            "[nltk_data]    |     /root/nltk_data...\n",
            "[nltk_data]    |   Unzipping misc/perluniprops.zip.\n",
            "[nltk_data]    | Downloading package nonbreaking_prefixes to\n",
            "[nltk_data]    |     /root/nltk_data...\n",
            "[nltk_data]    |   Unzipping corpora/nonbreaking_prefixes.zip.\n",
            "[nltk_data]    | Downloading package vader_lexicon to\n",
            "[nltk_data]    |     /root/nltk_data...\n",
            "[nltk_data]    | Downloading package porter_test to /root/nltk_data...\n",
            "[nltk_data]    |   Unzipping stemmers/porter_test.zip.\n",
            "[nltk_data]    | Downloading package wmt15_eval to /root/nltk_data...\n",
            "[nltk_data]    |   Unzipping models/wmt15_eval.zip.\n",
            "[nltk_data]    | Downloading package mwa_ppdb to /root/nltk_data...\n",
            "[nltk_data]    |   Unzipping misc/mwa_ppdb.zip.\n",
            "[nltk_data]    | \n",
            "[nltk_data]  Done downloading collection all\n"
          ],
          "name": "stdout"
        },
        {
          "output_type": "execute_result",
          "data": {
            "text/plain": [
              "True"
            ]
          },
          "metadata": {
            "tags": []
          },
          "execution_count": 16
        }
      ]
    },
    {
      "cell_type": "code",
      "metadata": {
        "colab": {
          "base_uri": "https://localhost:8080/"
        },
        "id": "VB7pvLwyfSmU",
        "outputId": "0ae68387-d0fa-453e-a844-ae7716ee0432"
      },
      "source": [
        "#Lemmatization\n",
        "from nltk.stem import WordNetLemmatizer\n",
        "lemma = WordNetLemmatizer()\n",
        "for i in range(0, len(words[i])):\n",
        "    words[i] = lemma.lemmatize(words[i], pos='v')\n",
        "print(words) "
      ],
      "execution_count": 17,
      "outputs": [
        {
          "output_type": "stream",
          "text": [
            "['be', 'dummi', 'dataset', 'is', 'of', 'taught', 'cours', 'text', 'mine']\n"
          ],
          "name": "stdout"
        }
      ]
    },
    {
      "cell_type": "code",
      "metadata": {
        "colab": {
          "base_uri": "https://localhost:8080/"
        },
        "id": "W2R6XrlSfT2u",
        "outputId": "74cb2a7b-0ab2-4815-8750-c9379dfb57ae"
      },
      "source": [
        "\n",
        "corpus = 'i like this table in my room'\n",
        "words = corpus.split(' ')\n",
        "\n",
        "from nltk import pos_tag\n",
        "tags = pos_tag(words)\n",
        "\n",
        "for i in range(0, len(tags)):\n",
        "    if tags[i][1] == 'DT':\n",
        "        print(tags[i])"
      ],
      "execution_count": 19,
      "outputs": [
        {
          "output_type": "stream",
          "text": [
            "('this', 'DT')\n"
          ],
          "name": "stdout"
        }
      ]
    },
    {
      "cell_type": "code",
      "metadata": {
        "colab": {
          "base_uri": "https://localhost:8080/"
        },
        "id": "X15YKMhkgMqJ",
        "outputId": "d01f6570-ccc9-446b-be14-7ada06ef481a"
      },
      "source": [
        "corpus = 'He owes me 22.50 dollars. Which is due by the next day.'\n",
        "print(corpus.split('.'))\n",
        "\n",
        "from nltk.tokenize import sent_tokenize, word_tokenize\n",
        "print(sent_tokenize(corpus))\n",
        "\n"
      ],
      "execution_count": 21,
      "outputs": [
        {
          "output_type": "stream",
          "text": [
            "['He owes me 22', '50 dollars', ' Which is due by the next day', '']\n",
            "['He owes me 22.50 dollars.', 'Which is due by the next day.']\n"
          ],
          "name": "stdout"
        }
      ]
    },
    {
      "cell_type": "code",
      "metadata": {
        "colab": {
          "base_uri": "https://localhost:8080/"
        },
        "id": "oJuWmuUwgrKs",
        "outputId": "2f01bfd9-14e4-45cf-b2f5-4fdcfdd155b2"
      },
      "source": [
        "for sent in sent_tokenize(corpus):\n",
        "    print(word_tokenize(sent))"
      ],
      "execution_count": 22,
      "outputs": [
        {
          "output_type": "stream",
          "text": [
            "['He', 'owes', 'me', '22.50', 'dollars', '.']\n",
            "['Which', 'is', 'due', 'by', 'the', 'next', 'day', '.']\n"
          ],
          "name": "stdout"
        }
      ]
    },
    {
      "cell_type": "code",
      "metadata": {
        "colab": {
          "base_uri": "https://localhost:8080/"
        },
        "id": "gNHdVMAYgypk",
        "outputId": "e98ff351-9215-4dff-cc10-61f5b08f605d"
      },
      "source": [
        "\n",
        "import requests\n",
        "session = requests.Session()\n",
        "session.trust_env = False\n",
        "\n",
        "#proxies = {\n",
        "#          'http' : 'http://192.168.12.84:808',\n",
        "#          'https' : 'https://192.168.23.38:808'\n",
        "#       }\n",
        "\n",
        "response = session.get('https://en.wikipedia.org/wiki/Natural_language_processing')\n",
        "print(response)\n"
      ],
      "execution_count": 24,
      "outputs": [
        {
          "output_type": "stream",
          "text": [
            "<Response [200]>\n"
          ],
          "name": "stdout"
        }
      ]
    },
    {
      "cell_type": "code",
      "metadata": {
        "colab": {
          "base_uri": "https://localhost:8080/"
        },
        "id": "SoqmRZzphCw0",
        "outputId": "a3d4c20c-7181-43a6-e946-7d0793cc94d1"
      },
      "source": [
        "print(response.text)"
      ],
      "execution_count": 25,
      "outputs": [
        {
          "output_type": "stream",
          "text": [
            "<!DOCTYPE html>\n",
            "<html class=\"client-nojs\" lang=\"en\" dir=\"ltr\">\n",
            "<head>\n",
            "<meta charset=\"UTF-8\"/>\n",
            "<title>Natural language processing - Wikipedia</title>\n",
            "<script>document.documentElement.className=\"client-js\";RLCONF={\"wgBreakFrames\":!1,\"wgSeparatorTransformTable\":[\"\",\"\"],\"wgDigitTransformTable\":[\"\",\"\"],\"wgDefaultDateFormat\":\"dmy\",\"wgMonthNames\":[\"\",\"January\",\"February\",\"March\",\"April\",\"May\",\"June\",\"July\",\"August\",\"September\",\"October\",\"November\",\"December\"],\"wgRequestId\":\"X@BahQpAMMIAAqK493sAAAEB\",\"wgCSPNonce\":!1,\"wgCanonicalNamespace\":\"\",\"wgCanonicalSpecialPageName\":!1,\"wgNamespaceNumber\":0,\"wgPageName\":\"Natural_language_processing\",\"wgTitle\":\"Natural language processing\",\"wgCurRevisionId\":995487233,\"wgRevisionId\":995487233,\"wgArticleId\":21652,\"wgIsArticle\":!0,\"wgIsRedirect\":!1,\"wgAction\":\"view\",\"wgUserName\":null,\"wgUserGroups\":[\"*\"],\"wgCategories\":[\"CS1 maint: location\",\"Articles with short description\",\"Short description matches Wikidata\",\"All accuracy disputes\",\"Articles with disputed statements from June 2018\",\"Commons link from Wikidata\",\"Wikipedia articles with LCCN identifiers\",\"Wikipedia articles with NDL identifiers\",\n",
            "\"Natural language processing\",\"Computational linguistics\",\"Speech recognition\",\"Computational fields of study\",\"Artificial intelligence\"],\"wgPageContentLanguage\":\"en\",\"wgPageContentModel\":\"wikitext\",\"wgRelevantPageName\":\"Natural_language_processing\",\"wgRelevantArticleId\":21652,\"wgIsProbablyEditable\":!0,\"wgRelevantPageIsProbablyEditable\":!0,\"wgRestrictionEdit\":[],\"wgRestrictionMove\":[],\"wgMediaViewerOnClick\":!0,\"wgMediaViewerEnabledByDefault\":!0,\"wgPopupsReferencePreviews\":!1,\"wgPopupsConflictsWithNavPopupGadget\":!1,\"wgPopupsConflictsWithRefTooltipsGadget\":!0,\"wgVisualEditor\":{\"pageLanguageCode\":\"en\",\"pageLanguageDir\":\"ltr\",\"pageVariantFallbacks\":\"en\"},\"wgMFDisplayWikibaseDescriptions\":{\"search\":!0,\"nearby\":!0,\"watchlist\":!0,\"tagline\":!1},\"wgWMESchemaEditAttemptStepOversample\":!1,\"wgULSCurrentAutonym\":\"English\",\"wgNoticeProject\":\"wikipedia\",\"wgCentralAuthMobileDomain\":!1,\"wgEditSubmitButtonLabelPublish\":!0,\"wgULSPosition\":\"interlanguage\",\n",
            "\"wgWikibaseItemId\":\"Q30642\"};RLSTATE={\"ext.globalCssJs.user.styles\":\"ready\",\"site.styles\":\"ready\",\"noscript\":\"ready\",\"user.styles\":\"ready\",\"ext.globalCssJs.user\":\"ready\",\"user\":\"ready\",\"user.options\":\"loading\",\"ext.cite.styles\":\"ready\",\"ext.math.styles\":\"ready\",\"ext.categoryTree.styles\":\"ready\",\"skins.vector.styles.legacy\":\"ready\",\"jquery.makeCollapsible.styles\":\"ready\",\"ext.visualEditor.desktopArticleTarget.noscript\":\"ready\",\"ext.uls.interlanguage\":\"ready\",\"ext.wikimediaBadges\":\"ready\",\"wikibase.client.init\":\"ready\"};RLPAGEMODULES=[\"ext.cite.ux-enhancements\",\"ext.math.scripts\",\"ext.categoryTree\",\"site\",\"mediawiki.page.ready\",\"jquery.makeCollapsible\",\"mediawiki.toc\",\"skins.vector.legacy.js\",\"ext.gadget.ReferenceTooltips\",\"ext.gadget.charinsert\",\"ext.gadget.extra-toolbar-buttons\",\"ext.gadget.refToolbar\",\"ext.gadget.switcher\",\"ext.centralauth.centralautologin\",\"mmv.head\",\"mmv.bootstrap.autostart\",\"ext.popups\",\"ext.visualEditor.desktopArticleTarget.init\",\"ext.visualEditor.targetLoader\",\n",
            "\"ext.eventLogging\",\"ext.wikimediaEvents\",\"ext.navigationTiming\",\"ext.uls.compactlinks\",\"ext.uls.interface\",\"ext.cx.eventlogging.campaigns\",\"ext.centralNotice.geoIP\",\"ext.centralNotice.startUp\"];</script>\n",
            "<script>(RLQ=window.RLQ||[]).push(function(){mw.loader.implement(\"user.options@1hzgi\",function($,jQuery,require,module){/*@nomin*/mw.user.tokens.set({\"patrolToken\":\"+\\\\\",\"watchToken\":\"+\\\\\",\"csrfToken\":\"+\\\\\"});\n",
            "});});</script>\n",
            "<link rel=\"stylesheet\" href=\"/w/load.php?lang=en&amp;modules=ext.categoryTree.styles%7Cext.cite.styles%7Cext.math.styles%7Cext.uls.interlanguage%7Cext.visualEditor.desktopArticleTarget.noscript%7Cext.wikimediaBadges%7Cjquery.makeCollapsible.styles%7Cskins.vector.styles.legacy%7Cwikibase.client.init&amp;only=styles&amp;skin=vector\"/>\n",
            "<script async=\"\" src=\"/w/load.php?lang=en&amp;modules=startup&amp;only=scripts&amp;raw=1&amp;skin=vector\"></script>\n",
            "<meta name=\"ResourceLoaderDynamicStyles\" content=\"\"/>\n",
            "<link rel=\"stylesheet\" href=\"/w/load.php?lang=en&amp;modules=site.styles&amp;only=styles&amp;skin=vector\"/>\n",
            "<meta name=\"generator\" content=\"MediaWiki 1.36.0-wmf.22\"/>\n",
            "<meta name=\"referrer\" content=\"origin\"/>\n",
            "<meta name=\"referrer\" content=\"origin-when-crossorigin\"/>\n",
            "<meta name=\"referrer\" content=\"origin-when-cross-origin\"/>\n",
            "<meta property=\"og:image\" content=\"https://upload.wikimedia.org/wikipedia/commons/8/8b/Automated_online_assistant.png\"/>\n",
            "<link rel=\"preconnect\" href=\"//upload.wikimedia.org\"/>\n",
            "<link rel=\"alternate\" media=\"only screen and (max-width: 720px)\" href=\"//en.m.wikipedia.org/wiki/Natural_language_processing\"/>\n",
            "<link rel=\"alternate\" type=\"application/x-wiki\" title=\"Edit this page\" href=\"/w/index.php?title=Natural_language_processing&amp;action=edit\"/>\n",
            "<link rel=\"edit\" title=\"Edit this page\" href=\"/w/index.php?title=Natural_language_processing&amp;action=edit\"/>\n",
            "<link rel=\"apple-touch-icon\" href=\"/static/apple-touch/wikipedia.png\"/>\n",
            "<link rel=\"shortcut icon\" href=\"/static/favicon/wikipedia.ico\"/>\n",
            "<link rel=\"search\" type=\"application/opensearchdescription+xml\" href=\"/w/opensearch_desc.php\" title=\"Wikipedia (en)\"/>\n",
            "<link rel=\"EditURI\" type=\"application/rsd+xml\" href=\"//en.wikipedia.org/w/api.php?action=rsd\"/>\n",
            "<link rel=\"license\" href=\"//creativecommons.org/licenses/by-sa/3.0/\"/>\n",
            "<link rel=\"canonical\" href=\"https://en.wikipedia.org/wiki/Natural_language_processing\"/>\n",
            "<link rel=\"dns-prefetch\" href=\"//login.wikimedia.org\"/>\n",
            "<link rel=\"dns-prefetch\" href=\"//meta.wikimedia.org\" />\n",
            "</head>\n",
            "<body class=\"mediawiki ltr sitedir-ltr mw-hide-empty-elt ns-0 ns-subject mw-editable page-Natural_language_processing rootpage-Natural_language_processing skin-vector action-view skin-vector-legacy\"><div id=\"mw-page-base\" class=\"noprint\"></div>\n",
            "<div id=\"mw-head-base\" class=\"noprint\"></div>\n",
            "<div id=\"content\" class=\"mw-body\" role=\"main\">\n",
            "\t<a id=\"top\"></a>\n",
            "\t<div id=\"siteNotice\" class=\"mw-body-content\"><!-- CentralNotice --></div>\n",
            "\t<div class=\"mw-indicators mw-body-content\">\n",
            "\t</div>\n",
            "\t<h1 id=\"firstHeading\" class=\"firstHeading\" lang=\"en\">Natural language processing</h1>\n",
            "\t<div id=\"bodyContent\" class=\"mw-body-content\">\n",
            "\t\t<div id=\"siteSub\" class=\"noprint\">From Wikipedia, the free encyclopedia</div>\n",
            "\t\t<div id=\"contentSub\"></div>\n",
            "\t\t<div id=\"contentSub2\"></div>\n",
            "\t\t\n",
            "\t\t<div id=\"jump-to-nav\"></div>\n",
            "\t\t<a class=\"mw-jump-link\" href=\"#mw-head\">Jump to navigation</a>\n",
            "\t\t<a class=\"mw-jump-link\" href=\"#searchInput\">Jump to search</a>\n",
            "\t\t<div id=\"mw-content-text\" lang=\"en\" dir=\"ltr\" class=\"mw-content-ltr\"><div class=\"mw-parser-output\"><div class=\"shortdescription nomobile noexcerpt noprint searchaux\" style=\"display:none\">Field of computer science and linguistics</div>\n",
            "<div class=\"thumb tright\"><div class=\"thumbinner\" style=\"width:202px;\"><a href=\"/wiki/File:Automated_online_assistant.png\" class=\"image\"><img alt=\"\" src=\"//upload.wikimedia.org/wikipedia/commons/thumb/8/8b/Automated_online_assistant.png/200px-Automated_online_assistant.png\" decoding=\"async\" width=\"200\" height=\"251\" class=\"thumbimage\" srcset=\"//upload.wikimedia.org/wikipedia/commons/thumb/8/8b/Automated_online_assistant.png/300px-Automated_online_assistant.png 1.5x, //upload.wikimedia.org/wikipedia/commons/8/8b/Automated_online_assistant.png 2x\" data-file-width=\"400\" data-file-height=\"501\" /></a>  <div class=\"thumbcaption\"><div class=\"magnify\"><a href=\"/wiki/File:Automated_online_assistant.png\" class=\"internal\" title=\"Enlarge\"></a></div>An <a href=\"/wiki/Automated_online_assistant\" class=\"mw-redirect\" title=\"Automated online assistant\">automated online assistant</a> providing <a href=\"/wiki/Customer_service\" title=\"Customer service\">customer service</a> on a web page, an example of an application where natural language processing is a major component.<sup id=\"cite_ref-Kongthon_1-0\" class=\"reference\"><a href=\"#cite_note-Kongthon-1\">&#91;1&#93;</a></sup></div></div></div>\n",
            "<p><b>Natural language processing</b> (<b>NLP</b>) is a subfield of <a href=\"/wiki/Linguistics\" title=\"Linguistics\">linguistics</a>, <a href=\"/wiki/Computer_science\" title=\"Computer science\">computer science</a>, and <a href=\"/wiki/Artificial_intelligence\" title=\"Artificial intelligence\">artificial intelligence</a> concerned with the interactions between computers and human language, in particular how to program computers to process and analyze large amounts of <a href=\"/wiki/Natural_language\" title=\"Natural language\">natural language</a> data.  The result is a computer capable of \"understanding\" the contents of documents, including the contextual nuances of the language within them. The technology can then accurately extract information and insights contained in the documents as well as categorize and organize the documents themselves. \n",
            "</p><p>Challenges in natural language processing frequently involve <a href=\"/wiki/Speech_recognition\" title=\"Speech recognition\">speech recognition</a>, <a href=\"/wiki/Natural_language_understanding\" class=\"mw-redirect\" title=\"Natural language understanding\">natural language understanding</a>, and <a href=\"/wiki/Natural-language_generation\" title=\"Natural-language generation\">natural-language generation</a>.\n",
            "</p>\n",
            "<div id=\"toc\" class=\"toc\" role=\"navigation\" aria-labelledby=\"mw-toc-heading\"><input type=\"checkbox\" role=\"button\" id=\"toctogglecheckbox\" class=\"toctogglecheckbox\" style=\"display:none\" /><div class=\"toctitle\" lang=\"en\" dir=\"ltr\"><h2 id=\"mw-toc-heading\">Contents</h2><span class=\"toctogglespan\"><label class=\"toctogglelabel\" for=\"toctogglecheckbox\"></label></span></div>\n",
            "<ul>\n",
            "<li class=\"toclevel-1 tocsection-1\"><a href=\"#History\"><span class=\"tocnumber\">1</span> <span class=\"toctext\">History</span></a>\n",
            "<ul>\n",
            "<li class=\"toclevel-2 tocsection-2\"><a href=\"#Symbolic_NLP_(1950s_-_early_1990s)\"><span class=\"tocnumber\">1.1</span> <span class=\"toctext\">Symbolic NLP (1950s - early 1990s)</span></a></li>\n",
            "<li class=\"toclevel-2 tocsection-3\"><a href=\"#Statistical_NLP_(1990s_-_2010s)\"><span class=\"tocnumber\">1.2</span> <span class=\"toctext\">Statistical NLP (1990s - 2010s)</span></a></li>\n",
            "<li class=\"toclevel-2 tocsection-4\"><a href=\"#Neural_NLP_(present)\"><span class=\"tocnumber\">1.3</span> <span class=\"toctext\">Neural NLP (present)</span></a></li>\n",
            "</ul>\n",
            "</li>\n",
            "<li class=\"toclevel-1 tocsection-5\"><a href=\"#Methods:_Rules,_statistics,_neural_networks\"><span class=\"tocnumber\">2</span> <span class=\"toctext\">Methods: Rules, statistics, neural networks</span></a>\n",
            "<ul>\n",
            "<li class=\"toclevel-2 tocsection-6\"><a href=\"#Statistical_methods\"><span class=\"tocnumber\">2.1</span> <span class=\"toctext\">Statistical methods</span></a></li>\n",
            "<li class=\"toclevel-2 tocsection-7\"><a href=\"#Neural_networks\"><span class=\"tocnumber\">2.2</span> <span class=\"toctext\">Neural networks</span></a></li>\n",
            "</ul>\n",
            "</li>\n",
            "<li class=\"toclevel-1 tocsection-8\"><a href=\"#Common_NLP_Tasks\"><span class=\"tocnumber\">3</span> <span class=\"toctext\">Common NLP Tasks</span></a>\n",
            "<ul>\n",
            "<li class=\"toclevel-2 tocsection-9\"><a href=\"#Text_and_speech_processing\"><span class=\"tocnumber\">3.1</span> <span class=\"toctext\">Text and speech processing</span></a></li>\n",
            "<li class=\"toclevel-2 tocsection-10\"><a href=\"#Morphological_analysis\"><span class=\"tocnumber\">3.2</span> <span class=\"toctext\">Morphological analysis</span></a></li>\n",
            "<li class=\"toclevel-2 tocsection-11\"><a href=\"#Syntactic_analysis\"><span class=\"tocnumber\">3.3</span> <span class=\"toctext\">Syntactic analysis</span></a></li>\n",
            "<li class=\"toclevel-2 tocsection-12\"><a href=\"#Lexical_semantics_(of_individual_words_in_context)\"><span class=\"tocnumber\">3.4</span> <span class=\"toctext\">Lexical semantics (of individual words in context)</span></a></li>\n",
            "<li class=\"toclevel-2 tocsection-13\"><a href=\"#Relational_semantics_(semantics_of_individual_sentences)\"><span class=\"tocnumber\">3.5</span> <span class=\"toctext\">Relational semantics (semantics of individual sentences)</span></a></li>\n",
            "<li class=\"toclevel-2 tocsection-14\"><a href=\"#Discourse_(semantics_beyond_individual_sentences)\"><span class=\"tocnumber\">3.6</span> <span class=\"toctext\">Discourse (semantics beyond individual sentences)</span></a></li>\n",
            "<li class=\"toclevel-2 tocsection-15\"><a href=\"#Higher-level_NLP_applications\"><span class=\"tocnumber\">3.7</span> <span class=\"toctext\">Higher-level NLP applications</span></a></li>\n",
            "</ul>\n",
            "</li>\n",
            "<li class=\"toclevel-1 tocsection-16\"><a href=\"#Cognition_and_NLP\"><span class=\"tocnumber\">4</span> <span class=\"toctext\">Cognition and NLP</span></a></li>\n",
            "<li class=\"toclevel-1 tocsection-17\"><a href=\"#See_also\"><span class=\"tocnumber\">5</span> <span class=\"toctext\">See also</span></a></li>\n",
            "<li class=\"toclevel-1 tocsection-18\"><a href=\"#References\"><span class=\"tocnumber\">6</span> <span class=\"toctext\">References</span></a></li>\n",
            "<li class=\"toclevel-1 tocsection-19\"><a href=\"#Further_reading\"><span class=\"tocnumber\">7</span> <span class=\"toctext\">Further reading</span></a></li>\n",
            "</ul>\n",
            "</div>\n",
            "\n",
            "<h2><span class=\"mw-headline\" id=\"History\">History</span><span class=\"mw-editsection\"><span class=\"mw-editsection-bracket\">[</span><a href=\"/w/index.php?title=Natural_language_processing&amp;action=edit&amp;section=1\" title=\"Edit section: History\">edit</a><span class=\"mw-editsection-bracket\">]</span></span></h2>\n",
            "<div role=\"note\" class=\"hatnote navigation-not-searchable\">Further information: <a href=\"/wiki/History_of_natural_language_processing\" title=\"History of natural language processing\">History of natural language processing</a></div>\n",
            "<p>Natural language processing has its roots in the 1950s. Already in 1950, <a href=\"/wiki/Alan_Turing\" title=\"Alan Turing\">Alan Turing</a> published an article titled \"<a href=\"/wiki/Computing_Machinery_and_Intelligence\" title=\"Computing Machinery and Intelligence\">Computing Machinery and Intelligence</a>\" which proposed what is now called the <a href=\"/wiki/Turing_test\" title=\"Turing test\">Turing test</a> as a criterion of intelligence, a task that involves the automated interpretation and generation of natural language, but at the time not articulated as a problem separate from artificial intelligence.\n",
            "</p>\n",
            "<h3><span id=\"Symbolic_NLP_.281950s_-_early_1990s.29\"></span><span class=\"mw-headline\" id=\"Symbolic_NLP_(1950s_-_early_1990s)\">Symbolic NLP (1950s - early 1990s)</span><span class=\"mw-editsection\"><span class=\"mw-editsection-bracket\">[</span><a href=\"/w/index.php?title=Natural_language_processing&amp;action=edit&amp;section=2\" title=\"Edit section: Symbolic NLP (1950s - early 1990s)\">edit</a><span class=\"mw-editsection-bracket\">]</span></span></h3>\n",
            "<p>The premise of symbolic NLP is well-summarized by <a href=\"/wiki/John_Searle\" title=\"John Searle\">John Searle</a>'s <a href=\"/wiki/Chinese_room\" title=\"Chinese room\">Chinese room</a> experiment: Given a collection of rules (e.g., a Chinese phrasebook, with questions and matching answers), the computer emulates natural language understanding (or other NLP tasks) by applying those rules to the data it is confronted with.\n",
            "</p>\n",
            "<ul><li><b>1950s</b>: The <a href=\"/wiki/Georgetown-IBM_experiment\" class=\"mw-redirect\" title=\"Georgetown-IBM experiment\">Georgetown experiment</a> in 1954 involved fully <a href=\"/wiki/Automatic_translation\" class=\"mw-redirect\" title=\"Automatic translation\">automatic translation</a> of more than sixty Russian sentences into English. The authors claimed that within three or five years, machine translation would be a solved problem.<sup id=\"cite_ref-2\" class=\"reference\"><a href=\"#cite_note-2\">&#91;2&#93;</a></sup>  However, real progress was much slower, and after the <a href=\"/wiki/ALPAC\" title=\"ALPAC\">ALPAC report</a> in 1966, which found that ten-year-long research had failed to fulfill the expectations, funding for machine translation was dramatically reduced.  Little further research in machine translation was conducted until the late 1980s when the first <a href=\"/wiki/Statistical_machine_translation\" title=\"Statistical machine translation\">statistical machine translation</a> systems were developed.</li>\n",
            "<li><b>1960s</b>: Some notably successful natural language processing systems developed in the 1960s were <a href=\"/wiki/SHRDLU\" title=\"SHRDLU\">SHRDLU</a>, a natural language system working in restricted \"<a href=\"/wiki/Blocks_world\" title=\"Blocks world\">blocks worlds</a>\" with restricted vocabularies, and <a href=\"/wiki/ELIZA\" title=\"ELIZA\">ELIZA</a>, a simulation of a <a href=\"/wiki/Rogerian_psychotherapy\" class=\"mw-redirect\" title=\"Rogerian psychotherapy\">Rogerian psychotherapist</a>, written by <a href=\"/wiki/Joseph_Weizenbaum\" title=\"Joseph Weizenbaum\">Joseph Weizenbaum</a> between 1964 and 1966.  Using almost no information about human thought or emotion, ELIZA sometimes provided a startlingly human-like interaction. When the \"patient\" exceeded the very small knowledge base, ELIZA might provide a generic response, for example, responding to \"My head hurts\" with \"Why do you say your head hurts?\".</li>\n",
            "<li><b>1970s</b>: During the 1970s, many programmers began to write \"conceptual <a href=\"/wiki/Ontology_(information_science)\" title=\"Ontology (information science)\">ontologies</a>\", which structured real-world information into computer-understandable data.  Examples are MARGIE (Schank, 1975), SAM (Cullingford, 1978), PAM (Wilensky, 1978), TaleSpin (Meehan, 1976), QUALM (Lehnert, 1977), Politics (Carbonell, 1979), and Plot Units (Lehnert 1981).  During this time, the first many <a href=\"/wiki/Chatterbots\" class=\"mw-redirect\" title=\"Chatterbots\">chatterbots</a> were written (e.g., <a href=\"/wiki/PARRY\" title=\"PARRY\">PARRY</a>).</li>\n",
            "<li><b>1980s</b>: The 1980s and early 1990s mark the hey-day of symbolic methods in NLP. Focus areas of the time included research on rule-based parsing (e.g., the development of <a href=\"/wiki/Head-driven_phrase_structure_grammar\" title=\"Head-driven phrase structure grammar\">HPSG</a> as a computational operationalization of <a href=\"/wiki/Generative_grammar\" title=\"Generative grammar\">generative grammar</a>), morphology (e.g., two-level morphology<sup id=\"cite_ref-3\" class=\"reference\"><a href=\"#cite_note-3\">&#91;3&#93;</a></sup>), semantics (e.g., <a href=\"/wiki/Lesk_algorithm\" title=\"Lesk algorithm\">Lesk algorithm</a>), reference (e.g., within Centering Theory<sup id=\"cite_ref-4\" class=\"reference\"><a href=\"#cite_note-4\">&#91;4&#93;</a></sup>) and other areas of natural language understanding (e.g., in the <a href=\"/wiki/Rhetorical_structure_theory\" title=\"Rhetorical structure theory\">Rhetorical Structure Theory</a>). Other lines of research were continued, e.g., the development of chatterbots with <a href=\"/wiki/Racter\" title=\"Racter\">Racter</a> and <a href=\"/wiki/Jabberwacky\" title=\"Jabberwacky\">Jabberwacky</a>. An important development (that eventually led to the statistical turn in the 1990s) was the rising importance of quantitative evaluation in this period.<sup id=\"cite_ref-5\" class=\"reference\"><a href=\"#cite_note-5\">&#91;5&#93;</a></sup></li></ul>\n",
            "<h3><span id=\"Statistical_NLP_.281990s_-_2010s.29\"></span><span class=\"mw-headline\" id=\"Statistical_NLP_(1990s_-_2010s)\">Statistical NLP (1990s - 2010s)</span><span class=\"mw-editsection\"><span class=\"mw-editsection-bracket\">[</span><a href=\"/w/index.php?title=Natural_language_processing&amp;action=edit&amp;section=3\" title=\"Edit section: Statistical NLP (1990s - 2010s)\">edit</a><span class=\"mw-editsection-bracket\">]</span></span></h3>\n",
            "<p>Up to the 1980s, most natural language processing systems were based on complex sets of hand-written rules.  Starting in the late 1980s, however, there was a revolution in natural language processing with the introduction of <a href=\"/wiki/Machine_learning\" title=\"Machine learning\">machine learning</a> algorithms for language processing.  This was due to both the steady increase in computational power (see <a href=\"/wiki/Moore%27s_law\" title=\"Moore&#39;s law\">Moore's law</a>) and the gradual lessening of the dominance of <a href=\"/wiki/Noam_Chomsky\" title=\"Noam Chomsky\">Chomskyan</a> theories of linguistics (e.g. <a href=\"/wiki/Transformational_grammar\" title=\"Transformational grammar\">transformational grammar</a>), whose theoretical underpinnings discouraged the sort of <a href=\"/wiki/Corpus_linguistics\" title=\"Corpus linguistics\">corpus linguistics</a> that underlies the machine-learning approach to language processing.<sup id=\"cite_ref-6\" class=\"reference\"><a href=\"#cite_note-6\">&#91;6&#93;</a></sup> \n",
            "</p>\n",
            "<ul><li><b>1990s</b>: Many of the notable early successes on statistical methods in NLP occurred in the field of <a href=\"/wiki/Machine_translation\" title=\"Machine translation\">machine translation</a>, due especially to work at IBM Research.  These systems were able to take advantage of existing multilingual <a href=\"/wiki/Text_corpus\" title=\"Text corpus\">textual corpora</a> that had been produced by the <a href=\"/wiki/Parliament_of_Canada\" title=\"Parliament of Canada\">Parliament of Canada</a> and the <a href=\"/wiki/European_Union\" title=\"European Union\">European Union</a> as a result of laws calling for the translation of all governmental proceedings into all official languages of the corresponding systems of government.  However, most other systems depended on corpora specifically developed for the tasks implemented by these systems, which was (and often continues to be) a major limitation in the success of these systems. As a result, a great deal of research has gone into methods of more effectively learning from limited amounts of data.</li>\n",
            "<li><b>2000s</b>: With the growth of the web, increasing amounts of raw (unannotated) language data has become available since the mid-1990s. Research has thus increasingly focused on <a href=\"/wiki/Unsupervised_learning\" title=\"Unsupervised learning\">unsupervised</a> and <a href=\"/wiki/Semi-supervised_learning\" title=\"Semi-supervised learning\">semi-supervised learning</a> algorithms.  Such algorithms can learn from data that has not been hand-annotated with the desired answers or using a combination of annotated and non-annotated data.  Generally, this task is much more difficult than <a href=\"/wiki/Supervised_learning\" title=\"Supervised learning\">supervised learning</a>, and typically produces less accurate results for a given amount of input data.  However, there is an enormous amount of non-annotated data available (including, among other things, the entire content of the <a href=\"/wiki/World_Wide_Web\" title=\"World Wide Web\">World Wide Web</a>), which can often make up for the inferior results if the algorithm used has a low enough <a href=\"/wiki/Time_complexity\" title=\"Time complexity\">time complexity</a> to be practical.</li></ul>\n",
            "<h3><span id=\"Neural_NLP_.28present.29\"></span><span class=\"mw-headline\" id=\"Neural_NLP_(present)\">Neural NLP (present)</span><span class=\"mw-editsection\"><span class=\"mw-editsection-bracket\">[</span><a href=\"/w/index.php?title=Natural_language_processing&amp;action=edit&amp;section=4\" title=\"Edit section: Neural NLP (present)\">edit</a><span class=\"mw-editsection-bracket\">]</span></span></h3>\n",
            "<p>In the 2010s, <a href=\"/wiki/Representation_learning\" class=\"mw-redirect\" title=\"Representation learning\">representation learning</a> and <a href=\"/wiki/Deep_learning\" title=\"Deep learning\">deep neural network</a>-style machine learning methods became widespread in natural language processing, due in part to a flurry of results showing that such techniques<sup id=\"cite_ref-goldberg:nnlp17_7-0\" class=\"reference\"><a href=\"#cite_note-goldberg:nnlp17-7\">&#91;7&#93;</a></sup><sup id=\"cite_ref-goodfellow:book16_8-0\" class=\"reference\"><a href=\"#cite_note-goodfellow:book16-8\">&#91;8&#93;</a></sup> can achieve state-of-the-art results in many natural language tasks, for example in language modeling,<sup id=\"cite_ref-jozefowicz:lm16_9-0\" class=\"reference\"><a href=\"#cite_note-jozefowicz:lm16-9\">&#91;9&#93;</a></sup> parsing,<sup id=\"cite_ref-choe:emnlp16_10-0\" class=\"reference\"><a href=\"#cite_note-choe:emnlp16-10\">&#91;10&#93;</a></sup><sup id=\"cite_ref-vinyals:nips15_11-0\" class=\"reference\"><a href=\"#cite_note-vinyals:nips15-11\">&#91;11&#93;</a></sup> and many others.\n",
            "</p>\n",
            "<h2><span id=\"Methods:_Rules.2C_statistics.2C_neural_networks\"></span><span class=\"mw-headline\" id=\"Methods:_Rules,_statistics,_neural_networks\">Methods: Rules, statistics, neural networks<span class=\"anchor\" id=\"Statistical_natural_language_processing_(SNLP)\"></span></span><span class=\"mw-editsection\"><span class=\"mw-editsection-bracket\">[</span><a href=\"/w/index.php?title=Natural_language_processing&amp;action=edit&amp;section=5\" title=\"Edit section: Methods: Rules, statistics, neural networks\">edit</a><span class=\"mw-editsection-bracket\">]</span></span></h2>\n",
            "<p>In the early days, many language-processing systems were designed by symbolic methods, i.e., the hand-coding of a set of rules, coupled with a dictionary lookup:<sup id=\"cite_ref-winograd:shrdlu71_12-0\" class=\"reference\"><a href=\"#cite_note-winograd:shrdlu71-12\">&#91;12&#93;</a></sup><sup id=\"cite_ref-schank77_13-0\" class=\"reference\"><a href=\"#cite_note-schank77-13\">&#91;13&#93;</a></sup> such as by writing grammars or devising heuristic rules for <a href=\"/wiki/Stemming\" title=\"Stemming\">stemming</a>.\n",
            "</p><p>More recent systems based on <a href=\"/wiki/Machine_learning\" title=\"Machine learning\">machine-learning</a> algorithms have many advantages over hand-produced rules: \n",
            "</p>\n",
            "<ul><li>The learning procedures used during machine learning automatically focus on the most common cases, whereas when writing rules by hand it is often not at all obvious where the effort should be directed.</li>\n",
            "<li>Automatic learning procedures can make use of statistical inference algorithms to produce models that are robust to unfamiliar input (e.g. containing words or structures that have not been seen before) and to erroneous input (e.g. with misspelled words or words accidentally omitted). Generally, handling such input gracefully with handwritten rules, or, more generally, creating systems of handwritten rules that make soft decisions, is extremely difficult, error-prone and time-consuming.</li>\n",
            "<li>Systems based on automatically learning the rules can be made more accurate simply by supplying more input data. However, systems based on handwritten rules can only be made more accurate by increasing the complexity of the rules, which is a much more difficult task. In particular, there is a limit to the complexity of systems based on handwritten rules, beyond which the systems become more and more unmanageable. However, creating more data to input to machine-learning systems simply requires a corresponding increase in the number of man-hours worked, generally without significant increases in the complexity of the annotation process.</li></ul>\n",
            "<p>Despite the popularity of machine learning in NLP research, symbolic methods are still (2020) commonly used\n",
            "</p>\n",
            "<ul><li>when the amount of training data is insufficient to successfully apply machine learning methods, e.g., for the machine translation of low-resource languages such as provided by the <a href=\"/wiki/Apertium\" title=\"Apertium\">Apertium</a> system,</li>\n",
            "<li>for preprocessing in NLP pipelines, e.g., <a href=\"/wiki/Tokenization_(lexical_analysis)\" class=\"mw-redirect\" title=\"Tokenization (lexical analysis)\">tokenization</a>, or</li>\n",
            "<li>for postprocessing and transforming the output of NLP pipelines, e.g., for <a href=\"/wiki/Knowledge_extraction\" title=\"Knowledge extraction\">knowledge extraction</a> from syntactic parses.</li></ul>\n",
            "<h3><span class=\"mw-headline\" id=\"Statistical_methods\">Statistical methods</span><span class=\"mw-editsection\"><span class=\"mw-editsection-bracket\">[</span><a href=\"/w/index.php?title=Natural_language_processing&amp;action=edit&amp;section=6\" title=\"Edit section: Statistical methods\">edit</a><span class=\"mw-editsection-bracket\">]</span></span></h3>\n",
            "<p>Since the so-called \"statistical revolution\"<sup id=\"cite_ref-johnson:eacl:ilcl09_14-0\" class=\"reference\"><a href=\"#cite_note-johnson:eacl:ilcl09-14\">&#91;14&#93;</a></sup><sup id=\"cite_ref-resnik:langlog11_15-0\" class=\"reference\"><a href=\"#cite_note-resnik:langlog11-15\">&#91;15&#93;</a></sup> in the late 1980s and mid-1990s, much natural language processing research has relied heavily on machine learning. The machine-learning paradigm calls instead for using <a href=\"/wiki/Statistical_inference\" title=\"Statistical inference\">statistical inference</a> to automatically learn such rules through the analysis of large <i><a href=\"/wiki/Text_corpus\" title=\"Text corpus\">corpora</a></i> (the plural form of <i>corpus</i>, is a set of documents, possibly with human or computer annotations) of typical real-world examples.\n",
            "</p><p>Many different classes of machine-learning algorithms have been applied to natural-language-processing tasks. These algorithms take as input a large set of \"features\" that are generated from the input data. Increasingly, however, research has focused on <a href=\"/wiki/Statistical_models\" class=\"mw-redirect\" title=\"Statistical models\">statistical models</a>, which make soft, <a href=\"/wiki/Probabilistic\" class=\"mw-redirect\" title=\"Probabilistic\">probabilistic</a> decisions based on attaching <a href=\"/wiki/Real-valued\" class=\"mw-redirect\" title=\"Real-valued\">real-valued</a> weights to each input feature. Such models have the advantage that they can express the relative certainty of many different possible answers rather than only one, producing more reliable results when such a model is included as a component of a larger system.\n",
            "</p><p>Some of the earliest-used machine learning algorithms, such as <a href=\"/wiki/Decision_tree\" title=\"Decision tree\">decision trees</a>, produced systems of hard if-then rules similar to existing hand-written rules.  However, <a href=\"/wiki/Part_of_speech_tagging\" class=\"mw-redirect\" title=\"Part of speech tagging\">part-of-speech tagging</a> introduced the use of <a href=\"/wiki/Hidden_Markov_models\" class=\"mw-redirect\" title=\"Hidden Markov models\">hidden Markov models</a> to natural language processing, and increasingly, research has focused on <a href=\"/wiki/Statistical_models\" class=\"mw-redirect\" title=\"Statistical models\">statistical models</a>, which make soft, <a href=\"/wiki/Probabilistic\" class=\"mw-redirect\" title=\"Probabilistic\">probabilistic</a> decisions based on attaching <a href=\"/wiki/Real-valued\" class=\"mw-redirect\" title=\"Real-valued\">real-valued</a> weights to the features making up the input data. The <a href=\"/wiki/Cache_language_model\" title=\"Cache language model\">cache language models</a> upon which many <a href=\"/wiki/Speech_recognition\" title=\"Speech recognition\">speech recognition</a> systems now rely are examples of such statistical models.  Such models are generally more robust when given unfamiliar input, especially input that contains errors (as is very common for real-world data), and produce more reliable results when integrated into a larger system comprising multiple subtasks.\n",
            "</p><p>Since the neural turn, statistical methods in NLP research have been largely replaced by neural networks. However, they continue to be relevant for contexts in which statistical interpretability and transparency is required.\n",
            "</p>\n",
            "<h3><span class=\"mw-headline\" id=\"Neural_networks\">Neural networks</span><span class=\"mw-editsection\"><span class=\"mw-editsection-bracket\">[</span><a href=\"/w/index.php?title=Natural_language_processing&amp;action=edit&amp;section=7\" title=\"Edit section: Neural networks\">edit</a><span class=\"mw-editsection-bracket\">]</span></span></h3>\n",
            "<div role=\"note\" class=\"hatnote navigation-not-searchable\">Further information: <a href=\"/wiki/Artificial_neural_network\" title=\"Artificial neural network\">Artificial neural network</a></div>\n",
            "<p>A major drawback of statistical methods is that they require elaborate feature engineering. Since the early 2010s,<sup id=\"cite_ref-16\" class=\"reference\"><a href=\"#cite_note-16\">&#91;16&#93;</a></sup> the field has thus largely abandoned statistical methods and shifted to <a href=\"/wiki/Neural_network\" title=\"Neural network\">neural networks</a> for machine learning. Popular techniques include the use of <a href=\"/wiki/Word_embedding\" title=\"Word embedding\">word embeddings</a> to capture semantic properties of words, and an increase in end-to-end learning of a higher-level task (e.g., question answering) instead of relying on a pipeline of separate intermediate tasks (e.g., part-of-speech tagging and dependency parsing). In some areas, this shift has entailed substantial changes in how NLP systems are designed, such that deep neural network-based approaches may be viewed as a new paradigm distinct from statistical natural language processing. For instance, the term <i><a href=\"/wiki/Neural_machine_translation\" title=\"Neural machine translation\">neural machine translation</a></i> (NMT) emphasizes the fact that deep learning-based approaches to machine translation directly learn <a href=\"/wiki/Seq2seq\" title=\"Seq2seq\">sequence-to-sequence</a> transformations, obviating the need for intermediate steps such as word alignment and language modeling that was used in <a href=\"/wiki/Statistical_machine_translation\" title=\"Statistical machine translation\">statistical machine translation</a> (SMT).\n",
            "</p>\n",
            "<h2><span class=\"mw-headline\" id=\"Common_NLP_Tasks\">Common NLP Tasks</span><span class=\"mw-editsection\"><span class=\"mw-editsection-bracket\">[</span><a href=\"/w/index.php?title=Natural_language_processing&amp;action=edit&amp;section=8\" title=\"Edit section: Common NLP Tasks\">edit</a><span class=\"mw-editsection-bracket\">]</span></span></h2>\n",
            "<p>The following is a list of some of the most commonly researched tasks in natural language processing. Some of these tasks have direct real-world applications, while others more commonly serve as subtasks that are used to aid in solving larger tasks.\n",
            "</p><p>Though natural language processing tasks are closely intertwined, they can be subdivided into categories for convenience. A coarse division is given below.\n",
            "</p>\n",
            "<h3><span class=\"mw-headline\" id=\"Text_and_speech_processing\">Text and speech processing</span><span class=\"mw-editsection\"><span class=\"mw-editsection-bracket\">[</span><a href=\"/w/index.php?title=Natural_language_processing&amp;action=edit&amp;section=9\" title=\"Edit section: Text and speech processing\">edit</a><span class=\"mw-editsection-bracket\">]</span></span></h3>\n",
            "<dl><dt><a href=\"/wiki/Optical_character_recognition\" title=\"Optical character recognition\">Optical character recognition</a> (OCR)</dt>\n",
            "<dd>Given an image representing printed text, determine the corresponding text.</dd></dl>\n",
            "<dl><dt><a href=\"/wiki/Speech_recognition\" title=\"Speech recognition\">Speech recognition</a></dt>\n",
            "<dd>Given a sound clip of a person or people speaking, determine the textual representation of the speech.  This is the opposite of <a href=\"/wiki/Text_to_speech\" class=\"mw-redirect\" title=\"Text to speech\">text to speech</a> and is one of the extremely difficult problems colloquially termed \"<a href=\"/wiki/AI-complete\" title=\"AI-complete\">AI-complete</a>\" (see above).  In <a href=\"/wiki/Natural_speech\" class=\"mw-redirect\" title=\"Natural speech\">natural speech</a> there are hardly any pauses between successive words, and thus <a href=\"/wiki/Speech_segmentation\" title=\"Speech segmentation\">speech segmentation</a> is a necessary subtask of speech recognition (see below). In most spoken languages, the sounds representing successive letters blend into each other in a process termed <a href=\"/wiki/Coarticulation\" title=\"Coarticulation\">coarticulation</a>, so the conversion of the <a href=\"/wiki/Analog_signal\" title=\"Analog signal\">analog signal</a> to discrete characters can be a very difficult process. Also, given that words in the same language are spoken by people with different accents, the speech recognition software must be able to recognize the wide variety of input as being identical to each other in terms of its textual equivalent.</dd>\n",
            "<dt><a href=\"/wiki/Speech_segmentation\" title=\"Speech segmentation\">Speech segmentation</a></dt>\n",
            "<dd>Given a sound clip of a person or people speaking, separate it into words.  A subtask of <a href=\"/wiki/Speech_recognition\" title=\"Speech recognition\">speech recognition</a> and typically grouped with it.</dd></dl>\n",
            "<dl><dt><a href=\"/wiki/Text-to-speech\" class=\"mw-redirect\" title=\"Text-to-speech\">Text-to-speech</a></dt>\n",
            "<dd>Given a text, transform those units and produce a spoken representation. Text-to-speech can be used to aid the visually impaired.<sup id=\"cite_ref-17\" class=\"reference\"><a href=\"#cite_note-17\">&#91;17&#93;</a></sup></dd></dl>\n",
            "<dl><dt><a href=\"/wiki/Word_segmentation\" class=\"mw-redirect\" title=\"Word segmentation\">Word segmentation</a> (<a href=\"/wiki/Tokenization_(lexical_analysis)\" class=\"mw-redirect\" title=\"Tokenization (lexical analysis)\">Tokenization</a>)</dt>\n",
            "<dd>Separate a chunk of continuous text into separate words. For a language like <a href=\"/wiki/English_language\" title=\"English language\">English</a>, this is fairly trivial, since words are usually separated by spaces. However, some written languages like <a href=\"/wiki/Chinese_language\" title=\"Chinese language\">Chinese</a>, <a href=\"/wiki/Japanese_language\" title=\"Japanese language\">Japanese</a> and <a href=\"/wiki/Thai_language\" title=\"Thai language\">Thai</a> do not mark word boundaries in such a fashion, and in those languages text segmentation is a significant task requiring knowledge of the <a href=\"/wiki/Vocabulary\" title=\"Vocabulary\">vocabulary</a> and <a href=\"/wiki/Morphology_(linguistics)\" title=\"Morphology (linguistics)\">morphology</a> of words in the language. Sometimes this process is also used in cases like <a href=\"/wiki/Bag_of_words\" class=\"mw-redirect\" title=\"Bag of words\">bag of words</a> (BOW) creation in data mining.</dd></dl>\n",
            "<h3><span class=\"mw-headline\" id=\"Morphological_analysis\">Morphological analysis</span><span class=\"mw-editsection\"><span class=\"mw-editsection-bracket\">[</span><a href=\"/w/index.php?title=Natural_language_processing&amp;action=edit&amp;section=10\" title=\"Edit section: Morphological analysis\">edit</a><span class=\"mw-editsection-bracket\">]</span></span></h3>\n",
            "<dl><dt><a href=\"/wiki/Lemmatisation\" title=\"Lemmatisation\">Lemmatization</a></dt>\n",
            "<dd>The task of removing inflectional endings only and to return the base dictionary form of a word which is also known as a lemma.</dd>\n",
            "<dt><a href=\"/wiki/Morphology_(linguistics)\" title=\"Morphology (linguistics)\">Morphological segmentation</a></dt>\n",
            "<dd>Separate words into individual <a href=\"/wiki/Morpheme\" title=\"Morpheme\">morphemes</a> and identify the class of the morphemes. The difficulty of this task depends greatly on the complexity of the <a href=\"/wiki/Morphology_(linguistics)\" title=\"Morphology (linguistics)\">morphology</a> (<i>i.e.</i>, the structure of words) of the language being considered. <a href=\"/wiki/English_language\" title=\"English language\">English</a> has fairly simple morphology, especially <a href=\"/wiki/Inflectional_morphology\" class=\"mw-redirect\" title=\"Inflectional morphology\">inflectional morphology</a>, and thus it is often possible to ignore this task entirely and simply model all possible forms of a word (<i>e.g.</i>, \"open, opens, opened, opening\") as separate words. In languages such as <a href=\"/wiki/Turkish_language\" title=\"Turkish language\">Turkish</a> or <a href=\"/wiki/Meitei_language\" title=\"Meitei language\">Meitei</a>,<sup id=\"cite_ref-18\" class=\"reference\"><a href=\"#cite_note-18\">&#91;18&#93;</a></sup> a highly <a href=\"/wiki/Agglutination\" title=\"Agglutination\">agglutinated</a> Indian language, however, such an approach is not possible, as each dictionary entry has thousands of possible word forms.</dd>\n",
            "<dt><a href=\"/wiki/Part-of-speech_tagging\" title=\"Part-of-speech tagging\">Part-of-speech tagging</a></dt>\n",
            "<dd>Given a sentence, determine the <a href=\"/wiki/Part_of_speech\" title=\"Part of speech\">part of speech</a> (POS) for each word. Many words, especially common ones, can serve as multiple <a href=\"/wiki/Parts_of_speech\" class=\"mw-redirect\" title=\"Parts of speech\">parts of speech</a>. For example, \"book\" can be a <a href=\"/wiki/Noun\" title=\"Noun\">noun</a> (\"the book on the table\") or <a href=\"/wiki/Verb\" title=\"Verb\">verb</a> (\"to book a flight\"); \"set\" can be a <a href=\"/wiki/Noun\" title=\"Noun\">noun</a>, <a href=\"/wiki/Verb\" title=\"Verb\">verb</a> or <a href=\"/wiki/Adjective\" title=\"Adjective\">adjective</a>; and \"out\" can be any of at least five different parts of speech. Some languages have more such ambiguity than others.<sup class=\"noprint Inline-Template\" style=\"white-space:nowrap;\">&#91;<i><a href=\"/wiki/Wikipedia:Accuracy_dispute#Disputed_statement\" title=\"Wikipedia:Accuracy dispute\"><span title=\"The material near this tag is possibly inaccurate or nonfactual. (June 2018)\">dubious</span></a>&#32;<span class=\"metadata\"> &#8211; <a href=\"/wiki/Talk:Natural_language_processing#Dubious\" title=\"Talk:Natural language processing\">discuss</a></span></i>&#93;</sup> Languages with little <a href=\"/wiki/Inflectional_morphology\" class=\"mw-redirect\" title=\"Inflectional morphology\">inflectional morphology</a>, such as <a href=\"/wiki/English_language\" title=\"English language\">English</a>, are particularly prone to such ambiguity. <a href=\"/wiki/Chinese_language\" title=\"Chinese language\">Chinese</a> is prone to such ambiguity because it is a <a href=\"/wiki/Tonal_language\" class=\"mw-redirect\" title=\"Tonal language\">tonal language</a> during verbalization. Such inflection is not readily conveyed via the entities employed within the orthography to convey the intended meaning.</dd></dl>\n",
            "<dl><dt><a href=\"/wiki/Stemming\" title=\"Stemming\">Stemming</a></dt>\n",
            "<dd>The process of reducing inflected (or sometimes derived) words to their root form. (<i>e.g.</i>, \"close\" will be the root for \"closed\", \"closing\", \"close\", \"closer\" etc.).</dd></dl>\n",
            "<h3><span class=\"mw-headline\" id=\"Syntactic_analysis\">Syntactic analysis</span><span class=\"mw-editsection\"><span class=\"mw-editsection-bracket\">[</span><a href=\"/w/index.php?title=Natural_language_processing&amp;action=edit&amp;section=11\" title=\"Edit section: Syntactic analysis\">edit</a><span class=\"mw-editsection-bracket\">]</span></span></h3>\n",
            "<dl><dt><a href=\"/wiki/Grammar_induction\" title=\"Grammar induction\">Grammar induction</a><sup id=\"cite_ref-19\" class=\"reference\"><a href=\"#cite_note-19\">&#91;19&#93;</a></sup></dt>\n",
            "<dd>Generate a <a href=\"/wiki/Formal_grammar\" title=\"Formal grammar\">formal grammar</a> that describes a language's syntax.</dd>\n",
            "<dt><a href=\"/wiki/Sentence_breaking\" class=\"mw-redirect\" title=\"Sentence breaking\">Sentence breaking</a> (also known as \"<a href=\"/wiki/Sentence_boundary_disambiguation\" title=\"Sentence boundary disambiguation\">sentence boundary disambiguation</a>\")</dt>\n",
            "<dd>Given a chunk of text, find the sentence boundaries. Sentence boundaries are often marked by <a href=\"/wiki/Full_stop\" title=\"Full stop\">periods</a> or other <a href=\"/wiki/Punctuation_mark\" class=\"mw-redirect\" title=\"Punctuation mark\">punctuation marks</a>, but these same characters can serve other purposes (<i>e.g.</i>, marking <a href=\"/wiki/Abbreviation\" title=\"Abbreviation\">abbreviations</a>).</dd>\n",
            "<dt><a href=\"/wiki/Parsing\" title=\"Parsing\">Parsing</a></dt>\n",
            "<dd>Determine the <a href=\"/wiki/Parse_tree\" title=\"Parse tree\">parse tree</a> (grammatical analysis) of a given sentence. The <a href=\"/wiki/Grammar\" title=\"Grammar\">grammar</a> for <a href=\"/wiki/Natural_language\" title=\"Natural language\">natural languages</a> is <a href=\"/wiki/Ambiguous\" class=\"mw-redirect\" title=\"Ambiguous\">ambiguous</a> and typical sentences have multiple possible analyses: perhaps surprisingly, for a typical sentence there may be thousands of potential parses (most of which will seem completely nonsensical to a human). There are two primary types of parsing: <i>dependency parsing</i> and <i>constituency parsing</i>. Dependency parsing focuses on the relationships between words in a sentence (marking things like primary objects and predicates), whereas constituency parsing focuses on building out the parse tree using a <a href=\"/wiki/Probabilistic_context-free_grammar\" title=\"Probabilistic context-free grammar\">probabilistic context-free grammar</a> (PCFG) (see also <i><a href=\"/wiki/Stochastic_grammar\" title=\"Stochastic grammar\">stochastic grammar</a></i>).</dd></dl>\n",
            "<h3><span id=\"Lexical_semantics_.28of_individual_words_in_context.29\"></span><span class=\"mw-headline\" id=\"Lexical_semantics_(of_individual_words_in_context)\">Lexical semantics (of individual words in context)</span><span class=\"mw-editsection\"><span class=\"mw-editsection-bracket\">[</span><a href=\"/w/index.php?title=Natural_language_processing&amp;action=edit&amp;section=12\" title=\"Edit section: Lexical semantics (of individual words in context)\">edit</a><span class=\"mw-editsection-bracket\">]</span></span></h3>\n",
            "<dl><dt><a href=\"/wiki/Lexical_semantics\" title=\"Lexical semantics\">Lexical semantics</a></dt>\n",
            "<dd>What is the computational meaning of individual words in context?</dd>\n",
            "<dt><a href=\"/wiki/Distributional_semantics\" title=\"Distributional semantics\">Distributional semantics</a></dt>\n",
            "<dd>How can we learn semantic representations from data?</dd>\n",
            "<dt><a href=\"/wiki/Named_entity_recognition\" class=\"mw-redirect\" title=\"Named entity recognition\">Named entity recognition</a> (NER)</dt>\n",
            "<dd>Given a stream of text, determine which items in the text map to proper names, such as people or places, and what the type of each such name is (e.g. person, location, organization). Although <a href=\"/wiki/Capitalization\" title=\"Capitalization\">capitalization</a> can aid in recognizing named entities in languages such as English, this information cannot aid in determining the type of named entity, and in any case, is often inaccurate or insufficient.  For example, the first letter of a sentence is also capitalized, and named entities often span several words, only some of which are capitalized.  Furthermore, many other languages in non-Western scripts (e.g. <a href=\"/wiki/Chinese_language\" title=\"Chinese language\">Chinese</a> or <a href=\"/wiki/Arabic_language\" class=\"mw-redirect\" title=\"Arabic language\">Arabic</a>) do not have any capitalization at all, and even languages with capitalization may not consistently use it to distinguish names. For example, <a href=\"/wiki/German_language\" title=\"German language\">German</a> capitalizes all <a href=\"/wiki/Noun\" title=\"Noun\">nouns</a>, regardless of whether they are names, and <a href=\"/wiki/French_language\" title=\"French language\">French</a> and <a href=\"/wiki/Spanish_language\" title=\"Spanish language\">Spanish</a> do not capitalize names that serve as <a href=\"/wiki/Adjective\" title=\"Adjective\">adjectives</a>.</dd></dl>\n",
            "<dl><dt><a href=\"/wiki/Sentiment_analysis\" title=\"Sentiment analysis\">Sentiment analysis</a> (see also <a href=\"/wiki/Multimodal_sentiment_analysis\" title=\"Multimodal sentiment analysis\">multimodal sentiment analysis</a>)</dt>\n",
            "<dd>Extract subjective information usually from a set of documents, often using online reviews to determine \"polarity\" about specific objects. It is especially useful for identifying trends of public opinion in social media, for marketing.</dd></dl>\n",
            "<dl><dt><dl><dt><a href=\"/wiki/Terminology_extraction\" title=\"Terminology extraction\">Terminology extraction</a></dt></dl>\n",
            "</dt><dd>The goal of terminology extraction is to automatically extract relevant terms from a given corpus.</dd>\n",
            "<dt><a href=\"/wiki/Word_sense_disambiguation\" class=\"mw-redirect\" title=\"Word sense disambiguation\">Word sense disambiguation</a></dt>\n",
            "<dd>Many words have more than one <a href=\"/wiki/Meaning_(linguistics)\" class=\"mw-redirect\" title=\"Meaning (linguistics)\">meaning</a>; we have to select the meaning which makes the most sense in context.  For this problem, we are typically given a list of words and associated word senses, e.g. from a dictionary or an online resource such as <a href=\"/wiki/WordNet\" title=\"WordNet\">WordNet</a>.</dd></dl>\n",
            "<h3><span id=\"Relational_semantics_.28semantics_of_individual_sentences.29\"></span><span class=\"mw-headline\" id=\"Relational_semantics_(semantics_of_individual_sentences)\">Relational semantics (semantics of individual sentences)</span><span class=\"mw-editsection\"><span class=\"mw-editsection-bracket\">[</span><a href=\"/w/index.php?title=Natural_language_processing&amp;action=edit&amp;section=13\" title=\"Edit section: Relational semantics (semantics of individual sentences)\">edit</a><span class=\"mw-editsection-bracket\">]</span></span></h3>\n",
            "<dl><dt><a href=\"/wiki/Relationship_extraction\" title=\"Relationship extraction\">Relationship extraction</a></dt>\n",
            "<dd>Given a chunk of text, identify the relationships among named entities (e.g. who is married to whom).</dd>\n",
            "<dt><a href=\"/wiki/Semantic_parsing\" title=\"Semantic parsing\">Semantic Parsing</a></dt>\n",
            "<dd>Given a piece of text (typically a sentence), produce a formal representation of its semantics, either as a graph (e.g., in <a href=\"/wiki/Abstract_Meaning_Representation\" title=\"Abstract Meaning Representation\">AMR parsing</a>) or in accordance with a logical formalism (e.g., in <a href=\"/wiki/Discourse_representation_theory\" title=\"Discourse representation theory\">DRT parsing</a>). This challenge typically includes aspects of several more elementary NLP tasks from semantics (e.g., semantic role labelling, word sense disambiguation) and can be extended to include full-fledged discourse analysis (e.g., discourse analysis, coreference; see Natural Language Understanding below).</dd>\n",
            "<dt><a href=\"/wiki/Semantic_role_labeling\" title=\"Semantic role labeling\">Semantic Role Labelling</a> (see also implicit semantic role labelling below)</dt>\n",
            "<dd>Given a single sentence, identify and disambiguate semantic predicates (e.g., verbal <a href=\"/wiki/Frame_semantics_(linguistics)\" title=\"Frame semantics (linguistics)\">frames</a>), then identify and classify the frame elements (<a href=\"/wiki/Semantic_roles\" class=\"mw-redirect\" title=\"Semantic roles\">semantic roles</a>).</dd></dl>\n",
            "<h3><span id=\"Discourse_.28semantics_beyond_individual_sentences.29\"></span><span class=\"mw-headline\" id=\"Discourse_(semantics_beyond_individual_sentences)\">Discourse (semantics beyond individual sentences)</span><span class=\"mw-editsection\"><span class=\"mw-editsection-bracket\">[</span><a href=\"/w/index.php?title=Natural_language_processing&amp;action=edit&amp;section=14\" title=\"Edit section: Discourse (semantics beyond individual sentences)\">edit</a><span class=\"mw-editsection-bracket\">]</span></span></h3>\n",
            "<dl><dt><a href=\"/wiki/Coreference\" title=\"Coreference\">Coreference resolution</a></dt>\n",
            "<dd>Given a sentence or larger chunk of text, determine which words (\"mentions\") refer to the same objects (\"entities\"). <a href=\"/wiki/Anaphora_resolution\" class=\"mw-redirect\" title=\"Anaphora resolution\">Anaphora resolution</a> is a specific example of this task, and is specifically concerned with matching up <a href=\"/wiki/Pronoun\" title=\"Pronoun\">pronouns</a> with the nouns or names to which they refer. The more general task of coreference resolution also includes identifying so-called \"bridging relationships\" involving <a href=\"/wiki/Referring_expression\" title=\"Referring expression\">referring expressions</a>. For example, in a sentence such as \"He entered John's house through the front door\", \"the front door\" is a referring expression and the bridging relationship to be identified is the fact that the door being referred to is the front door of John's house (rather than of some other structure that might also be referred to).</dd>\n",
            "<dt><a href=\"/wiki/Discourse_analysis\" title=\"Discourse analysis\">Discourse analysis</a></dt>\n",
            "<dd>This rubric includes several related tasks.  One task is discourse parsing, i.e., identifying the <a href=\"/wiki/Discourse\" title=\"Discourse\">discourse</a> structure of a connected text, i.e. the nature of the discourse relationships between sentences (e.g. elaboration, explanation, contrast).  Another possible task is recognizing and classifying the <a href=\"/wiki/Speech_act\" title=\"Speech act\">speech acts</a> in a chunk of text (e.g. yes-no question, content question, statement, assertion, etc.).</dd></dl>\n",
            "<dl><dt>Implicit Semantic Role Labelling</dt>\n",
            "<dd>Given a single sentence, identify and disambiguate semantic predicates (e.g., verbal <a href=\"/wiki/Frame_semantics_(linguistics)\" title=\"Frame semantics (linguistics)\">frames</a>) and their explicit semantic roles in the current sentence (see Semantic Role Labelling above). Then, identify semantic roles that are not explicitly realized in the current sentence, classify them into arguments that are explicitly realized elsewhere in the text and those that are not specified, and resolve the former against the local text. A closely related task is zero anaphora resolution, i.e., the extension of coreference resolution to <a href=\"/wiki/Pro-drop_language\" title=\"Pro-drop language\">pro-drop languages</a>.</dd></dl>\n",
            "<dl><dt><a href=\"/wiki/Textual_entailment\" title=\"Textual entailment\">Recognizing Textual entailment</a></dt>\n",
            "<dd>Given two text fragments, determine if one being true entails the other, entails the other's negation, or allows the other to be either true or false.<sup id=\"cite_ref-rte:11_20-0\" class=\"reference\"><a href=\"#cite_note-rte:11-20\">&#91;20&#93;</a></sup></dd></dl>\n",
            "<dl><dt><a href=\"/wiki/Topic_segmentation\" class=\"mw-redirect\" title=\"Topic segmentation\">Topic segmentation</a> and recognition</dt>\n",
            "<dd>Given a chunk of text, separate it into segments each of which is devoted to a topic, and identify the topic of the segment.</dd></dl>\n",
            "<h3><span class=\"mw-headline\" id=\"Higher-level_NLP_applications\">Higher-level NLP applications</span><span class=\"mw-editsection\"><span class=\"mw-editsection-bracket\">[</span><a href=\"/w/index.php?title=Natural_language_processing&amp;action=edit&amp;section=15\" title=\"Edit section: Higher-level NLP applications\">edit</a><span class=\"mw-editsection-bracket\">]</span></span></h3>\n",
            "<dl><dt><a href=\"/wiki/Automatic_summarization\" title=\"Automatic summarization\">Automatic summarization</a> (text summarization)</dt>\n",
            "<dd>Produce a readable summary of a chunk of text.  Often used to provide summaries of the text of a known type, such as research papers, articles in the financial section of a newspaper.</dd>\n",
            "<dt>Book generation</dt>\n",
            "<dd>Not an NLP task proper but an extension of Natural Language Generation and other NLP tasks is the creation of full-fledged books. The first machine-generated book was created by a rule-based system in 1984 (Racter, <i>The policeman's beard is half-constructed</i>).<sup id=\"cite_ref-21\" class=\"reference\"><a href=\"#cite_note-21\">&#91;21&#93;</a></sup> The first published work by a neural network was published in 2018, <i><a href=\"/wiki/1_the_Road\" title=\"1 the Road\">1 the Road</a></i>, marketed as a novel, contains sixty million words. Both these systems are basically elaborate but non-sensical (semantics-free) <a href=\"/wiki/Language_model\" title=\"Language model\">language models</a>. The first machine-generated science book was published in 2019 (Beta Writer, <i>Lithium-Ion Batteries</i>, Springer, Cham).<sup id=\"cite_ref-22\" class=\"reference\"><a href=\"#cite_note-22\">&#91;22&#93;</a></sup> Unlike <i>Racter</i> and <i>1 the Road</i>, this is grounded on factual knowledge and based on text summarization.</dd>\n",
            "<dt><a href=\"/wiki/Dialogue_system\" title=\"Dialogue system\">Dialogue management</a></dt>\n",
            "<dd>Computer systems intended to converse with a human.</dd>\n",
            "<dt>Document AI</dt>\n",
            "<dd>A Document AI platform sits on top of the NLP technology enabling users with no prior experience of artificial intelligence, machine learning or NLP to quickly train a computer to extract the specific data they need from different document types. NLP-powered Document AI enables non-technical teams to quickly access information hidden in documents, for example, lawyers, business analysts and accountants.</dd>\n",
            "<dt><a href=\"/wiki/Machine_translation\" title=\"Machine translation\">Machine translation</a></dt>\n",
            "<dd>Automatically translate text from one human language to another.  This is one of the most difficult problems, and is a member of a class of problems colloquially termed \"<a href=\"/wiki/AI-complete\" title=\"AI-complete\">AI-complete</a>\", i.e. requiring all of the different types of knowledge that humans possess (grammar, semantics, facts about the real world, etc.) to solve properly.</dd>\n",
            "<dt><a href=\"/wiki/Natural_language_generation\" class=\"mw-redirect\" title=\"Natural language generation\">Natural language generation</a> (NLG):</dt>\n",
            "<dd>Convert information from computer databases or semantic intents into readable human language.</dd>\n",
            "<dt><a href=\"/wiki/Natural_language_understanding\" class=\"mw-redirect\" title=\"Natural language understanding\">Natural language understanding</a> (NLU)</dt>\n",
            "<dd>Convert chunks of text into more formal representations such as <a href=\"/wiki/First-order_logic\" title=\"First-order logic\">first-order logic</a> structures that are easier for <a href=\"/wiki/Computer\" title=\"Computer\">computer</a> programs to manipulate. Natural language understanding involves the identification of the intended semantic from the multiple possible semantics which can be derived from a natural language expression which usually takes the form of organized notations of natural language concepts. Introduction and creation of language metamodel and ontology are efficient however empirical solutions. An explicit formalization of natural language semantics without confusions with implicit assumptions such as <a href=\"/wiki/Closed-world_assumption\" title=\"Closed-world assumption\">closed-world assumption</a> (CWA) vs. <a href=\"/wiki/Open-world_assumption\" title=\"Open-world assumption\">open-world assumption</a>, or subjective Yes/No vs. objective True/False is expected for the construction of a basis of semantics formalization.<sup id=\"cite_ref-23\" class=\"reference\"><a href=\"#cite_note-23\">&#91;23&#93;</a></sup></dd>\n",
            "<dt><a href=\"/wiki/Question_answering\" title=\"Question answering\">Question answering</a></dt>\n",
            "<dd>Given a human-language question, determine its answer.  Typical questions have a specific right answer (such as \"What is the capital of Canada?\"), but sometimes open-ended questions are also considered (such as \"What is the meaning of life?\"). Recent works have looked at even more complex questions.<sup id=\"cite_ref-24\" class=\"reference\"><a href=\"#cite_note-24\">&#91;24&#93;</a></sup></dd></dl>\n",
            "<h2><span class=\"mw-headline\" id=\"Cognition_and_NLP\">Cognition and NLP</span><span class=\"mw-editsection\"><span class=\"mw-editsection-bracket\">[</span><a href=\"/w/index.php?title=Natural_language_processing&amp;action=edit&amp;section=16\" title=\"Edit section: Cognition and NLP\">edit</a><span class=\"mw-editsection-bracket\">]</span></span></h2>\n",
            "<p><a href=\"/wiki/Cognition\" title=\"Cognition\">Cognition</a> refers to \"the mental action or process of acquiring knowledge and understanding through thought, experience, and the senses.\"<sup id=\"cite_ref-25\" class=\"reference\"><a href=\"#cite_note-25\">&#91;25&#93;</a></sup> <a href=\"/wiki/Cognitive_science\" title=\"Cognitive science\">Cognitive science</a> is the interdisciplinary, scientific study of the mind and its processes.<sup id=\"cite_ref-26\" class=\"reference\"><a href=\"#cite_note-26\">&#91;26&#93;</a></sup> <a href=\"/wiki/Cognitive_linguistics\" title=\"Cognitive linguistics\">Cognitive linguistics</a> is an interdisciplinary branch of linguistics, combining knowledge and research from both psychology and linguistics.<sup id=\"cite_ref-27\" class=\"reference\"><a href=\"#cite_note-27\">&#91;27&#93;</a></sup>  <a href=\"/wiki/George_Lakoff\" title=\"George Lakoff\">George Lakoff</a> offers a methodology to build Natural language processing (NLP) algorithms through the perspective of <a href=\"/wiki/Cognitive_science\" title=\"Cognitive science\">Cognitive science</a>, along with the findings of <a href=\"/wiki/Cognitive_linguistics\" title=\"Cognitive linguistics\">Cognitive linguistics</a>:<sup id=\"cite_ref-28\" class=\"reference\"><a href=\"#cite_note-28\">&#91;28&#93;</a></sup>\n",
            "</p><p>The first defining aspect of this cognitive task of NLP is the application of the theory of <a href=\"/wiki/Conceptual_metaphor\" title=\"Conceptual metaphor\">Conceptual metaphor</a>, explained by Lakoff as “the understanding of one idea, in terms of another” which provides an idea of the intent of the author.<sup id=\"cite_ref-29\" class=\"reference\"><a href=\"#cite_note-29\">&#91;29&#93;</a></sup>\n",
            "</p><p>For example, consider some of the meanings, in English, of the word <i>“big”</i>. When used as a <a href=\"/wiki/Comparative\" title=\"Comparative\">Comparative</a>, as in <i>“That is a big tree,”</i> a likely inference of the intent of the author is that the author is using the word <i>“big”</i> to imply a statement about the tree being <i>”physically large”</i> in comparison to other trees or the authors experience.  When used as a <a href=\"/wiki/Stative_verb\" title=\"Stative verb\">Stative verb</a>, as in <i>”Tomorrow is a big day”</i>, a likely inference of the author’s intent it that <i>”big”</i> is being used to imply <i>”importance”</i>.  These examples are not presented to be complete, but merely as indicators of the implication of the idea of <a href=\"/wiki/Conceptual_metaphor\" title=\"Conceptual metaphor\">Conceptual metaphor</a>.  The intent behind other usages, like in <i>”She is a big person”</i> will remain somewhat ambiguous to a person and a cognitive NLP algorithm alike without additional information.\n",
            "</p><p>This leads to the second defining aspect of this cognitive task of NLP, namely <a href=\"/wiki/Probabilistic_context-free_grammar\" title=\"Probabilistic context-free grammar\">Probabilistic context-free grammar</a> (PCFG) which enables cognitive NLP algorithms to assign relative measures of meaning  to a word, phrase, sentence or piece of text based on the information presented before and after the piece of text being analyzed. The mathematical equation for such algorithms is presented in <span class=\"citation patent\"><a rel=\"nofollow\" class=\"external text\" href=\"https://worldwide.espacenet.com/textdoc?DB=EPODOC&amp;IDX=US9269353\">US&#32;patent 9269353</a></span><span class=\"Z3988\" title=\"ctx_ver=Z39.88-2004&amp;rft_val_fmt=info%3Aofi%2Ffmt%3Akev%3Amtx%3Apatent&amp;rft.number=9269353&amp;rft.cc=US&amp;rft.title=\"><span style=\"display: none;\">&#160;</span></span>:\n",
            "</p>\n",
            "<dl><dd><span class=\"mwe-math-element\"><span class=\"mwe-math-mathml-inline mwe-math-mathml-a11y\" style=\"display: none;\"><math xmlns=\"http://www.w3.org/1998/Math/MathML\"  alttext=\"{\\displaystyle {RMM(token_{N})}={PMM(token_{N})}\\times {\\frac {1}{2d}}\\left(\\sum _{i=-d}^{d}{((PMM(token_{N-1})}\\times {PF(token_{N},token_{N-1}))_{i}}\\right)}\">\n",
            "  <semantics>\n",
            "    <mrow class=\"MJX-TeXAtom-ORD\">\n",
            "      <mstyle displaystyle=\"true\" scriptlevel=\"0\">\n",
            "        <mrow class=\"MJX-TeXAtom-ORD\">\n",
            "          <mi>R</mi>\n",
            "          <mi>M</mi>\n",
            "          <mi>M</mi>\n",
            "          <mo stretchy=\"false\">(</mo>\n",
            "          <mi>t</mi>\n",
            "          <mi>o</mi>\n",
            "          <mi>k</mi>\n",
            "          <mi>e</mi>\n",
            "          <msub>\n",
            "            <mi>n</mi>\n",
            "            <mrow class=\"MJX-TeXAtom-ORD\">\n",
            "              <mi>N</mi>\n",
            "            </mrow>\n",
            "          </msub>\n",
            "          <mo stretchy=\"false\">)</mo>\n",
            "        </mrow>\n",
            "        <mo>=</mo>\n",
            "        <mrow class=\"MJX-TeXAtom-ORD\">\n",
            "          <mi>P</mi>\n",
            "          <mi>M</mi>\n",
            "          <mi>M</mi>\n",
            "          <mo stretchy=\"false\">(</mo>\n",
            "          <mi>t</mi>\n",
            "          <mi>o</mi>\n",
            "          <mi>k</mi>\n",
            "          <mi>e</mi>\n",
            "          <msub>\n",
            "            <mi>n</mi>\n",
            "            <mrow class=\"MJX-TeXAtom-ORD\">\n",
            "              <mi>N</mi>\n",
            "            </mrow>\n",
            "          </msub>\n",
            "          <mo stretchy=\"false\">)</mo>\n",
            "        </mrow>\n",
            "        <mo>&#x00D7;<!-- × --></mo>\n",
            "        <mrow class=\"MJX-TeXAtom-ORD\">\n",
            "          <mfrac>\n",
            "            <mn>1</mn>\n",
            "            <mrow>\n",
            "              <mn>2</mn>\n",
            "              <mi>d</mi>\n",
            "            </mrow>\n",
            "          </mfrac>\n",
            "        </mrow>\n",
            "        <mrow>\n",
            "          <mo>(</mo>\n",
            "          <mrow>\n",
            "            <munderover>\n",
            "              <mo>&#x2211;<!-- ∑ --></mo>\n",
            "              <mrow class=\"MJX-TeXAtom-ORD\">\n",
            "                <mi>i</mi>\n",
            "                <mo>=</mo>\n",
            "                <mo>&#x2212;<!-- − --></mo>\n",
            "                <mi>d</mi>\n",
            "              </mrow>\n",
            "              <mrow class=\"MJX-TeXAtom-ORD\">\n",
            "                <mi>d</mi>\n",
            "              </mrow>\n",
            "            </munderover>\n",
            "            <mrow class=\"MJX-TeXAtom-ORD\">\n",
            "              <mo stretchy=\"false\">(</mo>\n",
            "              <mo stretchy=\"false\">(</mo>\n",
            "              <mi>P</mi>\n",
            "              <mi>M</mi>\n",
            "              <mi>M</mi>\n",
            "              <mo stretchy=\"false\">(</mo>\n",
            "              <mi>t</mi>\n",
            "              <mi>o</mi>\n",
            "              <mi>k</mi>\n",
            "              <mi>e</mi>\n",
            "              <msub>\n",
            "                <mi>n</mi>\n",
            "                <mrow class=\"MJX-TeXAtom-ORD\">\n",
            "                  <mi>N</mi>\n",
            "                  <mo>&#x2212;<!-- − --></mo>\n",
            "                  <mn>1</mn>\n",
            "                </mrow>\n",
            "              </msub>\n",
            "              <mo stretchy=\"false\">)</mo>\n",
            "            </mrow>\n",
            "            <mo>&#x00D7;<!-- × --></mo>\n",
            "            <mrow class=\"MJX-TeXAtom-ORD\">\n",
            "              <mi>P</mi>\n",
            "              <mi>F</mi>\n",
            "              <mo stretchy=\"false\">(</mo>\n",
            "              <mi>t</mi>\n",
            "              <mi>o</mi>\n",
            "              <mi>k</mi>\n",
            "              <mi>e</mi>\n",
            "              <msub>\n",
            "                <mi>n</mi>\n",
            "                <mrow class=\"MJX-TeXAtom-ORD\">\n",
            "                  <mi>N</mi>\n",
            "                </mrow>\n",
            "              </msub>\n",
            "              <mo>,</mo>\n",
            "              <mi>t</mi>\n",
            "              <mi>o</mi>\n",
            "              <mi>k</mi>\n",
            "              <mi>e</mi>\n",
            "              <msub>\n",
            "                <mi>n</mi>\n",
            "                <mrow class=\"MJX-TeXAtom-ORD\">\n",
            "                  <mi>N</mi>\n",
            "                  <mo>&#x2212;<!-- − --></mo>\n",
            "                  <mn>1</mn>\n",
            "                </mrow>\n",
            "              </msub>\n",
            "              <mo stretchy=\"false\">)</mo>\n",
            "              <msub>\n",
            "                <mo stretchy=\"false\">)</mo>\n",
            "                <mrow class=\"MJX-TeXAtom-ORD\">\n",
            "                  <mi>i</mi>\n",
            "                </mrow>\n",
            "              </msub>\n",
            "            </mrow>\n",
            "          </mrow>\n",
            "          <mo>)</mo>\n",
            "        </mrow>\n",
            "      </mstyle>\n",
            "    </mrow>\n",
            "    <annotation encoding=\"application/x-tex\">{\\displaystyle {RMM(token_{N})}={PMM(token_{N})}\\times {\\frac {1}{2d}}\\left(\\sum _{i=-d}^{d}{((PMM(token_{N-1})}\\times {PF(token_{N},token_{N-1}))_{i}}\\right)}</annotation>\n",
            "  </semantics>\n",
            "</math></span><img src=\"https://wikimedia.org/api/rest_v1/media/math/render/svg/145bdbd62e463df3e65c94db2e17224ecbcb2c40\" class=\"mwe-math-fallback-image-inline\" aria-hidden=\"true\" style=\"vertical-align: -3.171ex; width:96.554ex; height:7.509ex;\" alt=\"{\\displaystyle {RMM(token_{N})}={PMM(token_{N})}\\times {\\frac {1}{2d}}\\left(\\sum _{i=-d}^{d}{((PMM(token_{N-1})}\\times {PF(token_{N},token_{N-1}))_{i}}\\right)}\"/></span></dd></dl>\n",
            "<p><i>Where,</i>\n",
            "<br />&#160; &#8195; &#160;<b>RMM</b>, is the Relative Measure of Meaning\n",
            "<br />&#160; &#8195; &#160;<b>token</b>, is any block of text, sentence, phrase or word\n",
            "<br />&#160; &#8195; &#160;<b>N</b>, is the number of tokens being analyzed\n",
            "<br />&#160; &#8195; &#160;<b>PMM</b>, is the Probable Measure of Meaning based on a corpora\n",
            "<br />&#160; &#8195; &#160;<b>d</b>, is the location of the token along the sequence of <b>N-1</b> tokens\n",
            "<br />&#160; &#8195; &#160;<b>PF</b>, is the Probability Function specific to a language\n",
            "</p>\n",
            "<h2><span class=\"mw-headline\" id=\"See_also\">See also</span><span class=\"mw-editsection\"><span class=\"mw-editsection-bracket\">[</span><a href=\"/w/index.php?title=Natural_language_processing&amp;action=edit&amp;section=17\" title=\"Edit section: See also\">edit</a><span class=\"mw-editsection-bracket\">]</span></span></h2>\n",
            "<style data-mw-deduplicate=\"TemplateStyles:r994648498\">.mw-parser-output .div-col{margin-top:0.3em;column-width:30em}.mw-parser-output .div-col-small{font-size:90%}.mw-parser-output .div-col dl,.mw-parser-output .div-col ol,.mw-parser-output .div-col ul{margin-top:0}.mw-parser-output .div-col li,.mw-parser-output .div-col dd{page-break-inside:avoid;break-inside:avoid-column}</style><div class=\"div-col\" style=\"-moz-column-width: 22em; -webkit-column-width: 22em; column-width: 22em;\">\n",
            "<ul><li><i><a href=\"/wiki/1_the_Road\" title=\"1 the Road\">1 the Road</a></i></li>\n",
            "<li><a href=\"/wiki/Automated_essay_scoring\" title=\"Automated essay scoring\">Automated essay scoring</a></li>\n",
            "<li><a href=\"/wiki/Biomedical_text_mining\" title=\"Biomedical text mining\">Biomedical text mining</a></li>\n",
            "<li><a href=\"/wiki/Compound_term_processing\" class=\"mw-redirect\" title=\"Compound term processing\">Compound term processing</a></li>\n",
            "<li><a href=\"/wiki/Computational_linguistics\" title=\"Computational linguistics\">Computational linguistics</a></li>\n",
            "<li><a href=\"/wiki/Computer-assisted_reviewing\" title=\"Computer-assisted reviewing\">Computer-assisted reviewing</a></li>\n",
            "<li><a href=\"/wiki/Controlled_natural_language\" title=\"Controlled natural language\">Controlled natural language</a></li>\n",
            "<li><a href=\"/wiki/Deep_learning\" title=\"Deep learning\">Deep learning</a></li>\n",
            "<li><a href=\"/wiki/Deep_linguistic_processing\" title=\"Deep linguistic processing\">Deep linguistic processing</a></li>\n",
            "<li><a href=\"/wiki/Distributional_semantics\" title=\"Distributional semantics\">Distributional semantics</a></li>\n",
            "<li><a href=\"/wiki/Foreign_language_reading_aid\" class=\"mw-redirect\" title=\"Foreign language reading aid\">Foreign language reading aid</a></li>\n",
            "<li><a href=\"/wiki/Foreign_language_writing_aid\" title=\"Foreign language writing aid\">Foreign language writing aid</a></li>\n",
            "<li><a href=\"/wiki/Information_extraction\" title=\"Information extraction\">Information extraction</a></li>\n",
            "<li><a href=\"/wiki/Information_retrieval\" title=\"Information retrieval\">Information retrieval</a></li>\n",
            "<li><a href=\"/wiki/Language_and_Communication_Technologies\" title=\"Language and Communication Technologies\">Language and Communication Technologies</a></li>\n",
            "<li><a href=\"/wiki/Language_technology\" title=\"Language technology\">Language technology</a></li>\n",
            "<li><a href=\"/wiki/Latent_semantic_indexing\" class=\"mw-redirect\" title=\"Latent semantic indexing\">Latent semantic indexing</a></li>\n",
            "<li><a href=\"/wiki/Native-language_identification\" title=\"Native-language identification\">Native-language identification</a></li>\n",
            "<li><a href=\"/wiki/Natural_language_programming\" class=\"mw-redirect\" title=\"Natural language programming\">Natural language programming</a></li>\n",
            "<li><a href=\"/wiki/Natural_language_user_interface\" class=\"mw-redirect\" title=\"Natural language user interface\">Natural language search</a></li>\n",
            "<li><a href=\"/wiki/Outline_of_natural_language_processing\" title=\"Outline of natural language processing\">Outline of natural language processing</a></li>\n",
            "<li><a href=\"/wiki/Query_expansion\" title=\"Query expansion\">Query expansion</a></li>\n",
            "<li><a href=\"/wiki/Query_understanding\" title=\"Query understanding\">Query understanding</a></li>\n",
            "<li><a href=\"/wiki/Reification_(linguistics)\" title=\"Reification (linguistics)\">Reification (linguistics)</a></li>\n",
            "<li><a href=\"/wiki/Speech_processing\" title=\"Speech processing\">Speech processing</a></li>\n",
            "<li><a href=\"/wiki/Spoken_dialogue_system\" class=\"mw-redirect\" title=\"Spoken dialogue system\">Spoken dialogue system</a></li>\n",
            "<li><a href=\"/wiki/Text-proofing\" class=\"mw-redirect\" title=\"Text-proofing\">Text-proofing</a></li>\n",
            "<li><a href=\"/wiki/Text_simplification\" title=\"Text simplification\">Text simplification</a></li>\n",
            "<li><a href=\"/wiki/Transformer_(machine_learning_model)\" title=\"Transformer (machine learning model)\">Transformer (machine learning model)</a></li>\n",
            "<li><a href=\"/wiki/Truecasing\" title=\"Truecasing\">Truecasing</a></li>\n",
            "<li><a href=\"/wiki/Question_answering\" title=\"Question answering\">Question answering</a></li>\n",
            "<li><a href=\"/wiki/Word2vec\" title=\"Word2vec\">Word2vec</a></li></ul>\n",
            "</div>\n",
            "<h2><span class=\"mw-headline\" id=\"References\">References</span><span class=\"mw-editsection\"><span class=\"mw-editsection-bracket\">[</span><a href=\"/w/index.php?title=Natural_language_processing&amp;action=edit&amp;section=18\" title=\"Edit section: References\">edit</a><span class=\"mw-editsection-bracket\">]</span></span></h2>\n",
            "<div class=\"reflist columns references-column-width\" style=\"-moz-column-width: 30em; -webkit-column-width: 30em; column-width: 30em; list-style-type: decimal;\">\n",
            "<ol class=\"references\">\n",
            "<li id=\"cite_note-Kongthon-1\"><span class=\"mw-cite-backlink\"><b><a href=\"#cite_ref-Kongthon_1-0\">^</a></b></span> <span class=\"reference-text\"><cite id=\"CITEREFKongthonSangkeettrakarnKongyoungHaruechaiyasak2009\" class=\"citation conference cs1\">Kongthon, Alisa; Sangkeettrakarn, Chatchawal; Kongyoung, Sarawoot; Haruechaiyasak, Choochart (October 27–30, 2009). <i>Implementing an online help desk system based on conversational agent</i>. MEDES '09: The International Conference on Management of Emergent Digital EcoSystems. France: ACM. <a href=\"/wiki/Doi_(identifier)\" class=\"mw-redirect\" title=\"Doi (identifier)\">doi</a>:<a rel=\"nofollow\" class=\"external text\" href=\"https://doi.org/10.1145%2F1643823.1643908\">10.1145/1643823.1643908</a>.</cite><span title=\"ctx_ver=Z39.88-2004&amp;rft_val_fmt=info%3Aofi%2Ffmt%3Akev%3Amtx%3Abook&amp;rft.genre=conference&amp;rft.btitle=Implementing+an+online+help+desk+system+based+on+conversational+agent&amp;rft.place=France&amp;rft.pub=ACM&amp;rft.date=2009-10-27%2F2009-10-30&amp;rft_id=info%3Adoi%2F10.1145%2F1643823.1643908&amp;rft.aulast=Kongthon&amp;rft.aufirst=Alisa&amp;rft.au=Sangkeettrakarn%2C+Chatchawal&amp;rft.au=Kongyoung%2C+Sarawoot&amp;rft.au=Haruechaiyasak%2C+Choochart&amp;rfr_id=info%3Asid%2Fen.wikipedia.org%3ANatural+language+processing\" class=\"Z3988\"></span><style data-mw-deduplicate=\"TemplateStyles:r982806391\">.mw-parser-output cite.citation{font-style:inherit}.mw-parser-output .citation q{quotes:\"\\\"\"\"\\\"\"\"'\"\"'\"}.mw-parser-output .id-lock-free a,.mw-parser-output .citation .cs1-lock-free a{background:linear-gradient(transparent,transparent),url(\"//upload.wikimedia.org/wikipedia/commons/6/65/Lock-green.svg\")right 0.1em center/9px no-repeat}.mw-parser-output .id-lock-limited a,.mw-parser-output .id-lock-registration a,.mw-parser-output .citation .cs1-lock-limited a,.mw-parser-output .citation .cs1-lock-registration a{background:linear-gradient(transparent,transparent),url(\"//upload.wikimedia.org/wikipedia/commons/d/d6/Lock-gray-alt-2.svg\")right 0.1em center/9px no-repeat}.mw-parser-output .id-lock-subscription a,.mw-parser-output .citation .cs1-lock-subscription a{background:linear-gradient(transparent,transparent),url(\"//upload.wikimedia.org/wikipedia/commons/a/aa/Lock-red-alt-2.svg\")right 0.1em center/9px no-repeat}.mw-parser-output .cs1-subscription,.mw-parser-output .cs1-registration{color:#555}.mw-parser-output .cs1-subscription span,.mw-parser-output .cs1-registration span{border-bottom:1px dotted;cursor:help}.mw-parser-output .cs1-ws-icon a{background:linear-gradient(transparent,transparent),url(\"//upload.wikimedia.org/wikipedia/commons/4/4c/Wikisource-logo.svg\")right 0.1em center/12px no-repeat}.mw-parser-output code.cs1-code{color:inherit;background:inherit;border:none;padding:inherit}.mw-parser-output .cs1-hidden-error{display:none;font-size:100%}.mw-parser-output .cs1-visible-error{font-size:100%}.mw-parser-output .cs1-maint{display:none;color:#33aa33;margin-left:0.3em}.mw-parser-output .cs1-subscription,.mw-parser-output .cs1-registration,.mw-parser-output .cs1-format{font-size:95%}.mw-parser-output .cs1-kern-left,.mw-parser-output .cs1-kern-wl-left{padding-left:0.2em}.mw-parser-output .cs1-kern-right,.mw-parser-output .cs1-kern-wl-right{padding-right:0.2em}.mw-parser-output .citation .mw-selflink{font-weight:inherit}</style></span>\n",
            "</li>\n",
            "<li id=\"cite_note-2\"><span class=\"mw-cite-backlink\"><b><a href=\"#cite_ref-2\">^</a></b></span> <span class=\"reference-text\"><cite id=\"CITEREFHutchins,_J.2005\" class=\"citation web cs1\">Hutchins, J. (2005). <a rel=\"nofollow\" class=\"external text\" href=\"http://www.hutchinsweb.me.uk/Nutshell-2005.pdf\">\"The history of machine translation in a nutshell\"</a> <span class=\"cs1-format\">(PDF)</span>.</cite><span title=\"ctx_ver=Z39.88-2004&amp;rft_val_fmt=info%3Aofi%2Ffmt%3Akev%3Amtx%3Abook&amp;rft.genre=unknown&amp;rft.btitle=The+history+of+machine+translation+in+a+nutshell&amp;rft.date=2005&amp;rft.au=Hutchins%2C+J.&amp;rft_id=http%3A%2F%2Fwww.hutchinsweb.me.uk%2FNutshell-2005.pdf&amp;rfr_id=info%3Asid%2Fen.wikipedia.org%3ANatural+language+processing\" class=\"Z3988\"></span><link rel=\"mw-deduplicated-inline-style\" href=\"mw-data:TemplateStyles:r982806391\"/><sup class=\"noprint Inline-Template\" style=\"white-space:nowrap;\">&#91;<i><a href=\"/wiki/Wikipedia:Verifiability#Self-published_sources\" title=\"Wikipedia:Verifiability\"><span title=\"This reference citation appears to be to a self-published source. (December 2013)\">self-published source</span></a></i>&#93;</sup></span>\n",
            "</li>\n",
            "<li id=\"cite_note-3\"><span class=\"mw-cite-backlink\"><b><a href=\"#cite_ref-3\">^</a></b></span> <span class=\"reference-text\"><cite id=\"CITEREFKoskenniemi1983\" class=\"citation cs2\"><a href=\"/wiki/Kimmo_Koskenniemi\" title=\"Kimmo Koskenniemi\">Koskenniemi, Kimmo</a> (1983), <a rel=\"nofollow\" class=\"external text\" href=\"http://www.ling.helsinki.fi/~koskenni/doc/Two-LevelMorphology.pdf\"><i>Two-level morphology: A general computational model of word-form recognition and production</i></a> <span class=\"cs1-format\">(PDF)</span>, Department of General Linguistics, <a href=\"/wiki/University_of_Helsinki\" title=\"University of Helsinki\">University of Helsinki</a></cite><span title=\"ctx_ver=Z39.88-2004&amp;rft_val_fmt=info%3Aofi%2Ffmt%3Akev%3Amtx%3Abook&amp;rft.genre=book&amp;rft.btitle=Two-level+morphology%3A+A+general+computational+model+of+word-form+recognition+and+production&amp;rft.pub=Department+of+General+Linguistics%2C+University+of+Helsinki&amp;rft.date=1983&amp;rft.aulast=Koskenniemi&amp;rft.aufirst=Kimmo&amp;rft_id=http%3A%2F%2Fwww.ling.helsinki.fi%2F~koskenni%2Fdoc%2FTwo-LevelMorphology.pdf&amp;rfr_id=info%3Asid%2Fen.wikipedia.org%3ANatural+language+processing\" class=\"Z3988\"></span><link rel=\"mw-deduplicated-inline-style\" href=\"mw-data:TemplateStyles:r982806391\"/></span>\n",
            "</li>\n",
            "<li id=\"cite_note-4\"><span class=\"mw-cite-backlink\"><b><a href=\"#cite_ref-4\">^</a></b></span> <span class=\"reference-text\">Joshi, A. K., &amp; Weinstein, S. (1981, August). <a rel=\"nofollow\" class=\"external text\" href=\"https://www.ijcai.org/Proceedings/81-1/Papers/071.pdf\">Control of Inference: Role of Some Aspects of Discourse Structure-Centering</a>. In <i>IJCAI</i> (pp. 385-387).</span>\n",
            "</li>\n",
            "<li id=\"cite_note-5\"><span class=\"mw-cite-backlink\"><b><a href=\"#cite_ref-5\">^</a></b></span> <span class=\"reference-text\"><cite id=\"CITEREFGuidaMauri1986\" class=\"citation journal cs1\">Guida, G.; Mauri, G. (July 1986). \"Evaluation of natural language processing systems: Issues and approaches\". <i>Proceedings of the IEEE</i>. <b>74</b> (7): 1026–1035. <a href=\"/wiki/Doi_(identifier)\" class=\"mw-redirect\" title=\"Doi (identifier)\">doi</a>:<a rel=\"nofollow\" class=\"external text\" href=\"https://doi.org/10.1109%2FPROC.1986.13580\">10.1109/PROC.1986.13580</a>. <a href=\"/wiki/ISSN_(identifier)\" class=\"mw-redirect\" title=\"ISSN (identifier)\">ISSN</a>&#160;<a rel=\"nofollow\" class=\"external text\" href=\"//www.worldcat.org/issn/1558-2256\">1558-2256</a>. <a href=\"/wiki/S2CID_(identifier)\" class=\"mw-redirect\" title=\"S2CID (identifier)\">S2CID</a>&#160;<a rel=\"nofollow\" class=\"external text\" href=\"https://api.semanticscholar.org/CorpusID:30688575\">30688575</a>.</cite><span title=\"ctx_ver=Z39.88-2004&amp;rft_val_fmt=info%3Aofi%2Ffmt%3Akev%3Amtx%3Ajournal&amp;rft.genre=article&amp;rft.jtitle=Proceedings+of+the+IEEE&amp;rft.atitle=Evaluation+of+natural+language+processing+systems%3A+Issues+and+approaches&amp;rft.volume=74&amp;rft.issue=7&amp;rft.pages=1026-1035&amp;rft.date=1986-07&amp;rft_id=https%3A%2F%2Fapi.semanticscholar.org%2FCorpusID%3A30688575&amp;rft.issn=1558-2256&amp;rft_id=info%3Adoi%2F10.1109%2FPROC.1986.13580&amp;rft.aulast=Guida&amp;rft.aufirst=G.&amp;rft.au=Mauri%2C+G.&amp;rfr_id=info%3Asid%2Fen.wikipedia.org%3ANatural+language+processing\" class=\"Z3988\"></span><link rel=\"mw-deduplicated-inline-style\" href=\"mw-data:TemplateStyles:r982806391\"/></span>\n",
            "</li>\n",
            "<li id=\"cite_note-6\"><span class=\"mw-cite-backlink\"><b><a href=\"#cite_ref-6\">^</a></b></span> <span class=\"reference-text\">Chomskyan linguistics encourages the investigation of \"<a href=\"/wiki/Corner_case\" title=\"Corner case\">corner cases</a>\" that stress the limits of its theoretical models (comparable to <a href=\"/wiki/Pathological_(mathematics)\" title=\"Pathological (mathematics)\">pathological</a> phenomena in mathematics), typically created using <a href=\"/wiki/Thought_experiment\" title=\"Thought experiment\">thought experiments</a>, rather than the systematic investigation of typical phenomena that occur in real-world data, as is the case in <a href=\"/wiki/Corpus_linguistics\" title=\"Corpus linguistics\">corpus linguistics</a>.  The creation and use of such <a href=\"/wiki/Text_corpus\" title=\"Text corpus\">corpora</a> of real-world data is a fundamental part of machine-learning algorithms for natural language processing.  In addition, theoretical underpinnings of Chomskyan linguistics such as the so-called \"<a href=\"/wiki/Poverty_of_the_stimulus\" title=\"Poverty of the stimulus\">poverty of the stimulus</a>\" argument entail that general learning algorithms, as are typically used in machine learning, cannot be successful in language processing.  As a result, the Chomskyan paradigm discouraged the application of such models to language processing.</span>\n",
            "</li>\n",
            "<li id=\"cite_note-goldberg:nnlp17-7\"><span class=\"mw-cite-backlink\"><b><a href=\"#cite_ref-goldberg:nnlp17_7-0\">^</a></b></span> <span class=\"reference-text\"><cite id=\"CITEREFGoldberg2016\" class=\"citation journal cs1\">Goldberg, Yoav (2016). \"A Primer on Neural Network Models for Natural Language Processing\". <i>Journal of Artificial Intelligence Research</i>. <b>57</b>: 345–420. <a href=\"/wiki/ArXiv_(identifier)\" class=\"mw-redirect\" title=\"ArXiv (identifier)\">arXiv</a>:<span class=\"cs1-lock-free\" title=\"Freely accessible\"><a rel=\"nofollow\" class=\"external text\" href=\"//arxiv.org/abs/1807.10854\">1807.10854</a></span>. <a href=\"/wiki/Doi_(identifier)\" class=\"mw-redirect\" title=\"Doi (identifier)\">doi</a>:<a rel=\"nofollow\" class=\"external text\" href=\"https://doi.org/10.1613%2Fjair.4992\">10.1613/jair.4992</a>. <a href=\"/wiki/S2CID_(identifier)\" class=\"mw-redirect\" title=\"S2CID (identifier)\">S2CID</a>&#160;<a rel=\"nofollow\" class=\"external text\" href=\"https://api.semanticscholar.org/CorpusID:8273530\">8273530</a>.</cite><span title=\"ctx_ver=Z39.88-2004&amp;rft_val_fmt=info%3Aofi%2Ffmt%3Akev%3Amtx%3Ajournal&amp;rft.genre=article&amp;rft.jtitle=Journal+of+Artificial+Intelligence+Research&amp;rft.atitle=A+Primer+on+Neural+Network+Models+for+Natural+Language+Processing&amp;rft.volume=57&amp;rft.pages=345-420&amp;rft.date=2016&amp;rft_id=info%3Aarxiv%2F1807.10854&amp;rft_id=https%3A%2F%2Fapi.semanticscholar.org%2FCorpusID%3A8273530&amp;rft_id=info%3Adoi%2F10.1613%2Fjair.4992&amp;rft.aulast=Goldberg&amp;rft.aufirst=Yoav&amp;rfr_id=info%3Asid%2Fen.wikipedia.org%3ANatural+language+processing\" class=\"Z3988\"></span><link rel=\"mw-deduplicated-inline-style\" href=\"mw-data:TemplateStyles:r982806391\"/></span>\n",
            "</li>\n",
            "<li id=\"cite_note-goodfellow:book16-8\"><span class=\"mw-cite-backlink\"><b><a href=\"#cite_ref-goodfellow:book16_8-0\">^</a></b></span> <span class=\"reference-text\"><cite id=\"CITEREFGoodfellowBengioCourville2016\" class=\"citation book cs1\">Goodfellow, Ian; Bengio, Yoshua; Courville, Aaron (2016). <a rel=\"nofollow\" class=\"external text\" href=\"http://www.deeplearningbook.org/\"><i>Deep Learning</i></a>. MIT Press.</cite><span title=\"ctx_ver=Z39.88-2004&amp;rft_val_fmt=info%3Aofi%2Ffmt%3Akev%3Amtx%3Abook&amp;rft.genre=book&amp;rft.btitle=Deep+Learning&amp;rft.pub=MIT+Press&amp;rft.date=2016&amp;rft.aulast=Goodfellow&amp;rft.aufirst=Ian&amp;rft.au=Bengio%2C+Yoshua&amp;rft.au=Courville%2C+Aaron&amp;rft_id=http%3A%2F%2Fwww.deeplearningbook.org%2F&amp;rfr_id=info%3Asid%2Fen.wikipedia.org%3ANatural+language+processing\" class=\"Z3988\"></span><link rel=\"mw-deduplicated-inline-style\" href=\"mw-data:TemplateStyles:r982806391\"/></span>\n",
            "</li>\n",
            "<li id=\"cite_note-jozefowicz:lm16-9\"><span class=\"mw-cite-backlink\"><b><a href=\"#cite_ref-jozefowicz:lm16_9-0\">^</a></b></span> <span class=\"reference-text\"><cite id=\"CITEREFJozefowiczVinyalsSchusterShazeer2016\" class=\"citation book cs1\">Jozefowicz, Rafal; Vinyals, Oriol; Schuster, Mike; Shazeer, Noam; Wu, Yonghui (2016). <i>Exploring the Limits of Language Modeling</i>. <a href=\"/wiki/ArXiv_(identifier)\" class=\"mw-redirect\" title=\"ArXiv (identifier)\">arXiv</a>:<span class=\"cs1-lock-free\" title=\"Freely accessible\"><a rel=\"nofollow\" class=\"external text\" href=\"//arxiv.org/abs/1602.02410\">1602.02410</a></span>. <a href=\"/wiki/Bibcode_(identifier)\" class=\"mw-redirect\" title=\"Bibcode (identifier)\">Bibcode</a>:<a rel=\"nofollow\" class=\"external text\" href=\"https://ui.adsabs.harvard.edu/abs/2016arXiv160202410J\">2016arXiv160202410J</a>.</cite><span title=\"ctx_ver=Z39.88-2004&amp;rft_val_fmt=info%3Aofi%2Ffmt%3Akev%3Amtx%3Abook&amp;rft.genre=book&amp;rft.btitle=Exploring+the+Limits+of+Language+Modeling&amp;rft.date=2016&amp;rft_id=info%3Aarxiv%2F1602.02410&amp;rft_id=info%3Abibcode%2F2016arXiv160202410J&amp;rft.aulast=Jozefowicz&amp;rft.aufirst=Rafal&amp;rft.au=Vinyals%2C+Oriol&amp;rft.au=Schuster%2C+Mike&amp;rft.au=Shazeer%2C+Noam&amp;rft.au=Wu%2C+Yonghui&amp;rfr_id=info%3Asid%2Fen.wikipedia.org%3ANatural+language+processing\" class=\"Z3988\"></span><link rel=\"mw-deduplicated-inline-style\" href=\"mw-data:TemplateStyles:r982806391\"/></span>\n",
            "</li>\n",
            "<li id=\"cite_note-choe:emnlp16-10\"><span class=\"mw-cite-backlink\"><b><a href=\"#cite_ref-choe:emnlp16_10-0\">^</a></b></span> <span class=\"reference-text\"><cite id=\"CITEREFChoeCharniak\" class=\"citation journal cs1\">Choe, Do Kook; Charniak, Eugene. <a rel=\"nofollow\" class=\"external text\" href=\"https://aclanthology.coli.uni-saarland.de/papers/D16-1257/d16-1257\">\"Parsing as Language Modeling\"</a>. <i>Emnlp 2016</i>.</cite><span title=\"ctx_ver=Z39.88-2004&amp;rft_val_fmt=info%3Aofi%2Ffmt%3Akev%3Amtx%3Ajournal&amp;rft.genre=article&amp;rft.jtitle=Emnlp+2016&amp;rft.atitle=Parsing+as+Language+Modeling&amp;rft.aulast=Choe&amp;rft.aufirst=Do+Kook&amp;rft.au=Charniak%2C+Eugene&amp;rft_id=https%3A%2F%2Faclanthology.coli.uni-saarland.de%2Fpapers%2FD16-1257%2Fd16-1257&amp;rfr_id=info%3Asid%2Fen.wikipedia.org%3ANatural+language+processing\" class=\"Z3988\"></span><link rel=\"mw-deduplicated-inline-style\" href=\"mw-data:TemplateStyles:r982806391\"/></span>\n",
            "</li>\n",
            "<li id=\"cite_note-vinyals:nips15-11\"><span class=\"mw-cite-backlink\"><b><a href=\"#cite_ref-vinyals:nips15_11-0\">^</a></b></span> <span class=\"reference-text\"><cite id=\"CITEREFVinyalsKaiser2014\" class=\"citation journal cs1\">Vinyals, Oriol;  et al. (2014). <a rel=\"nofollow\" class=\"external text\" href=\"https://papers.nips.cc/paper/5635-grammar-as-a-foreign-language.pdf\">\"Grammar as a Foreign Language\"</a> <span class=\"cs1-format\">(PDF)</span>. <i>Nips2015</i>. <a href=\"/wiki/ArXiv_(identifier)\" class=\"mw-redirect\" title=\"ArXiv (identifier)\">arXiv</a>:<span class=\"cs1-lock-free\" title=\"Freely accessible\"><a rel=\"nofollow\" class=\"external text\" href=\"//arxiv.org/abs/1412.7449\">1412.7449</a></span>. <a href=\"/wiki/Bibcode_(identifier)\" class=\"mw-redirect\" title=\"Bibcode (identifier)\">Bibcode</a>:<a rel=\"nofollow\" class=\"external text\" href=\"https://ui.adsabs.harvard.edu/abs/2014arXiv1412.7449V\">2014arXiv1412.7449V</a>.</cite><span title=\"ctx_ver=Z39.88-2004&amp;rft_val_fmt=info%3Aofi%2Ffmt%3Akev%3Amtx%3Ajournal&amp;rft.genre=article&amp;rft.jtitle=Nips2015&amp;rft.atitle=Grammar+as+a+Foreign+Language&amp;rft.date=2014&amp;rft_id=info%3Aarxiv%2F1412.7449&amp;rft_id=info%3Abibcode%2F2014arXiv1412.7449V&amp;rft.aulast=Vinyals&amp;rft.aufirst=Oriol&amp;rft.au=Kaiser%2C+Lukasz&amp;rft_id=https%3A%2F%2Fpapers.nips.cc%2Fpaper%2F5635-grammar-as-a-foreign-language.pdf&amp;rfr_id=info%3Asid%2Fen.wikipedia.org%3ANatural+language+processing\" class=\"Z3988\"></span><link rel=\"mw-deduplicated-inline-style\" href=\"mw-data:TemplateStyles:r982806391\"/></span>\n",
            "</li>\n",
            "<li id=\"cite_note-winograd:shrdlu71-12\"><span class=\"mw-cite-backlink\"><b><a href=\"#cite_ref-winograd:shrdlu71_12-0\">^</a></b></span> <span class=\"reference-text\"><cite id=\"CITEREFWinograd1971\" class=\"citation thesis cs1\">Winograd, Terry (1971). <a rel=\"nofollow\" class=\"external text\" href=\"http://hci.stanford.edu/winograd/shrdlu/\"><i>Procedures as a Representation for Data in a Computer Program for Understanding Natural Language</i></a> (Thesis).</cite><span title=\"ctx_ver=Z39.88-2004&amp;rft_val_fmt=info%3Aofi%2Ffmt%3Akev%3Amtx%3Adissertation&amp;rft.title=Procedures+as+a+Representation+for+Data+in+a+Computer+Program+for+Understanding+Natural+Language&amp;rft.date=1971&amp;rft.aulast=Winograd&amp;rft.aufirst=Terry&amp;rft_id=http%3A%2F%2Fhci.stanford.edu%2Fwinograd%2Fshrdlu%2F&amp;rfr_id=info%3Asid%2Fen.wikipedia.org%3ANatural+language+processing\" class=\"Z3988\"></span><link rel=\"mw-deduplicated-inline-style\" href=\"mw-data:TemplateStyles:r982806391\"/></span>\n",
            "</li>\n",
            "<li id=\"cite_note-schank77-13\"><span class=\"mw-cite-backlink\"><b><a href=\"#cite_ref-schank77_13-0\">^</a></b></span> <span class=\"reference-text\"><cite id=\"CITEREFSchankAbelson1977\" class=\"citation book cs1\">Schank, Roger C.; Abelson, Robert P. (1977). <i>Scripts, Plans, Goals, and Understanding: An Inquiry Into Human Knowledge Structures</i>. Hillsdale: Erlbaum. <a href=\"/wiki/ISBN_(identifier)\" class=\"mw-redirect\" title=\"ISBN (identifier)\">ISBN</a>&#160;<a href=\"/wiki/Special:BookSources/0-470-99033-3\" title=\"Special:BookSources/0-470-99033-3\"><bdi>0-470-99033-3</bdi></a>.</cite><span title=\"ctx_ver=Z39.88-2004&amp;rft_val_fmt=info%3Aofi%2Ffmt%3Akev%3Amtx%3Abook&amp;rft.genre=book&amp;rft.btitle=Scripts%2C+Plans%2C+Goals%2C+and+Understanding%3A+An+Inquiry+Into+Human+Knowledge+Structures&amp;rft.place=Hillsdale&amp;rft.pub=Erlbaum&amp;rft.date=1977&amp;rft.isbn=0-470-99033-3&amp;rft.aulast=Schank&amp;rft.aufirst=Roger+C.&amp;rft.au=Abelson%2C+Robert+P.&amp;rfr_id=info%3Asid%2Fen.wikipedia.org%3ANatural+language+processing\" class=\"Z3988\"></span><link rel=\"mw-deduplicated-inline-style\" href=\"mw-data:TemplateStyles:r982806391\"/></span>\n",
            "</li>\n",
            "<li id=\"cite_note-johnson:eacl:ilcl09-14\"><span class=\"mw-cite-backlink\"><b><a href=\"#cite_ref-johnson:eacl:ilcl09_14-0\">^</a></b></span> <span class=\"reference-text\"><a rel=\"nofollow\" class=\"external text\" href=\"http://www.aclweb.org/anthology/W09-0103\">Mark Johnson. How the statistical revolution changes (computational) linguistics.</a> Proceedings of the EACL 2009 Workshop on the Interaction between Linguistics and Computational Linguistics.</span>\n",
            "</li>\n",
            "<li id=\"cite_note-resnik:langlog11-15\"><span class=\"mw-cite-backlink\"><b><a href=\"#cite_ref-resnik:langlog11_15-0\">^</a></b></span> <span class=\"reference-text\"><a rel=\"nofollow\" class=\"external text\" href=\"http://languagelog.ldc.upenn.edu/nll/?p=2946\">Philip Resnik. Four revolutions.</a> Language Log, February 5, 2011.</span>\n",
            "</li>\n",
            "<li id=\"cite_note-16\"><span class=\"mw-cite-backlink\"><b><a href=\"#cite_ref-16\">^</a></b></span> <span class=\"reference-text\"><cite id=\"CITEREFSocher\" class=\"citation web cs1\">Socher, Richard. <a rel=\"nofollow\" class=\"external text\" href=\"https://www.socher.org/index.php/Main/DeepLearningForNLP-ACL2012Tutorial\">\"Deep Learning For NLP-ACL 2012 Tutorial\"</a>. <i>www.socher.org</i><span class=\"reference-accessdate\">. Retrieved <span class=\"nowrap\">2020-08-17</span></span>.</cite><span title=\"ctx_ver=Z39.88-2004&amp;rft_val_fmt=info%3Aofi%2Ffmt%3Akev%3Amtx%3Ajournal&amp;rft.genre=unknown&amp;rft.jtitle=www.socher.org&amp;rft.atitle=Deep+Learning+For+NLP-ACL+2012+Tutorial&amp;rft.aulast=Socher&amp;rft.aufirst=Richard&amp;rft_id=https%3A%2F%2Fwww.socher.org%2Findex.php%2FMain%2FDeepLearningForNLP-ACL2012Tutorial&amp;rfr_id=info%3Asid%2Fen.wikipedia.org%3ANatural+language+processing\" class=\"Z3988\"></span><link rel=\"mw-deduplicated-inline-style\" href=\"mw-data:TemplateStyles:r982806391\"/> This was an early Deep Learning tutorial at the ACL 2012 and met with both interest and (at the time) skepticism by most participants. Until then, neural learning was basically rejected because of its lack of statistical interpretability. Until 2015, deep learning had evolved into the major framework of NLP.</span>\n",
            "</li>\n",
            "<li id=\"cite_note-17\"><span class=\"mw-cite-backlink\"><b><a href=\"#cite_ref-17\">^</a></b></span> <span class=\"reference-text\"><cite id=\"CITEREFYiTian2012\" class=\"citation cs2\">Yi, Chucai; Tian, Yingli (2012), \"Assistive Text Reading from Complex Background for Blind Persons\", <i>Camera-Based Document Analysis and Recognition</i>, Springer Berlin Heidelberg, pp.&#160;15–28, <a href=\"/wiki/CiteSeerX_(identifier)\" class=\"mw-redirect\" title=\"CiteSeerX (identifier)\">CiteSeerX</a>&#160;<span class=\"cs1-lock-free\" title=\"Freely accessible\"><a rel=\"nofollow\" class=\"external text\" href=\"//citeseerx.ist.psu.edu/viewdoc/summary?doi=10.1.1.668.869\">10.1.1.668.869</a></span>, <a href=\"/wiki/Doi_(identifier)\" class=\"mw-redirect\" title=\"Doi (identifier)\">doi</a>:<a rel=\"nofollow\" class=\"external text\" href=\"https://doi.org/10.1007%2F978-3-642-29364-1_2\">10.1007/978-3-642-29364-1_2</a>, <a href=\"/wiki/ISBN_(identifier)\" class=\"mw-redirect\" title=\"ISBN (identifier)\">ISBN</a>&#160;<a href=\"/wiki/Special:BookSources/9783642293634\" title=\"Special:BookSources/9783642293634\"><bdi>9783642293634</bdi></a></cite><span title=\"ctx_ver=Z39.88-2004&amp;rft_val_fmt=info%3Aofi%2Ffmt%3Akev%3Amtx%3Ajournal&amp;rft.genre=article&amp;rft.jtitle=Camera-Based+Document+Analysis+and+Recognition&amp;rft.atitle=Assistive+Text+Reading+from+Complex+Background+for+Blind+Persons&amp;rft.pages=15-28&amp;rft.date=2012&amp;rft_id=%2F%2Fciteseerx.ist.psu.edu%2Fviewdoc%2Fsummary%3Fdoi%3D10.1.1.668.869&amp;rft_id=info%3Adoi%2F10.1007%2F978-3-642-29364-1_2&amp;rft.isbn=9783642293634&amp;rft.aulast=Yi&amp;rft.aufirst=Chucai&amp;rft.au=Tian%2C+Yingli&amp;rfr_id=info%3Asid%2Fen.wikipedia.org%3ANatural+language+processing\" class=\"Z3988\"></span><link rel=\"mw-deduplicated-inline-style\" href=\"mw-data:TemplateStyles:r982806391\"/></span>\n",
            "</li>\n",
            "<li id=\"cite_note-18\"><span class=\"mw-cite-backlink\"><b><a href=\"#cite_ref-18\">^</a></b></span> <span class=\"reference-text\"><cite id=\"CITEREFKishorjitVidyaNirmalSivaji2012\" class=\"citation journal cs1\">Kishorjit, N.; Vidya, Raj RK.; Nirmal, Y.; Sivaji, B. (2012). <a rel=\"nofollow\" class=\"external text\" href=\"http://aclweb.org/anthology//W/W12/W12-5008.pdf\">\"Manipuri Morpheme Identification\"</a> <span class=\"cs1-format\">(PDF)</span>. <i>Proceedings of the 3rd Workshop on South and Southeast Asian Natural Language Processing (SANLP)</i>. COLING 2012, Mumbai, December 2012: 95–108.</cite><span title=\"ctx_ver=Z39.88-2004&amp;rft_val_fmt=info%3Aofi%2Ffmt%3Akev%3Amtx%3Ajournal&amp;rft.genre=article&amp;rft.jtitle=Proceedings+of+the+3rd+Workshop+on+South+and+Southeast+Asian+Natural+Language+Processing+%28SANLP%29&amp;rft.atitle=Manipuri+Morpheme+Identification&amp;rft.pages=95-108&amp;rft.date=2012&amp;rft.aulast=Kishorjit&amp;rft.aufirst=N.&amp;rft.au=Vidya%2C+Raj+RK.&amp;rft.au=Nirmal%2C+Y.&amp;rft.au=Sivaji%2C+B.&amp;rft_id=http%3A%2F%2Faclweb.org%2Fanthology%2F%2FW%2FW12%2FW12-5008.pdf&amp;rfr_id=info%3Asid%2Fen.wikipedia.org%3ANatural+language+processing\" class=\"Z3988\"></span><span class=\"cs1-maint citation-comment\">CS1 maint: location (<a href=\"/wiki/Category:CS1_maint:_location\" title=\"Category:CS1 maint: location\">link</a>)</span><link rel=\"mw-deduplicated-inline-style\" href=\"mw-data:TemplateStyles:r982806391\"/></span>\n",
            "</li>\n",
            "<li id=\"cite_note-19\"><span class=\"mw-cite-backlink\"><b><a href=\"#cite_ref-19\">^</a></b></span> <span class=\"reference-text\"><cite id=\"CITEREFKleinManning2002\" class=\"citation journal cs1\">Klein, Dan; Manning, Christopher D. (2002). <a rel=\"nofollow\" class=\"external text\" href=\"http://papers.nips.cc/paper/1945-natural-language-grammar-induction-using-a-constituent-context-model.pdf\">\"Natural language grammar induction using a constituent-context model\"</a> <span class=\"cs1-format\">(PDF)</span>. <i>Advances in Neural Information Processing Systems</i>.</cite><span title=\"ctx_ver=Z39.88-2004&amp;rft_val_fmt=info%3Aofi%2Ffmt%3Akev%3Amtx%3Ajournal&amp;rft.genre=article&amp;rft.jtitle=Advances+in+Neural+Information+Processing+Systems&amp;rft.atitle=Natural+language+grammar+induction+using+a+constituent-context+model&amp;rft.date=2002&amp;rft.aulast=Klein&amp;rft.aufirst=Dan&amp;rft.au=Manning%2C+Christopher+D.&amp;rft_id=http%3A%2F%2Fpapers.nips.cc%2Fpaper%2F1945-natural-language-grammar-induction-using-a-constituent-context-model.pdf&amp;rfr_id=info%3Asid%2Fen.wikipedia.org%3ANatural+language+processing\" class=\"Z3988\"></span><link rel=\"mw-deduplicated-inline-style\" href=\"mw-data:TemplateStyles:r982806391\"/></span>\n",
            "</li>\n",
            "<li id=\"cite_note-rte:11-20\"><span class=\"mw-cite-backlink\"><b><a href=\"#cite_ref-rte:11_20-0\">^</a></b></span> <span class=\"reference-text\">PASCAL Recognizing Textual Entailment Challenge (RTE-7) <a rel=\"nofollow\" class=\"external free\" href=\"https://tac.nist.gov//2011/RTE/\">https://tac.nist.gov//2011/RTE/</a></span>\n",
            "</li>\n",
            "<li id=\"cite_note-21\"><span class=\"mw-cite-backlink\"><b><a href=\"#cite_ref-21\">^</a></b></span> <span class=\"reference-text\"><cite class=\"citation web cs1\"><a rel=\"nofollow\" class=\"external text\" href=\"http://www.ubu.com/historical/racter/index.html\">\"U B U W E B&#160;:: Racter\"</a>. <i>www.ubu.com</i><span class=\"reference-accessdate\">. Retrieved <span class=\"nowrap\">2020-08-17</span></span>.</cite><span title=\"ctx_ver=Z39.88-2004&amp;rft_val_fmt=info%3Aofi%2Ffmt%3Akev%3Amtx%3Ajournal&amp;rft.genre=unknown&amp;rft.jtitle=www.ubu.com&amp;rft.atitle=U+B+U+W+E+B+%3A%3A+Racter&amp;rft_id=http%3A%2F%2Fwww.ubu.com%2Fhistorical%2Fracter%2Findex.html&amp;rfr_id=info%3Asid%2Fen.wikipedia.org%3ANatural+language+processing\" class=\"Z3988\"></span><link rel=\"mw-deduplicated-inline-style\" href=\"mw-data:TemplateStyles:r982806391\"/></span>\n",
            "</li>\n",
            "<li id=\"cite_note-22\"><span class=\"mw-cite-backlink\"><b><a href=\"#cite_ref-22\">^</a></b></span> <span class=\"reference-text\"><cite id=\"CITEREFWriter2019\" class=\"citation book cs1\">Writer, Beta (2019). <i>Lithium-Ion Batteries</i>. <a href=\"/wiki/Doi_(identifier)\" class=\"mw-redirect\" title=\"Doi (identifier)\">doi</a>:<a rel=\"nofollow\" class=\"external text\" href=\"https://doi.org/10.1007%2F978-3-030-16800-1\">10.1007/978-3-030-16800-1</a>. <a href=\"/wiki/ISBN_(identifier)\" class=\"mw-redirect\" title=\"ISBN (identifier)\">ISBN</a>&#160;<a href=\"/wiki/Special:BookSources/978-3-030-16799-8\" title=\"Special:BookSources/978-3-030-16799-8\"><bdi>978-3-030-16799-8</bdi></a>.</cite><span title=\"ctx_ver=Z39.88-2004&amp;rft_val_fmt=info%3Aofi%2Ffmt%3Akev%3Amtx%3Abook&amp;rft.genre=book&amp;rft.btitle=Lithium-Ion+Batteries&amp;rft.date=2019&amp;rft_id=info%3Adoi%2F10.1007%2F978-3-030-16800-1&amp;rft.isbn=978-3-030-16799-8&amp;rft.aulast=Writer&amp;rft.aufirst=Beta&amp;rfr_id=info%3Asid%2Fen.wikipedia.org%3ANatural+language+processing\" class=\"Z3988\"></span><link rel=\"mw-deduplicated-inline-style\" href=\"mw-data:TemplateStyles:r982806391\"/></span>\n",
            "</li>\n",
            "<li id=\"cite_note-23\"><span class=\"mw-cite-backlink\"><b><a href=\"#cite_ref-23\">^</a></b></span> <span class=\"reference-text\"><cite id=\"CITEREFDuanCruz2011\" class=\"citation journal cs1\">Duan, Yucong; Cruz, Christophe (2011). <a rel=\"nofollow\" class=\"external text\" href=\"https://web.archive.org/web/20111009135952/http://www.ijimt.org/abstract/100-E00187.htm\">\"Formalizing Semantic of Natural Language through Conceptualization from Existence\"</a>. <i>International Journal of Innovation, Management and Technology</i>. <b>2</b> (1): 37–42. Archived from <a rel=\"nofollow\" class=\"external text\" href=\"http://www.ijimt.org/abstract/100-E00187.htm\">the original</a> on 2011-10-09.</cite><span title=\"ctx_ver=Z39.88-2004&amp;rft_val_fmt=info%3Aofi%2Ffmt%3Akev%3Amtx%3Ajournal&amp;rft.genre=article&amp;rft.jtitle=International+Journal+of+Innovation%2C+Management+and+Technology&amp;rft.atitle=Formalizing+Semantic+of+Natural+Language+through+Conceptualization+from+Existence&amp;rft.volume=2&amp;rft.issue=1&amp;rft.pages=37-42&amp;rft.date=2011&amp;rft.aulast=Duan&amp;rft.aufirst=Yucong&amp;rft.au=Cruz%2C+Christophe&amp;rft_id=http%3A%2F%2Fwww.ijimt.org%2Fabstract%2F100-E00187.htm&amp;rfr_id=info%3Asid%2Fen.wikipedia.org%3ANatural+language+processing\" class=\"Z3988\"></span><link rel=\"mw-deduplicated-inline-style\" href=\"mw-data:TemplateStyles:r982806391\"/></span>\n",
            "</li>\n",
            "<li id=\"cite_note-24\"><span class=\"mw-cite-backlink\"><b><a href=\"#cite_ref-24\">^</a></b></span> <span class=\"reference-text\"><cite id=\"CITEREFMittal2011\" class=\"citation journal cs1\">Mittal (2011). <a rel=\"nofollow\" class=\"external text\" href=\"https://hal.archives-ouvertes.fr/hal-01104648/file/Mittal_VersatileQA_IJIIDS.pdf\">\"Versatile question answering systems: seeing in synthesis\"</a> <span class=\"cs1-format\">(PDF)</span>. <i>International Journal of Intelligent Information and Database Systems</i>. <b>5</b> (2): 119–142. <a href=\"/wiki/Doi_(identifier)\" class=\"mw-redirect\" title=\"Doi (identifier)\">doi</a>:<a rel=\"nofollow\" class=\"external text\" href=\"https://doi.org/10.1504%2FIJIIDS.2011.038968\">10.1504/IJIIDS.2011.038968</a>.</cite><span title=\"ctx_ver=Z39.88-2004&amp;rft_val_fmt=info%3Aofi%2Ffmt%3Akev%3Amtx%3Ajournal&amp;rft.genre=article&amp;rft.jtitle=International+Journal+of+Intelligent+Information+and+Database+Systems&amp;rft.atitle=Versatile+question+answering+systems%3A+seeing+in+synthesis&amp;rft.volume=5&amp;rft.issue=2&amp;rft.pages=119-142&amp;rft.date=2011&amp;rft_id=info%3Adoi%2F10.1504%2FIJIIDS.2011.038968&amp;rft.au=Mittal&amp;rft_id=https%3A%2F%2Fhal.archives-ouvertes.fr%2Fhal-01104648%2Ffile%2FMittal_VersatileQA_IJIIDS.pdf&amp;rfr_id=info%3Asid%2Fen.wikipedia.org%3ANatural+language+processing\" class=\"Z3988\"></span><link rel=\"mw-deduplicated-inline-style\" href=\"mw-data:TemplateStyles:r982806391\"/></span>\n",
            "</li>\n",
            "<li id=\"cite_note-25\"><span class=\"mw-cite-backlink\"><b><a href=\"#cite_ref-25\">^</a></b></span> <span class=\"reference-text\"><cite class=\"citation web cs1\"><a rel=\"nofollow\" class=\"external text\" href=\"https://www.lexico.com/definition/cognition\">\"Cognition\"</a>. <i>Lexico</i>. <a href=\"/wiki/Oxford_University_Press\" title=\"Oxford University Press\">Oxford University Press</a> and <a href=\"/wiki/Dictionary.com\" title=\"Dictionary.com\">Dictionary.com</a><span class=\"reference-accessdate\">. Retrieved <span class=\"nowrap\">6 May</span> 2020</span>.</cite><span title=\"ctx_ver=Z39.88-2004&amp;rft_val_fmt=info%3Aofi%2Ffmt%3Akev%3Amtx%3Ajournal&amp;rft.genre=unknown&amp;rft.jtitle=Lexico&amp;rft.atitle=Cognition&amp;rft_id=https%3A%2F%2Fwww.lexico.com%2Fdefinition%2Fcognition&amp;rfr_id=info%3Asid%2Fen.wikipedia.org%3ANatural+language+processing\" class=\"Z3988\"></span><link rel=\"mw-deduplicated-inline-style\" href=\"mw-data:TemplateStyles:r982806391\"/></span>\n",
            "</li>\n",
            "<li id=\"cite_note-26\"><span class=\"mw-cite-backlink\"><b><a href=\"#cite_ref-26\">^</a></b></span> <span class=\"reference-text\"><cite class=\"citation web cs1\"><a rel=\"nofollow\" class=\"external text\" href=\"http://www.aft.org/newspubs/periodicals/ae/summer2002/willingham.cfm\">\"Ask the Cognitive Scientist\"</a>. <i>American Federation of Teachers</i>. 8 August 2014. <q>Cognitive science is an interdisciplinary field of researchers from Linguistics, psychology, neuroscience, philosophy, computer science, and anthropology that seek to understand the mind.</q></cite><span title=\"ctx_ver=Z39.88-2004&amp;rft_val_fmt=info%3Aofi%2Ffmt%3Akev%3Amtx%3Ajournal&amp;rft.genre=unknown&amp;rft.jtitle=American+Federation+of+Teachers&amp;rft.atitle=Ask+the+Cognitive+Scientist&amp;rft.date=2014-08-08&amp;rft_id=http%3A%2F%2Fwww.aft.org%2Fnewspubs%2Fperiodicals%2Fae%2Fsummer2002%2Fwillingham.cfm&amp;rfr_id=info%3Asid%2Fen.wikipedia.org%3ANatural+language+processing\" class=\"Z3988\"></span><link rel=\"mw-deduplicated-inline-style\" href=\"mw-data:TemplateStyles:r982806391\"/></span>\n",
            "</li>\n",
            "<li id=\"cite_note-27\"><span class=\"mw-cite-backlink\"><b><a href=\"#cite_ref-27\">^</a></b></span> <span class=\"reference-text\"><cite id=\"CITEREFRobinson2008\" class=\"citation book cs1\">Robinson, Peter (2008). <i>Handbook of Cognitive Linguistics and Second Language Acquisition</i>. Routledge. pp.&#160;3–8. <a href=\"/wiki/ISBN_(identifier)\" class=\"mw-redirect\" title=\"ISBN (identifier)\">ISBN</a>&#160;<a href=\"/wiki/Special:BookSources/978-0-805-85352-0\" title=\"Special:BookSources/978-0-805-85352-0\"><bdi>978-0-805-85352-0</bdi></a>.</cite><span title=\"ctx_ver=Z39.88-2004&amp;rft_val_fmt=info%3Aofi%2Ffmt%3Akev%3Amtx%3Abook&amp;rft.genre=book&amp;rft.btitle=Handbook+of+Cognitive+Linguistics+and+Second+Language+Acquisition&amp;rft.pages=3-8&amp;rft.pub=Routledge&amp;rft.date=2008&amp;rft.isbn=978-0-805-85352-0&amp;rft.aulast=Robinson&amp;rft.aufirst=Peter&amp;rfr_id=info%3Asid%2Fen.wikipedia.org%3ANatural+language+processing\" class=\"Z3988\"></span><link rel=\"mw-deduplicated-inline-style\" href=\"mw-data:TemplateStyles:r982806391\"/></span>\n",
            "</li>\n",
            "<li id=\"cite_note-28\"><span class=\"mw-cite-backlink\"><b><a href=\"#cite_ref-28\">^</a></b></span> <span class=\"reference-text\"><cite id=\"CITEREFLakoff1999\" class=\"citation book cs1\">Lakoff, George (1999). <i>Philosophy in the Flesh: The Embodied Mind and Its Challenge to Western Philosophy; Appendix: The Neural Theory of Language Paradigm</i>. New York Basic Books. pp.&#160;569–583. <a href=\"/wiki/ISBN_(identifier)\" class=\"mw-redirect\" title=\"ISBN (identifier)\">ISBN</a>&#160;<a href=\"/wiki/Special:BookSources/978-0-465-05674-3\" title=\"Special:BookSources/978-0-465-05674-3\"><bdi>978-0-465-05674-3</bdi></a>.</cite><span title=\"ctx_ver=Z39.88-2004&amp;rft_val_fmt=info%3Aofi%2Ffmt%3Akev%3Amtx%3Abook&amp;rft.genre=book&amp;rft.btitle=Philosophy+in+the+Flesh%3A+The+Embodied+Mind+and+Its+Challenge+to+Western+Philosophy%3B+Appendix%3A+The+Neural+Theory+of+Language+Paradigm&amp;rft.pages=569-583&amp;rft.pub=New+York+Basic+Books&amp;rft.date=1999&amp;rft.isbn=978-0-465-05674-3&amp;rft.aulast=Lakoff&amp;rft.aufirst=George&amp;rfr_id=info%3Asid%2Fen.wikipedia.org%3ANatural+language+processing\" class=\"Z3988\"></span><link rel=\"mw-deduplicated-inline-style\" href=\"mw-data:TemplateStyles:r982806391\"/></span>\n",
            "</li>\n",
            "<li id=\"cite_note-29\"><span class=\"mw-cite-backlink\"><b><a href=\"#cite_ref-29\">^</a></b></span> <span class=\"reference-text\"><cite id=\"CITEREFStrauss1999\" class=\"citation book cs1\">Strauss, Claudia (1999). <i>A Cognitive Theory of Cultural Meaning</i>. Cambridge University Press. pp.&#160;156–164. <a href=\"/wiki/ISBN_(identifier)\" class=\"mw-redirect\" title=\"ISBN (identifier)\">ISBN</a>&#160;<a href=\"/wiki/Special:BookSources/978-0-521-59541-4\" title=\"Special:BookSources/978-0-521-59541-4\"><bdi>978-0-521-59541-4</bdi></a>.</cite><span title=\"ctx_ver=Z39.88-2004&amp;rft_val_fmt=info%3Aofi%2Ffmt%3Akev%3Amtx%3Abook&amp;rft.genre=book&amp;rft.btitle=A+Cognitive+Theory+of+Cultural+Meaning&amp;rft.pages=156-164&amp;rft.pub=Cambridge+University+Press&amp;rft.date=1999&amp;rft.isbn=978-0-521-59541-4&amp;rft.aulast=Strauss&amp;rft.aufirst=Claudia&amp;rfr_id=info%3Asid%2Fen.wikipedia.org%3ANatural+language+processing\" class=\"Z3988\"></span><link rel=\"mw-deduplicated-inline-style\" href=\"mw-data:TemplateStyles:r982806391\"/></span>\n",
            "</li>\n",
            "</ol></div>\n",
            "<h2><span class=\"mw-headline\" id=\"Further_reading\">Further reading</span><span class=\"mw-editsection\"><span class=\"mw-editsection-bracket\">[</span><a href=\"/w/index.php?title=Natural_language_processing&amp;action=edit&amp;section=19\" title=\"Edit section: Further reading\">edit</a><span class=\"mw-editsection-bracket\">]</span></span></h2>\n",
            "<style data-mw-deduplicate=\"TemplateStyles:r994654864\">.mw-parser-output .refbegin{font-size:90%;margin-bottom:0.5em}.mw-parser-output .refbegin-hanging-indents>ul{list-style-type:none;margin-left:0}.mw-parser-output .refbegin-hanging-indents>ul>li,.mw-parser-output .refbegin-hanging-indents>dl>dd{margin-left:0;padding-left:3.2em;text-indent:-3.2em;list-style:none}.mw-parser-output .refbegin-100{font-size:100%}.mw-parser-output .refbegin-columns{margin-top:0.3em}.mw-parser-output .refbegin-columns dl,.mw-parser-output .refbegin-columns ol,.mw-parser-output .refbegin-columns ul{margin-top:0}.mw-parser-output .refbegin-columns li,.mw-parser-output .refbegin-columns dd{page-break-inside:avoid;break-inside:avoid-column}</style><div class=\"refbegin\" style=\"\">\n",
            "<ul><li><cite id=\"CITEREFBates1995\" class=\"citation journal cs1\">Bates, M (1995). <a rel=\"nofollow\" class=\"external text\" href=\"//www.ncbi.nlm.nih.gov/pmc/articles/PMC40721\">\"Models of natural language understanding\"</a>. <i>Proceedings of the National Academy of Sciences of the United States of America</i>. <b>92</b> (22): 9977–9982. <a href=\"/wiki/Bibcode_(identifier)\" class=\"mw-redirect\" title=\"Bibcode (identifier)\">Bibcode</a>:<a rel=\"nofollow\" class=\"external text\" href=\"https://ui.adsabs.harvard.edu/abs/1995PNAS...92.9977B\">1995PNAS...92.9977B</a>. <a href=\"/wiki/Doi_(identifier)\" class=\"mw-redirect\" title=\"Doi (identifier)\">doi</a>:<a rel=\"nofollow\" class=\"external text\" href=\"https://doi.org/10.1073%2Fpnas.92.22.9977\">10.1073/pnas.92.22.9977</a>. <a href=\"/wiki/PMC_(identifier)\" class=\"mw-redirect\" title=\"PMC (identifier)\">PMC</a>&#160;<span class=\"cs1-lock-free\" title=\"Freely accessible\"><a rel=\"nofollow\" class=\"external text\" href=\"//www.ncbi.nlm.nih.gov/pmc/articles/PMC40721\">40721</a></span>. <a href=\"/wiki/PMID_(identifier)\" class=\"mw-redirect\" title=\"PMID (identifier)\">PMID</a>&#160;<a rel=\"nofollow\" class=\"external text\" href=\"//pubmed.ncbi.nlm.nih.gov/7479812\">7479812</a>.</cite><span title=\"ctx_ver=Z39.88-2004&amp;rft_val_fmt=info%3Aofi%2Ffmt%3Akev%3Amtx%3Ajournal&amp;rft.genre=article&amp;rft.jtitle=Proceedings+of+the+National+Academy+of+Sciences+of+the+United+States+of+America&amp;rft.atitle=Models+of+natural+language+understanding&amp;rft.volume=92&amp;rft.issue=22&amp;rft.pages=9977-9982&amp;rft.date=1995&amp;rft_id=%2F%2Fwww.ncbi.nlm.nih.gov%2Fpmc%2Farticles%2FPMC40721&amp;rft_id=info%3Apmid%2F7479812&amp;rft_id=info%3Adoi%2F10.1073%2Fpnas.92.22.9977&amp;rft_id=info%3Abibcode%2F1995PNAS...92.9977B&amp;rft.aulast=Bates&amp;rft.aufirst=M&amp;rft_id=%2F%2Fwww.ncbi.nlm.nih.gov%2Fpmc%2Farticles%2FPMC40721&amp;rfr_id=info%3Asid%2Fen.wikipedia.org%3ANatural+language+processing\" class=\"Z3988\"></span><link rel=\"mw-deduplicated-inline-style\" href=\"mw-data:TemplateStyles:r982806391\"/></li>\n",
            "<li>Steven Bird, Ewan Klein, and Edward Loper (2009). <i>Natural Language Processing with Python</i>. O'Reilly Media. <link rel=\"mw-deduplicated-inline-style\" href=\"mw-data:TemplateStyles:r982806391\"/><a href=\"/wiki/ISBN_(identifier)\" class=\"mw-redirect\" title=\"ISBN (identifier)\">ISBN</a>&#160;<a href=\"/wiki/Special:BookSources/978-0-596-51649-9\" title=\"Special:BookSources/978-0-596-51649-9\">978-0-596-51649-9</a>.</li>\n",
            "<li>Daniel Jurafsky and James H. Martin (2008). <i>Speech and Language Processing</i>, 2nd edition. Pearson Prentice Hall. <link rel=\"mw-deduplicated-inline-style\" href=\"mw-data:TemplateStyles:r982806391\"/><a href=\"/wiki/ISBN_(identifier)\" class=\"mw-redirect\" title=\"ISBN (identifier)\">ISBN</a>&#160;<a href=\"/wiki/Special:BookSources/978-0-13-187321-6\" title=\"Special:BookSources/978-0-13-187321-6\">978-0-13-187321-6</a>.</li>\n",
            "<li>Mohamed Zakaria Kurdi (2016). <i>Natural Language Processing and Computational Linguistics: speech, morphology, and syntax</i>, Volume 1. ISTE-Wiley. <link rel=\"mw-deduplicated-inline-style\" href=\"mw-data:TemplateStyles:r982806391\"/><a href=\"/wiki/ISBN_(identifier)\" class=\"mw-redirect\" title=\"ISBN (identifier)\">ISBN</a>&#160;<a href=\"/wiki/Special:BookSources/978-1848218482\" title=\"Special:BookSources/978-1848218482\">978-1848218482</a>.</li>\n",
            "<li>Mohamed Zakaria Kurdi (2017). <i>Natural Language Processing and Computational Linguistics: semantics, discourse, and applications</i>, Volume 2. ISTE-Wiley. <link rel=\"mw-deduplicated-inline-style\" href=\"mw-data:TemplateStyles:r982806391\"/><a href=\"/wiki/ISBN_(identifier)\" class=\"mw-redirect\" title=\"ISBN (identifier)\">ISBN</a>&#160;<a href=\"/wiki/Special:BookSources/978-1848219212\" title=\"Special:BookSources/978-1848219212\">978-1848219212</a>.</li>\n",
            "<li>Christopher D. Manning, Prabhakar Raghavan, and Hinrich Schütze (2008). <i>Introduction to Information Retrieval</i>. Cambridge University Press. <link rel=\"mw-deduplicated-inline-style\" href=\"mw-data:TemplateStyles:r982806391\"/><a href=\"/wiki/ISBN_(identifier)\" class=\"mw-redirect\" title=\"ISBN (identifier)\">ISBN</a>&#160;<a href=\"/wiki/Special:BookSources/978-0-521-86571-5\" title=\"Special:BookSources/978-0-521-86571-5\">978-0-521-86571-5</a>. <a rel=\"nofollow\" class=\"external text\" href=\"http://nlp.stanford.edu/IR-book/\">Official html and pdf versions available without charge.</a></li>\n",
            "<li>Christopher D. Manning and Hinrich Schütze (1999). <i>Foundations of Statistical Natural Language Processing</i>. The MIT Press. <link rel=\"mw-deduplicated-inline-style\" href=\"mw-data:TemplateStyles:r982806391\"/><a href=\"/wiki/ISBN_(identifier)\" class=\"mw-redirect\" title=\"ISBN (identifier)\">ISBN</a>&#160;<a href=\"/wiki/Special:BookSources/978-0-262-13360-9\" title=\"Special:BookSources/978-0-262-13360-9\">978-0-262-13360-9</a>.</li>\n",
            "<li>David M. W. Powers and Christopher C. R. Turk (1989). <i>Machine Learning of Natural Language</i>. Springer-Verlag. <link rel=\"mw-deduplicated-inline-style\" href=\"mw-data:TemplateStyles:r982806391\"/><a href=\"/wiki/ISBN_(identifier)\" class=\"mw-redirect\" title=\"ISBN (identifier)\">ISBN</a>&#160;<a href=\"/wiki/Special:BookSources/978-0-387-19557-5\" title=\"Special:BookSources/978-0-387-19557-5\">978-0-387-19557-5</a>.</li></ul>\n",
            "</div>\n",
            "<table role=\"presentation\" class=\"mbox-small plainlinks sistersitebox\" style=\"background-color:#f9f9f9;border:1px solid #aaa;color:#000\">\n",
            "<tbody><tr>\n",
            "<td class=\"mbox-image\"><img alt=\"\" src=\"//upload.wikimedia.org/wikipedia/en/thumb/4/4a/Commons-logo.svg/30px-Commons-logo.svg.png\" decoding=\"async\" width=\"30\" height=\"40\" class=\"noviewer\" srcset=\"//upload.wikimedia.org/wikipedia/en/thumb/4/4a/Commons-logo.svg/45px-Commons-logo.svg.png 1.5x, //upload.wikimedia.org/wikipedia/en/thumb/4/4a/Commons-logo.svg/59px-Commons-logo.svg.png 2x\" data-file-width=\"1024\" data-file-height=\"1376\" /></td>\n",
            "<td class=\"mbox-text plainlist\">Wikimedia Commons has media related to <i><b><a href=\"https://commons.wikimedia.org/wiki/Category:Natural_language_processing\" class=\"extiw\" title=\"commons:Category:Natural language processing\">Natural language processing</a></b></i>.</td></tr>\n",
            "</tbody></table>\n",
            "<div role=\"navigation\" class=\"navbox\" aria-labelledby=\"Natural_language_processing\" style=\"padding:3px\"><table class=\"nowraplinks hlist mw-collapsible mw-collapsed navbox-inner\" style=\"border-spacing:0;background:transparent;color:inherit\"><tbody><tr><th scope=\"col\" class=\"navbox-title\" colspan=\"2\"><style data-mw-deduplicate=\"TemplateStyles:r992953826\">.mw-parser-output .navbar{display:inline;font-size:88%;font-weight:normal}.mw-parser-output .navbar-collapse{float:left;text-align:left}.mw-parser-output .navbar-boxtext{word-spacing:0}.mw-parser-output .navbar ul{display:inline-block;white-space:nowrap;line-height:inherit}.mw-parser-output .navbar-brackets::before{margin-right:-0.125em;content:\"[ \"}.mw-parser-output .navbar-brackets::after{margin-left:-0.125em;content:\" ]\"}.mw-parser-output .navbar li{word-spacing:-0.125em}.mw-parser-output .navbar-mini abbr{font-variant:small-caps;border-bottom:none;text-decoration:none;cursor:inherit}.mw-parser-output .navbar-ct-full{font-size:114%;margin:0 7em}.mw-parser-output .navbar-ct-mini{font-size:114%;margin:0 4em}.mw-parser-output .infobox .navbar{font-size:100%}.mw-parser-output .navbox .navbar{display:block;font-size:100%}.mw-parser-output .navbox-title .navbar{float:left;text-align:left;margin-right:0.5em}</style><div class=\"navbar plainlinks hlist navbar-mini\"><ul><li class=\"nv-view\"><a href=\"/wiki/Template:Natural_language_processing\" title=\"Template:Natural language processing\"><abbr title=\"View this template\" style=\";;background:none transparent;border:none;-moz-box-shadow:none;-webkit-box-shadow:none;box-shadow:none; padding:0;\">v</abbr></a></li><li class=\"nv-talk\"><a href=\"/wiki/Template_talk:Natural_language_processing\" title=\"Template talk:Natural language processing\"><abbr title=\"Discuss this template\" style=\";;background:none transparent;border:none;-moz-box-shadow:none;-webkit-box-shadow:none;box-shadow:none; padding:0;\">t</abbr></a></li><li class=\"nv-edit\"><a class=\"external text\" href=\"https://en.wikipedia.org/w/index.php?title=Template:Natural_language_processing&amp;action=edit\"><abbr title=\"Edit this template\" style=\";;background:none transparent;border:none;-moz-box-shadow:none;-webkit-box-shadow:none;box-shadow:none; padding:0;\">e</abbr></a></li></ul></div><div id=\"Natural_language_processing\" style=\"font-size:114%;margin:0 4em\"><a class=\"mw-selflink selflink\">Natural language processing</a></div></th></tr><tr><th scope=\"row\" class=\"navbox-group\" style=\"width:1%\">General terms</th><td class=\"navbox-list navbox-odd\" style=\"text-align:left;border-left-width:2px;border-left-style:solid;width:100%;padding:0px\"><div style=\"padding:0em 0.25em\">\n",
            "<ul><li><a href=\"/wiki/AI-complete\" title=\"AI-complete\">AI-complete</a></li>\n",
            "<li><a href=\"/wiki/Bag-of-words_model\" title=\"Bag-of-words model\">Bag-of-words</a></li>\n",
            "<li><a href=\"/wiki/N-gram\" title=\"N-gram\">n-gram</a>\n",
            "<ul><li><a href=\"/wiki/Bigram\" title=\"Bigram\">Bigram</a></li>\n",
            "<li><a href=\"/wiki/Trigram\" title=\"Trigram\">Trigram</a></li></ul></li>\n",
            "<li><a href=\"/wiki/Natural_language_understanding\" class=\"mw-redirect\" title=\"Natural language understanding\">Natural language understanding</a></li>\n",
            "<li><a href=\"/wiki/Speech_corpus\" title=\"Speech corpus\">Speech corpus</a></li>\n",
            "<li><a href=\"/wiki/Stop_words\" class=\"mw-redirect\" title=\"Stop words\">Stopwords</a></li>\n",
            "<li><a href=\"/wiki/Text_corpus\" title=\"Text corpus\">Text corpus</a></li></ul>\n",
            "</div></td></tr><tr><th scope=\"row\" class=\"navbox-group\" style=\"width:1%\"><a href=\"/wiki/Text_mining\" title=\"Text mining\">Text analysis</a></th><td class=\"navbox-list navbox-even\" style=\"text-align:left;border-left-width:2px;border-left-style:solid;width:100%;padding:0px\"><div style=\"padding:0em 0.25em\">\n",
            "<ul><li><a href=\"/wiki/Collocation_extraction\" title=\"Collocation extraction\">Collocation extraction</a></li>\n",
            "<li><a href=\"/wiki/Concept_mining\" title=\"Concept mining\">Concept mining</a></li>\n",
            "<li><a href=\"/wiki/Compound_term_processing\" class=\"mw-redirect\" title=\"Compound term processing\">Compound term processing</a></li>\n",
            "<li><a href=\"/wiki/Coreference#Coreference_resolution\" title=\"Coreference\">Coreference resolution</a></li>\n",
            "<li><a href=\"/wiki/Lemmatisation\" title=\"Lemmatisation\">Lemmatisation</a></li>\n",
            "<li><a href=\"/wiki/Named-entity_recognition\" title=\"Named-entity recognition\">Named-entity recognition</a></li>\n",
            "<li><a href=\"/wiki/Ontology_learning\" title=\"Ontology learning\">Ontology learning</a></li>\n",
            "<li><a href=\"/wiki/Parsing\" title=\"Parsing\">Parsing</a></li>\n",
            "<li><a href=\"/wiki/Part-of-speech_tagging\" title=\"Part-of-speech tagging\">Part-of-speech tagging</a></li>\n",
            "<li><a href=\"/wiki/Semantic_similarity\" title=\"Semantic similarity\">Semantic similarity</a></li>\n",
            "<li><a href=\"/wiki/Sentiment_analysis\" title=\"Sentiment analysis\">Sentiment analysis</a></li>\n",
            "<li><a href=\"/wiki/Stemming\" title=\"Stemming\">Stemming</a></li>\n",
            "<li><a href=\"/wiki/Terminology_extraction\" title=\"Terminology extraction\">Terminology extraction</a></li>\n",
            "<li><a href=\"/wiki/Shallow_parsing\" title=\"Shallow parsing\">Text chunking</a></li>\n",
            "<li><a href=\"/wiki/Text_segmentation\" title=\"Text segmentation\">Text segmentation</a>\n",
            "<ul><li><a href=\"/wiki/Sentence_boundary_disambiguation\" title=\"Sentence boundary disambiguation\">Sentence segmentation</a></li>\n",
            "<li><a href=\"/wiki/Word#Word_boundaries\" title=\"Word\">Word segmentation</a></li></ul></li>\n",
            "<li><a href=\"/wiki/Textual_entailment\" title=\"Textual entailment\">Textual entailment</a></li>\n",
            "<li><a href=\"/wiki/Truecasing\" title=\"Truecasing\">Truecasing</a></li>\n",
            "<li><a href=\"/wiki/Word-sense_disambiguation\" title=\"Word-sense disambiguation\">Word-sense disambiguation</a></li></ul>\n",
            "</div></td></tr><tr><th scope=\"row\" class=\"navbox-group\" style=\"width:1%\"><a href=\"/wiki/Automatic_summarization\" title=\"Automatic summarization\">Automatic summarization</a></th><td class=\"navbox-list navbox-odd\" style=\"text-align:left;border-left-width:2px;border-left-style:solid;width:100%;padding:0px\"><div style=\"padding:0em 0.25em\">\n",
            "<ul><li><a href=\"/wiki/Multi-document_summarization\" title=\"Multi-document summarization\">Multi-document summarization</a></li>\n",
            "<li><a href=\"/wiki/Sentence_extraction\" title=\"Sentence extraction\">Sentence extraction</a></li>\n",
            "<li><a href=\"/wiki/Text_simplification\" title=\"Text simplification\">Text simplification</a></li></ul>\n",
            "</div></td></tr><tr><th scope=\"row\" class=\"navbox-group\" style=\"width:1%\"><a href=\"/wiki/Machine_translation\" title=\"Machine translation\">Machine translation</a></th><td class=\"navbox-list navbox-even\" style=\"text-align:left;border-left-width:2px;border-left-style:solid;width:100%;padding:0px\"><div style=\"padding:0em 0.25em\">\n",
            "<ul><li><a href=\"/wiki/Computer-assisted_translation\" title=\"Computer-assisted translation\">Computer-assisted</a></li>\n",
            "<li><a href=\"/wiki/Example-based_machine_translation\" title=\"Example-based machine translation\">Example-based</a></li>\n",
            "<li><a href=\"/wiki/Rule-based_machine_translation\" title=\"Rule-based machine translation\">Rule-based</a></li>\n",
            "<li><a href=\"/wiki/Neural_machine_translation\" title=\"Neural machine translation\">Neural</a></li></ul>\n",
            "</div></td></tr><tr><th scope=\"row\" class=\"navbox-group\" style=\"width:1%\"><a href=\"/wiki/Automatic_identification_and_data_capture\" title=\"Automatic identification and data capture\">Automatic identification<br />and data capture</a></th><td class=\"navbox-list navbox-odd\" style=\"text-align:left;border-left-width:2px;border-left-style:solid;width:100%;padding:0px\"><div style=\"padding:0em 0.25em\">\n",
            "<ul><li><a href=\"/wiki/Speech_recognition\" title=\"Speech recognition\">Speech recognition</a></li>\n",
            "<li><a href=\"/wiki/Speech_segmentation\" title=\"Speech segmentation\">Speech segmentation</a></li>\n",
            "<li><a href=\"/wiki/Speech_synthesis\" title=\"Speech synthesis\">Speech synthesis</a></li>\n",
            "<li><a href=\"/wiki/Natural_language_generation\" class=\"mw-redirect\" title=\"Natural language generation\">Natural language generation</a></li>\n",
            "<li><a href=\"/wiki/Optical_character_recognition\" title=\"Optical character recognition\">Optical character recognition</a></li></ul>\n",
            "</div></td></tr><tr><th scope=\"row\" class=\"navbox-group\" style=\"width:1%\"><a href=\"/wiki/Topic_model\" title=\"Topic model\">Topic model</a></th><td class=\"navbox-list navbox-even\" style=\"text-align:left;border-left-width:2px;border-left-style:solid;width:100%;padding:0px\"><div style=\"padding:0em 0.25em\">\n",
            "<ul><li><a href=\"/wiki/Latent_Dirichlet_allocation\" title=\"Latent Dirichlet allocation\">Latent Dirichlet allocation</a></li>\n",
            "<li><a href=\"/wiki/Latent_semantic_analysis\" title=\"Latent semantic analysis\">Latent semantic analysis</a></li>\n",
            "<li><a href=\"/wiki/Pachinko_allocation\" title=\"Pachinko allocation\">Pachinko allocation</a></li></ul>\n",
            "</div></td></tr><tr><th scope=\"row\" class=\"navbox-group\" style=\"width:1%\"><a href=\"/wiki/Computer-assisted_reviewing\" title=\"Computer-assisted reviewing\">Computer-assisted<br />reviewing</a></th><td class=\"navbox-list navbox-odd\" style=\"text-align:left;border-left-width:2px;border-left-style:solid;width:100%;padding:0px\"><div style=\"padding:0em 0.25em\">\n",
            "<ul><li><a href=\"/wiki/Automated_essay_scoring\" title=\"Automated essay scoring\">Automated essay scoring</a></li>\n",
            "<li><a href=\"/wiki/Concordancer\" title=\"Concordancer\">Concordancer</a></li>\n",
            "<li><a href=\"/wiki/Grammar_checker\" title=\"Grammar checker\">Grammar checker</a></li>\n",
            "<li><a href=\"/wiki/Predictive_text\" title=\"Predictive text\">Predictive text</a></li>\n",
            "<li><a href=\"/wiki/Spell_checker\" title=\"Spell checker\">Spell checker</a></li>\n",
            "<li><a href=\"/wiki/Syntax_guessing\" title=\"Syntax guessing\">Syntax guessing</a></li></ul>\n",
            "</div></td></tr><tr><th scope=\"row\" class=\"navbox-group\" style=\"width:1%\"><a href=\"/wiki/Natural_language_user_interface\" class=\"mw-redirect\" title=\"Natural language user interface\">Natural language<br />user interface</a></th><td class=\"navbox-list navbox-even\" style=\"text-align:left;border-left-width:2px;border-left-style:solid;width:100%;padding:0px\"><div style=\"padding:0em 0.25em\">\n",
            "<ul><li><a href=\"/wiki/Chatbot\" title=\"Chatbot\">Chatbot</a></li>\n",
            "<li><a href=\"/wiki/Interactive_fiction\" title=\"Interactive fiction\">Interactive fiction</a></li>\n",
            "<li><a href=\"/wiki/Question_answering\" title=\"Question answering\">Question answering</a></li>\n",
            "<li><a href=\"/wiki/Virtual_assistant\" title=\"Virtual assistant\">Virtual assistant</a></li>\n",
            "<li><a href=\"/wiki/Voice_user_interface\" title=\"Voice user interface\">Voice user interface</a></li></ul>\n",
            "</div></td></tr></tbody></table></div>\n",
            "<div role=\"navigation\" class=\"navbox authority-control\" aria-labelledby=\"Authority_control_frameless_&amp;#124;text-top_&amp;#124;10px_&amp;#124;alt=Edit_this_at_Wikidata_&amp;#124;link=https&amp;#58;//www.wikidata.org/wiki/Q30642#identifiers&amp;#124;Edit_this_at_Wikidata\" style=\"padding:3px\"><table class=\"nowraplinks hlist navbox-inner\" style=\"border-spacing:0;background:transparent;color:inherit\"><tbody><tr><th id=\"Authority_control_frameless_&amp;#124;text-top_&amp;#124;10px_&amp;#124;alt=Edit_this_at_Wikidata_&amp;#124;link=https&amp;#58;//www.wikidata.org/wiki/Q30642#identifiers&amp;#124;Edit_this_at_Wikidata\" scope=\"row\" class=\"navbox-group\" style=\"width:1%\"><a href=\"/wiki/Help:Authority_control\" title=\"Help:Authority control\">Authority control</a> <a href=\"https://www.wikidata.org/wiki/Q30642#identifiers\" title=\"Edit this at Wikidata\"><img alt=\"Edit this at Wikidata\" src=\"//upload.wikimedia.org/wikipedia/en/thumb/8/8a/OOjs_UI_icon_edit-ltr-progressive.svg/10px-OOjs_UI_icon_edit-ltr-progressive.svg.png\" decoding=\"async\" width=\"10\" height=\"10\" style=\"vertical-align: text-top\" srcset=\"//upload.wikimedia.org/wikipedia/en/thumb/8/8a/OOjs_UI_icon_edit-ltr-progressive.svg/15px-OOjs_UI_icon_edit-ltr-progressive.svg.png 1.5x, //upload.wikimedia.org/wikipedia/en/thumb/8/8a/OOjs_UI_icon_edit-ltr-progressive.svg/20px-OOjs_UI_icon_edit-ltr-progressive.svg.png 2x\" data-file-width=\"20\" data-file-height=\"20\" /></a></th><td class=\"navbox-list navbox-odd\" style=\"text-align:left;border-left-width:2px;border-left-style:solid;width:100%;padding:0px\"><div style=\"padding:0em 0.25em\">\n",
            "<ul><li><span class=\"nowrap\"><a href=\"/wiki/LCCN_(identifier)\" class=\"mw-redirect\" title=\"LCCN (identifier)\">LCCN</a>: <span class=\"uid\"><a rel=\"nofollow\" class=\"external text\" href=\"https://id.loc.gov/authorities/subjects/sh88002425\">sh88002425</a></span></span></li>\n",
            "<li><span class=\"nowrap\"><a href=\"/wiki/NDL_(identifier)\" class=\"mw-redirect\" title=\"NDL (identifier)\">NDL</a>: <span class=\"uid\"><a rel=\"nofollow\" class=\"external text\" href=\"https://id.ndl.go.jp/auth/ndlna/00562347\">00562347</a></span></span></li></ul>\n",
            "</div></td></tr></tbody></table></div>\n",
            "<div class=\"noprint metadata navbox\" role=\"navigation\" aria-label=\"Portals\" style=\"font-weight:bold;padding:0.4em 2em\"><ul style=\"margin:0.1em 0 0\"><li style=\"display:inline\"><span style=\"display:inline-block;white-space:nowrap\"><span style=\"margin:0 0.5em\"><a href=\"/wiki/File:Globe_of_letters.svg\" class=\"image\"><img alt=\"Globe of letters.svg\" src=\"//upload.wikimedia.org/wikipedia/commons/thumb/d/de/Globe_of_letters.svg/21px-Globe_of_letters.svg.png\" decoding=\"async\" width=\"21\" height=\"21\" srcset=\"//upload.wikimedia.org/wikipedia/commons/thumb/d/de/Globe_of_letters.svg/32px-Globe_of_letters.svg.png 1.5x, //upload.wikimedia.org/wikipedia/commons/thumb/d/de/Globe_of_letters.svg/42px-Globe_of_letters.svg.png 2x\" data-file-width=\"512\" data-file-height=\"512\" /></a></span><a href=\"/wiki/Portal:Language\" title=\"Portal:Language\">Language portal</a></span></li></ul></div>\n",
            "<!-- \n",
            "NewPP limit report\n",
            "Parsed by mw1382\n",
            "Cached time: 20201221081854\n",
            "Cache expiry: 2592000\n",
            "Dynamic content: false\n",
            "Complications: [vary‐revision‐sha1]\n",
            "CPU time usage: 0.728 seconds\n",
            "Real time usage: 0.965 seconds\n",
            "Preprocessor visited node count: 4062/1000000\n",
            "Post‐expand include size: 82217/2097152 bytes\n",
            "Template argument size: 5710/2097152 bytes\n",
            "Highest expansion depth: 14/40\n",
            "Expensive parser function count: 4/500\n",
            "Unstrip recursion depth: 1/20\n",
            "Unstrip post‐expand size: 100784/5000000 bytes\n",
            "Lua time usage: 0.361/10.000 seconds\n",
            "Lua memory usage: 6446066/52428800 bytes\n",
            "Number of Wikibase entities loaded: 1/400\n",
            "-->\n",
            "<!--\n",
            "Transclusion expansion time report (%,ms,calls,template)\n",
            "100.00%  841.287      1 -total\n",
            " 35.82%  301.382      1 Template:Reflist\n",
            " 14.36%  120.793      1 Template:Cite_conference\n",
            " 14.29%  120.247      7 Template:ISBN\n",
            " 10.54%   88.652      1 Template:Short_description\n",
            "  6.82%   57.380      2 Template:Fix\n",
            "  6.81%   57.322      1 Template:Dubious\n",
            "  6.35%   53.448      9 Template:Cite_journal\n",
            "  6.16%   51.808      1 Template:Pagetype\n",
            "  5.49%   46.173      1 Template:Natural_Language_Processing\n",
            "-->\n",
            "\n",
            "<!-- Saved in parser cache with key enwiki:pcache:idhash:21652-0!canonical!math=5 and timestamp 20201221081853 and revision id 995487233. Serialized with JSON.\n",
            " -->\n",
            "</div><noscript><img src=\"//en.wikipedia.org/wiki/Special:CentralAutoLogin/start?type=1x1\" alt=\"\" title=\"\" width=\"1\" height=\"1\" style=\"border: none; position: absolute;\" /></noscript>\n",
            "<div class=\"printfooter\">Retrieved from \"<a dir=\"ltr\" href=\"https://en.wikipedia.org/w/index.php?title=Natural_language_processing&amp;oldid=995487233\">https://en.wikipedia.org/w/index.php?title=Natural_language_processing&amp;oldid=995487233</a>\"</div></div>\n",
            "\t\t<div id=\"catlinks\" class=\"catlinks\" data-mw=\"interface\"><div id=\"mw-normal-catlinks\" class=\"mw-normal-catlinks\"><a href=\"/wiki/Help:Category\" title=\"Help:Category\">Categories</a>: <ul><li><a href=\"/wiki/Category:Natural_language_processing\" title=\"Category:Natural language processing\">Natural language processing</a></li><li><a href=\"/wiki/Category:Computational_linguistics\" title=\"Category:Computational linguistics\">Computational linguistics</a></li><li><a href=\"/wiki/Category:Speech_recognition\" title=\"Category:Speech recognition\">Speech recognition</a></li><li><a href=\"/wiki/Category:Computational_fields_of_study\" title=\"Category:Computational fields of study\">Computational fields of study</a></li><li><a href=\"/wiki/Category:Artificial_intelligence\" title=\"Category:Artificial intelligence\">Artificial intelligence</a></li></ul></div><div id=\"mw-hidden-catlinks\" class=\"mw-hidden-catlinks mw-hidden-cats-hidden\">Hidden categories: <ul><li><a href=\"/wiki/Category:CS1_maint:_location\" title=\"Category:CS1 maint: location\">CS1 maint: location</a></li><li><a href=\"/wiki/Category:Articles_with_short_description\" title=\"Category:Articles with short description\">Articles with short description</a></li><li><a href=\"/wiki/Category:Short_description_matches_Wikidata\" title=\"Category:Short description matches Wikidata\">Short description matches Wikidata</a></li><li><a href=\"/wiki/Category:All_accuracy_disputes\" title=\"Category:All accuracy disputes\">All accuracy disputes</a></li><li><a href=\"/wiki/Category:Articles_with_disputed_statements_from_June_2018\" title=\"Category:Articles with disputed statements from June 2018\">Articles with disputed statements from June 2018</a></li><li><a href=\"/wiki/Category:Commons_link_from_Wikidata\" title=\"Category:Commons link from Wikidata\">Commons link from Wikidata</a></li><li><a href=\"/wiki/Category:Wikipedia_articles_with_LCCN_identifiers\" title=\"Category:Wikipedia articles with LCCN identifiers\">Wikipedia articles with LCCN identifiers</a></li><li><a href=\"/wiki/Category:Wikipedia_articles_with_NDL_identifiers\" title=\"Category:Wikipedia articles with NDL identifiers\">Wikipedia articles with NDL identifiers</a></li></ul></div></div>\n",
            "\t</div>\n",
            "</div>\n",
            "<div id='mw-data-after-content'>\n",
            "\t<div class=\"read-more-container\"></div>\n",
            "</div>\n",
            "\n",
            "<div id=\"mw-navigation\">\n",
            "\t<h2>Navigation menu</h2>\n",
            "\t<div id=\"mw-head\">\n",
            "\t\t<!-- Please do not use role attribute as CSS selector, it is deprecated. -->\n",
            "<nav id=\"p-personal\" class=\"mw-portlet mw-portlet-personal vector-menu\" aria-labelledby=\"p-personal-label\" role=\"navigation\" \n",
            "\t >\n",
            "\t<h3 id=\"p-personal-label\">\n",
            "\t\t<span>Personal tools</span>\n",
            "\t</h3>\n",
            "\t<div class=\"vector-menu-content\">\n",
            "\t\t<ul class=\"vector-menu-content-list\"><li id=\"pt-anonuserpage\">Not logged in</li><li id=\"pt-anontalk\"><a href=\"/wiki/Special:MyTalk\" title=\"Discussion about edits from this IP address [n]\" accesskey=\"n\">Talk</a></li><li id=\"pt-anoncontribs\"><a href=\"/wiki/Special:MyContributions\" title=\"A list of edits made from this IP address [y]\" accesskey=\"y\">Contributions</a></li><li id=\"pt-createaccount\"><a href=\"/w/index.php?title=Special:CreateAccount&amp;returnto=Natural+language+processing\" title=\"You are encouraged to create an account and log in; however, it is not mandatory\">Create account</a></li><li id=\"pt-login\"><a href=\"/w/index.php?title=Special:UserLogin&amp;returnto=Natural+language+processing\" title=\"You&#039;re encouraged to log in; however, it&#039;s not mandatory. [o]\" accesskey=\"o\">Log in</a></li></ul>\n",
            "\t\t\n",
            "\t</div>\n",
            "</nav>\n",
            "\n",
            "\t\t<div id=\"left-navigation\">\n",
            "\t\t\t<!-- Please do not use role attribute as CSS selector, it is deprecated. -->\n",
            "<nav id=\"p-namespaces\" class=\"mw-portlet mw-portlet-namespaces vector-menu vector-menu-tabs\" aria-labelledby=\"p-namespaces-label\" role=\"navigation\" \n",
            "\t >\n",
            "\t<h3 id=\"p-namespaces-label\">\n",
            "\t\t<span>Namespaces</span>\n",
            "\t</h3>\n",
            "\t<div class=\"vector-menu-content\">\n",
            "\t\t<ul class=\"vector-menu-content-list\"><li id=\"ca-nstab-main\" class=\"selected\"><a href=\"/wiki/Natural_language_processing\" title=\"View the content page [c]\" accesskey=\"c\">Article</a></li><li id=\"ca-talk\"><a href=\"/wiki/Talk:Natural_language_processing\" rel=\"discussion\" title=\"Discuss improvements to the content page [t]\" accesskey=\"t\">Talk</a></li></ul>\n",
            "\t\t\n",
            "\t</div>\n",
            "</nav>\n",
            "\n",
            "\t\t\t<!-- Please do not use role attribute as CSS selector, it is deprecated. -->\n",
            "<nav id=\"p-variants\" class=\"mw-portlet mw-portlet-variants emptyPortlet vector-menu vector-menu-dropdown\" aria-labelledby=\"p-variants-label\" role=\"navigation\" \n",
            "\t >\n",
            "\t<input type=\"checkbox\" class=\"vector-menu-checkbox\" aria-labelledby=\"p-variants-label\" />\n",
            "\t<h3 id=\"p-variants-label\">\n",
            "\t\t<span>Variants</span>\n",
            "\t</h3>\n",
            "\t<div class=\"vector-menu-content\">\n",
            "\t\t<ul class=\"vector-menu-content-list\"></ul>\n",
            "\t\t\n",
            "\t</div>\n",
            "</nav>\n",
            "\n",
            "\t\t</div>\n",
            "\t\t<div id=\"right-navigation\">\n",
            "\t\t\t<!-- Please do not use role attribute as CSS selector, it is deprecated. -->\n",
            "<nav id=\"p-views\" class=\"mw-portlet mw-portlet-views vector-menu vector-menu-tabs\" aria-labelledby=\"p-views-label\" role=\"navigation\" \n",
            "\t >\n",
            "\t<h3 id=\"p-views-label\">\n",
            "\t\t<span>Views</span>\n",
            "\t</h3>\n",
            "\t<div class=\"vector-menu-content\">\n",
            "\t\t<ul class=\"vector-menu-content-list\"><li id=\"ca-view\" class=\"selected\"><a href=\"/wiki/Natural_language_processing\">Read</a></li><li id=\"ca-edit\"><a href=\"/w/index.php?title=Natural_language_processing&amp;action=edit\" title=\"Edit this page [e]\" accesskey=\"e\">Edit</a></li><li id=\"ca-history\"><a href=\"/w/index.php?title=Natural_language_processing&amp;action=history\" title=\"Past revisions of this page [h]\" accesskey=\"h\">View history</a></li></ul>\n",
            "\t\t\n",
            "\t</div>\n",
            "</nav>\n",
            "\n",
            "\t\t\t<!-- Please do not use role attribute as CSS selector, it is deprecated. -->\n",
            "<nav id=\"p-cactions\" class=\"mw-portlet mw-portlet-cactions emptyPortlet vector-menu vector-menu-dropdown\" aria-labelledby=\"p-cactions-label\" role=\"navigation\" \n",
            "\t >\n",
            "\t<input type=\"checkbox\" class=\"vector-menu-checkbox\" aria-labelledby=\"p-cactions-label\" />\n",
            "\t<h3 id=\"p-cactions-label\">\n",
            "\t\t<span>More</span>\n",
            "\t</h3>\n",
            "\t<div class=\"vector-menu-content\">\n",
            "\t\t<ul class=\"vector-menu-content-list\"></ul>\n",
            "\t\t\n",
            "\t</div>\n",
            "</nav>\n",
            "\n",
            "\t\t\t<div id=\"p-search\" role=\"search\">\n",
            "\t<h3 >\n",
            "\t\t<label for=\"searchInput\">Search</label>\n",
            "\t</h3>\n",
            "\t<form action=\"/w/index.php\" id=\"searchform\">\n",
            "\t\t<div id=\"simpleSearch\" data-search-loc=\"header-navigation\">\n",
            "\t\t\t<input type=\"search\" name=\"search\" placeholder=\"Search Wikipedia\" autocapitalize=\"sentences\" title=\"Search Wikipedia [f]\" accesskey=\"f\" id=\"searchInput\"/>\n",
            "\t\t\t<input type=\"hidden\" name=\"title\" value=\"Special:Search\">\n",
            "\t\t\t<input type=\"submit\" name=\"fulltext\" value=\"Search\" title=\"Search Wikipedia for this text\" id=\"mw-searchButton\" class=\"searchButton mw-fallbackSearchButton\"/>\n",
            "\t\t\t<input type=\"submit\" name=\"go\" value=\"Go\" title=\"Go to a page with this exact name if it exists\" id=\"searchButton\" class=\"searchButton\"/>\n",
            "\t\t</div>\n",
            "\t</form>\n",
            "</div>\n",
            "\n",
            "\t\t</div>\n",
            "\t</div>\n",
            "\t\n",
            "<div id=\"mw-panel\">\n",
            "\t<div id=\"p-logo\" role=\"banner\">\n",
            "\t\t<a  title=\"Visit the main page\" class=\"mw-wiki-logo\" href=\"/wiki/Main_Page\"></a>\n",
            "\t</div>\n",
            "\t<!-- Please do not use role attribute as CSS selector, it is deprecated. -->\n",
            "<nav id=\"p-navigation\" class=\"mw-portlet mw-portlet-navigation vector-menu vector-menu-portal portal portal-first\" aria-labelledby=\"p-navigation-label\" role=\"navigation\" \n",
            "\t >\n",
            "\t<h3 id=\"p-navigation-label\">\n",
            "\t\t<span>Navigation</span>\n",
            "\t</h3>\n",
            "\t<div class=\"vector-menu-content\">\n",
            "\t\t<ul class=\"vector-menu-content-list\"><li id=\"n-mainpage-description\"><a href=\"/wiki/Main_Page\" title=\"Visit the main page [z]\" accesskey=\"z\">Main page</a></li><li id=\"n-contents\"><a href=\"/wiki/Wikipedia:Contents\" title=\"Guides to browsing Wikipedia\">Contents</a></li><li id=\"n-currentevents\"><a href=\"/wiki/Portal:Current_events\" title=\"Articles related to current events\">Current events</a></li><li id=\"n-randompage\"><a href=\"/wiki/Special:Random\" title=\"Visit a randomly selected article [x]\" accesskey=\"x\">Random article</a></li><li id=\"n-aboutsite\"><a href=\"/wiki/Wikipedia:About\" title=\"Learn about Wikipedia and how it works\">About Wikipedia</a></li><li id=\"n-contactpage\"><a href=\"//en.wikipedia.org/wiki/Wikipedia:Contact_us\" title=\"How to contact Wikipedia\">Contact us</a></li><li id=\"n-sitesupport\"><a href=\"https://donate.wikimedia.org/wiki/Special:FundraiserRedirector?utm_source=donate&amp;utm_medium=sidebar&amp;utm_campaign=C13_en.wikipedia.org&amp;uselang=en\" title=\"Support us by donating to the Wikimedia Foundation\">Donate</a></li></ul>\n",
            "\t\t\n",
            "\t</div>\n",
            "</nav>\n",
            "\n",
            "\t<!-- Please do not use role attribute as CSS selector, it is deprecated. -->\n",
            "<nav id=\"p-interaction\" class=\"mw-portlet mw-portlet-interaction vector-menu vector-menu-portal portal\" aria-labelledby=\"p-interaction-label\" role=\"navigation\" \n",
            "\t >\n",
            "\t<h3 id=\"p-interaction-label\">\n",
            "\t\t<span>Contribute</span>\n",
            "\t</h3>\n",
            "\t<div class=\"vector-menu-content\">\n",
            "\t\t<ul class=\"vector-menu-content-list\"><li id=\"n-help\"><a href=\"/wiki/Help:Contents\" title=\"Guidance on how to use and edit Wikipedia\">Help</a></li><li id=\"n-introduction\"><a href=\"/wiki/Help:Introduction\" title=\"Learn how to edit Wikipedia\">Learn to edit</a></li><li id=\"n-portal\"><a href=\"/wiki/Wikipedia:Community_portal\" title=\"The hub for editors\">Community portal</a></li><li id=\"n-recentchanges\"><a href=\"/wiki/Special:RecentChanges\" title=\"A list of recent changes to Wikipedia [r]\" accesskey=\"r\">Recent changes</a></li><li id=\"n-upload\"><a href=\"/wiki/Wikipedia:File_Upload_Wizard\" title=\"Add images or other media for use on Wikipedia\">Upload file</a></li></ul>\n",
            "\t\t\n",
            "\t</div>\n",
            "</nav>\n",
            "<!-- Please do not use role attribute as CSS selector, it is deprecated. -->\n",
            "<nav id=\"p-tb\" class=\"mw-portlet mw-portlet-tb vector-menu vector-menu-portal portal\" aria-labelledby=\"p-tb-label\" role=\"navigation\" \n",
            "\t >\n",
            "\t<h3 id=\"p-tb-label\">\n",
            "\t\t<span>Tools</span>\n",
            "\t</h3>\n",
            "\t<div class=\"vector-menu-content\">\n",
            "\t\t<ul class=\"vector-menu-content-list\"><li id=\"t-whatlinkshere\"><a href=\"/wiki/Special:WhatLinksHere/Natural_language_processing\" title=\"List of all English Wikipedia pages containing links to this page [j]\" accesskey=\"j\">What links here</a></li><li id=\"t-recentchangeslinked\"><a href=\"/wiki/Special:RecentChangesLinked/Natural_language_processing\" rel=\"nofollow\" title=\"Recent changes in pages linked from this page [k]\" accesskey=\"k\">Related changes</a></li><li id=\"t-upload\"><a href=\"/wiki/Wikipedia:File_Upload_Wizard\" title=\"Upload files [u]\" accesskey=\"u\">Upload file</a></li><li id=\"t-specialpages\"><a href=\"/wiki/Special:SpecialPages\" title=\"A list of all special pages [q]\" accesskey=\"q\">Special pages</a></li><li id=\"t-permalink\"><a href=\"/w/index.php?title=Natural_language_processing&amp;oldid=995487233\" title=\"Permanent link to this revision of this page\">Permanent link</a></li><li id=\"t-info\"><a href=\"/w/index.php?title=Natural_language_processing&amp;action=info\" title=\"More information about this page\">Page information</a></li><li id=\"t-cite\"><a href=\"/w/index.php?title=Special:CiteThisPage&amp;page=Natural_language_processing&amp;id=995487233&amp;wpFormIdentifier=titleform\" title=\"Information on how to cite this page\">Cite this page</a></li><li id=\"t-wikibase\"><a href=\"https://www.wikidata.org/wiki/Special:EntityPage/Q30642\" title=\"Structured data on this page hosted by Wikidata [g]\" accesskey=\"g\">Wikidata item</a></li></ul>\n",
            "\t\t\n",
            "\t</div>\n",
            "</nav>\n",
            "<!-- Please do not use role attribute as CSS selector, it is deprecated. -->\n",
            "<nav id=\"p-coll-print_export\" class=\"mw-portlet mw-portlet-coll-print_export vector-menu vector-menu-portal portal\" aria-labelledby=\"p-coll-print_export-label\" role=\"navigation\" \n",
            "\t >\n",
            "\t<h3 id=\"p-coll-print_export-label\">\n",
            "\t\t<span>Print/export</span>\n",
            "\t</h3>\n",
            "\t<div class=\"vector-menu-content\">\n",
            "\t\t<ul class=\"vector-menu-content-list\"><li id=\"coll-download-as-rl\"><a href=\"/w/index.php?title=Special:DownloadAsPdf&amp;page=Natural_language_processing&amp;action=show-download-screen\" title=\"Download this page as a PDF file\">Download as PDF</a></li><li id=\"t-print\"><a href=\"/w/index.php?title=Natural_language_processing&amp;printable=yes\" title=\"Printable version of this page [p]\" accesskey=\"p\">Printable version</a></li></ul>\n",
            "\t\t\n",
            "\t</div>\n",
            "</nav>\n",
            "<!-- Please do not use role attribute as CSS selector, it is deprecated. -->\n",
            "<nav id=\"p-wikibase-otherprojects\" class=\"mw-portlet mw-portlet-wikibase-otherprojects vector-menu vector-menu-portal portal\" aria-labelledby=\"p-wikibase-otherprojects-label\" role=\"navigation\" \n",
            "\t >\n",
            "\t<h3 id=\"p-wikibase-otherprojects-label\">\n",
            "\t\t<span>In other projects</span>\n",
            "\t</h3>\n",
            "\t<div class=\"vector-menu-content\">\n",
            "\t\t<ul class=\"vector-menu-content-list\"><li class=\"wb-otherproject-link wb-otherproject-commons\"><a href=\"https://commons.wikimedia.org/wiki/Category:Natural_language_processing\" hreflang=\"en\">Wikimedia Commons</a></li></ul>\n",
            "\t\t\n",
            "\t</div>\n",
            "</nav>\n",
            "\n",
            "\t<!-- Please do not use role attribute as CSS selector, it is deprecated. -->\n",
            "<nav id=\"p-lang\" class=\"mw-portlet mw-portlet-lang vector-menu vector-menu-portal portal\" aria-labelledby=\"p-lang-label\" role=\"navigation\" \n",
            "\t >\n",
            "\t<h3 id=\"p-lang-label\">\n",
            "\t\t<span>Languages</span>\n",
            "\t</h3>\n",
            "\t<div class=\"vector-menu-content\">\n",
            "\t\t<ul class=\"vector-menu-content-list\"><li class=\"interlanguage-link interwiki-af\"><a href=\"https://af.wikipedia.org/wiki/Natuurliketaalverwerking\" title=\"Natuurliketaalverwerking – Afrikaans\" lang=\"af\" hreflang=\"af\" class=\"interlanguage-link-target\">Afrikaans</a></li><li class=\"interlanguage-link interwiki-ar\"><a href=\"https://ar.wikipedia.org/wiki/%D9%85%D8%B9%D8%A7%D9%84%D8%AC%D8%A9_%D8%A7%D9%84%D9%84%D8%BA%D8%A7%D8%AA_%D8%A7%D9%84%D8%B7%D8%A8%D9%8A%D8%B9%D9%8A%D8%A9\" title=\"معالجة اللغات الطبيعية – Arabic\" lang=\"ar\" hreflang=\"ar\" class=\"interlanguage-link-target\">العربية</a></li><li class=\"interlanguage-link interwiki-az\"><a href=\"https://az.wikipedia.org/wiki/T%C9%99bii_dilin_emal%C4%B1\" title=\"Təbii dilin emalı – Azerbaijani\" lang=\"az\" hreflang=\"az\" class=\"interlanguage-link-target\">Azərbaycanca</a></li><li class=\"interlanguage-link interwiki-bn\"><a href=\"https://bn.wikipedia.org/wiki/%E0%A6%AA%E0%A7%8D%E0%A6%B0%E0%A6%BE%E0%A6%95%E0%A7%83%E0%A6%A4%E0%A6%BF%E0%A6%95_%E0%A6%AD%E0%A6%BE%E0%A6%B7%E0%A6%BE_%E0%A6%AA%E0%A7%8D%E0%A6%B0%E0%A6%95%E0%A7%8D%E0%A6%B0%E0%A6%BF%E0%A6%AF%E0%A6%BC%E0%A6%BE%E0%A6%95%E0%A6%B0%E0%A6%A3\" title=\"প্রাকৃতিক ভাষা প্রক্রিয়াকরণ – Bangla\" lang=\"bn\" hreflang=\"bn\" class=\"interlanguage-link-target\">বাংলা</a></li><li class=\"interlanguage-link interwiki-zh-min-nan\"><a href=\"https://zh-min-nan.wikipedia.org/wiki/Ch%C5%AB-ji%C3%A2n_gi%C3%A2n-g%C3%BA_chh%C3%BA-l%C3%AD\" title=\"Chū-jiân giân-gú chhú-lí – Chinese (Min Nan)\" lang=\"nan\" hreflang=\"nan\" class=\"interlanguage-link-target\">Bân-lâm-gú</a></li><li class=\"interlanguage-link interwiki-be\"><a href=\"https://be.wikipedia.org/wiki/%D0%90%D0%BF%D1%80%D0%B0%D1%86%D0%BE%D1%9E%D0%BA%D0%B0_%D0%BD%D0%B0%D1%82%D1%83%D1%80%D0%B0%D0%BB%D1%8C%D0%BD%D0%B0%D0%B9_%D0%BC%D0%BE%D0%B2%D1%8B\" title=\"Апрацоўка натуральнай мовы – Belarusian\" lang=\"be\" hreflang=\"be\" class=\"interlanguage-link-target\">Беларуская</a></li><li class=\"interlanguage-link interwiki-be-x-old\"><a href=\"https://be-tarask.wikipedia.org/wiki/%D0%90%D0%BF%D1%80%D0%B0%D1%86%D0%BE%D1%9E%D0%BA%D0%B0_%D0%BD%D0%B0%D1%82%D1%83%D1%80%D0%B0%D0%BB%D1%8C%D0%BD%D0%B0%D0%B9_%D0%BC%D0%BE%D0%B2%D1%8B\" title=\"Апрацоўка натуральнай мовы – Belarusian (Taraškievica orthography)\" lang=\"be-tarask\" hreflang=\"be-tarask\" class=\"interlanguage-link-target\">Беларуская (тарашкевіца)‎</a></li><li class=\"interlanguage-link interwiki-bg\"><a href=\"https://bg.wikipedia.org/wiki/%D0%9E%D0%B1%D1%80%D0%B0%D0%B1%D0%BE%D1%82%D0%BA%D0%B0_%D0%BD%D0%B0_%D0%B5%D1%81%D1%82%D0%B5%D1%81%D1%82%D0%B2%D0%B5%D0%BD_%D0%B5%D0%B7%D0%B8%D0%BA\" title=\"Обработка на естествен език – Bulgarian\" lang=\"bg\" hreflang=\"bg\" class=\"interlanguage-link-target\">Български</a></li><li class=\"interlanguage-link interwiki-ca\"><a href=\"https://ca.wikipedia.org/wiki/Processament_de_llenguatge_natural\" title=\"Processament de llenguatge natural – Catalan\" lang=\"ca\" hreflang=\"ca\" class=\"interlanguage-link-target\">Català</a></li><li class=\"interlanguage-link interwiki-cs\"><a href=\"https://cs.wikipedia.org/wiki/Zpracov%C3%A1n%C3%AD_p%C5%99irozen%C3%A9ho_jazyka\" title=\"Zpracování přirozeného jazyka – Czech\" lang=\"cs\" hreflang=\"cs\" class=\"interlanguage-link-target\">Čeština</a></li><li class=\"interlanguage-link interwiki-da\"><a href=\"https://da.wikipedia.org/wiki/Sprogteknologi\" title=\"Sprogteknologi – Danish\" lang=\"da\" hreflang=\"da\" class=\"interlanguage-link-target\">Dansk</a></li><li class=\"interlanguage-link interwiki-de\"><a href=\"https://de.wikipedia.org/wiki/Verarbeitung_nat%C3%BCrlicher_Sprache\" title=\"Verarbeitung natürlicher Sprache – German\" lang=\"de\" hreflang=\"de\" class=\"interlanguage-link-target\">Deutsch</a></li><li class=\"interlanguage-link interwiki-et\"><a href=\"https://et.wikipedia.org/wiki/Loomuliku_keele_t%C3%B6%C3%B6tlus\" title=\"Loomuliku keele töötlus – Estonian\" lang=\"et\" hreflang=\"et\" class=\"interlanguage-link-target\">Eesti</a></li><li class=\"interlanguage-link interwiki-el\"><a href=\"https://el.wikipedia.org/wiki/%CE%95%CF%80%CE%B5%CE%BE%CE%B5%CF%81%CE%B3%CE%B1%CF%83%CE%AF%CE%B1_%CF%86%CF%85%CF%83%CE%B9%CE%BA%CE%AE%CF%82_%CE%B3%CE%BB%CF%8E%CF%83%CF%83%CE%B1%CF%82\" title=\"Επεξεργασία φυσικής γλώσσας – Greek\" lang=\"el\" hreflang=\"el\" class=\"interlanguage-link-target\">Ελληνικά</a></li><li class=\"interlanguage-link interwiki-es\"><a href=\"https://es.wikipedia.org/wiki/Procesamiento_de_lenguajes_naturales\" title=\"Procesamiento de lenguajes naturales – Spanish\" lang=\"es\" hreflang=\"es\" class=\"interlanguage-link-target\">Español</a></li><li class=\"interlanguage-link interwiki-eu\"><a href=\"https://eu.wikipedia.org/wiki/Hizkuntzaren_prozesamendu\" title=\"Hizkuntzaren prozesamendu – Basque\" lang=\"eu\" hreflang=\"eu\" class=\"interlanguage-link-target\">Euskara</a></li><li class=\"interlanguage-link interwiki-fa\"><a href=\"https://fa.wikipedia.org/wiki/%D9%BE%D8%B1%D8%AF%D8%A7%D8%B2%D8%B4_%D8%B2%D8%A8%D8%A7%D9%86%E2%80%8C%D9%87%D8%A7%DB%8C_%D8%B7%D8%A8%DB%8C%D8%B9%DB%8C\" title=\"پردازش زبان‌های طبیعی – Persian\" lang=\"fa\" hreflang=\"fa\" class=\"interlanguage-link-target\">فارسی</a></li><li class=\"interlanguage-link interwiki-fr\"><a href=\"https://fr.wikipedia.org/wiki/Traitement_automatique_des_langues\" title=\"Traitement automatique des langues – French\" lang=\"fr\" hreflang=\"fr\" class=\"interlanguage-link-target\">Français</a></li><li class=\"interlanguage-link interwiki-gl\"><a href=\"https://gl.wikipedia.org/wiki/Procesamento_da_linguaxe_natural\" title=\"Procesamento da linguaxe natural – Galician\" lang=\"gl\" hreflang=\"gl\" class=\"interlanguage-link-target\">Galego</a></li><li class=\"interlanguage-link interwiki-ko\"><a href=\"https://ko.wikipedia.org/wiki/%EC%9E%90%EC%97%B0%EC%96%B4_%EC%B2%98%EB%A6%AC\" title=\"자연어 처리 – Korean\" lang=\"ko\" hreflang=\"ko\" class=\"interlanguage-link-target\">한국어</a></li><li class=\"interlanguage-link interwiki-hy\"><a href=\"https://hy.wikipedia.org/wiki/%D4%B2%D5%B6%D5%A1%D5%AF%D5%A1%D5%B6_%D5%AC%D5%A5%D5%A6%D5%BE%D5%AB_%D5%B4%D5%B7%D5%A1%D5%AF%D5%B8%D6%82%D5%B4\" title=\"Բնական լեզվի մշակում – Armenian\" lang=\"hy\" hreflang=\"hy\" class=\"interlanguage-link-target\">Հայերեն</a></li><li class=\"interlanguage-link interwiki-hi\"><a href=\"https://hi.wikipedia.org/wiki/%E0%A4%AA%E0%A5%8D%E0%A4%B0%E0%A4%BE%E0%A4%95%E0%A5%83%E0%A4%A4%E0%A4%BF%E0%A4%95_%E0%A4%AD%E0%A4%BE%E0%A4%B7%E0%A4%BE_%E0%A4%B8%E0%A4%82%E0%A4%B8%E0%A4%BE%E0%A4%A7%E0%A4%A8\" title=\"प्राकृतिक भाषा संसाधन – Hindi\" lang=\"hi\" hreflang=\"hi\" class=\"interlanguage-link-target\">हिन्दी</a></li><li class=\"interlanguage-link interwiki-hr\"><a href=\"https://hr.wikipedia.org/wiki/Obrada_prirodnog_jezika\" title=\"Obrada prirodnog jezika – Croatian\" lang=\"hr\" hreflang=\"hr\" class=\"interlanguage-link-target\">Hrvatski</a></li><li class=\"interlanguage-link interwiki-id\"><a href=\"https://id.wikipedia.org/wiki/Pemrosesan_bahasa_alami\" title=\"Pemrosesan bahasa alami – Indonesian\" lang=\"id\" hreflang=\"id\" class=\"interlanguage-link-target\">Bahasa Indonesia</a></li><li class=\"interlanguage-link interwiki-is\"><a href=\"https://is.wikipedia.org/wiki/M%C3%A1lgreining\" title=\"Málgreining – Icelandic\" lang=\"is\" hreflang=\"is\" class=\"interlanguage-link-target\">Íslenska</a></li><li class=\"interlanguage-link interwiki-it\"><a href=\"https://it.wikipedia.org/wiki/Elaborazione_del_linguaggio_naturale\" title=\"Elaborazione del linguaggio naturale – Italian\" lang=\"it\" hreflang=\"it\" class=\"interlanguage-link-target\">Italiano</a></li><li class=\"interlanguage-link interwiki-he\"><a href=\"https://he.wikipedia.org/wiki/%D7%A2%D7%99%D7%91%D7%95%D7%93_%D7%A9%D7%A4%D7%94_%D7%98%D7%91%D7%A2%D7%99%D7%AA\" title=\"עיבוד שפה טבעית – Hebrew\" lang=\"he\" hreflang=\"he\" class=\"interlanguage-link-target\">עברית</a></li><li class=\"interlanguage-link interwiki-kn\"><a href=\"https://kn.wikipedia.org/wiki/%E0%B2%AA%E0%B3%8D%E0%B2%B0%E0%B2%BE%E0%B2%95%E0%B3%83%E0%B2%A4%E0%B2%BF%E0%B2%95_%E0%B2%AD%E0%B2%BE%E0%B2%B7%E0%B3%86%E0%B2%AF_%E0%B2%AA%E0%B2%B0%E0%B2%BF%E0%B2%B7%E0%B3%8D%E0%B2%95%E0%B2%B0%E0%B2%A3%E0%B3%86\" title=\"ಪ್ರಾಕೃತಿಕ ಭಾಷೆಯ ಪರಿಷ್ಕರಣೆ – Kannada\" lang=\"kn\" hreflang=\"kn\" class=\"interlanguage-link-target\">ಕನ್ನಡ</a></li><li class=\"interlanguage-link interwiki-ka\"><a href=\"https://ka.wikipedia.org/wiki/%E1%83%91%E1%83%A3%E1%83%9C%E1%83%94%E1%83%91%E1%83%A0%E1%83%98%E1%83%95%E1%83%98_%E1%83%94%E1%83%9C%E1%83%98%E1%83%A1_%E1%83%93%E1%83%90%E1%83%9B%E1%83%A3%E1%83%A8%E1%83%90%E1%83%95%E1%83%94%E1%83%91%E1%83%90\" title=\"ბუნებრივი ენის დამუშავება – Georgian\" lang=\"ka\" hreflang=\"ka\" class=\"interlanguage-link-target\">ქართული</a></li><li class=\"interlanguage-link interwiki-lt\"><a href=\"https://lt.wikipedia.org/wiki/Nat%C5%ABralios_kalbos_apdorojimas\" title=\"Natūralios kalbos apdorojimas – Lithuanian\" lang=\"lt\" hreflang=\"lt\" class=\"interlanguage-link-target\">Lietuvių</a></li><li class=\"interlanguage-link interwiki-mk\"><a href=\"https://mk.wikipedia.org/wiki/%D0%9E%D0%B1%D1%80%D0%B0%D0%B1%D0%BE%D1%82%D0%BA%D0%B0_%D0%BD%D0%B0_%D0%BF%D1%80%D0%B8%D1%80%D0%BE%D0%B4%D0%BD%D0%B8_%D1%98%D0%B0%D0%B7%D0%B8%D1%86%D0%B8\" title=\"Обработка на природни јазици – Macedonian\" lang=\"mk\" hreflang=\"mk\" class=\"interlanguage-link-target\">Македонски</a></li><li class=\"interlanguage-link interwiki-mr\"><a href=\"https://mr.wikipedia.org/wiki/%E0%A4%A8%E0%A5%88%E0%A4%B8%E0%A4%B0%E0%A5%8D%E0%A4%97%E0%A4%BF%E0%A4%95_%E0%A4%AD%E0%A4%BE%E0%A4%B7%E0%A4%BE_%E0%A4%AA%E0%A5%8D%E0%A4%B0%E0%A4%95%E0%A5%8D%E0%A4%B0%E0%A4%BF%E0%A4%AF%E0%A4%BE\" title=\"नैसर्गिक भाषा प्रक्रिया – Marathi\" lang=\"mr\" hreflang=\"mr\" class=\"interlanguage-link-target\">मराठी</a></li><li class=\"interlanguage-link interwiki-mn\"><a href=\"https://mn.wikipedia.org/wiki/%D0%9A%D0%BE%D0%BC%D0%BF%D1%8C%D1%8E%D1%82%D0%B5%D1%80%D1%8B%D0%BD_%D1%85%D1%8D%D0%BB_%D1%88%D0%B8%D0%BD%D0%B6%D0%BB%D1%8D%D0%BB\" title=\"Компьютерын хэл шинжлэл – Mongolian\" lang=\"mn\" hreflang=\"mn\" class=\"interlanguage-link-target\">Монгол</a></li><li class=\"interlanguage-link interwiki-my\"><a href=\"https://my.wikipedia.org/wiki/%E1%80%99%E1%80%AD%E1%80%81%E1%80%84%E1%80%BA%E1%80%98%E1%80%AC%E1%80%9E%E1%80%AC%E1%80%85%E1%80%80%E1%80%AC%E1%80%B8%E1%80%9E%E1%80%AF%E1%80%B6%E1%80%B8_%E1%80%80%E1%80%BD%E1%80%94%E1%80%BA%E1%80%95%E1%80%BB%E1%80%B0%E1%80%90%E1%80%AC%E1%80%85%E1%80%94%E1%80%85%E1%80%BA\" title=\"မိခင်ဘာသာစကားသုံး ကွန်ပျူတာစနစ် – Burmese\" lang=\"my\" hreflang=\"my\" class=\"interlanguage-link-target\">မြန်မာဘာသာ</a></li><li class=\"interlanguage-link interwiki-ja\"><a href=\"https://ja.wikipedia.org/wiki/%E8%87%AA%E7%84%B6%E8%A8%80%E8%AA%9E%E5%87%A6%E7%90%86\" title=\"自然言語処理 – Japanese\" lang=\"ja\" hreflang=\"ja\" class=\"interlanguage-link-target\">日本語</a></li><li class=\"interlanguage-link interwiki-or\"><a href=\"https://or.wikipedia.org/wiki/%E0%AC%A8%E0%AD%8D%E0%AD%9F%E0%AC%BE%E0%AC%9A%E0%AD%81%E0%AC%B0%E0%AC%BE%E0%AC%B2_%E0%AC%B2%E0%AC%BE%E0%AC%99%E0%AD%8D%E0%AC%97%E0%AD%81%E0%AC%8F%E0%AC%9C_%E0%AC%AA%E0%AD%8D%E0%AC%B0%E0%AD%8B%E0%AC%B8%E0%AD%87%E0%AC%B8%E0%AC%BF%E0%AC%82\" title=\"ନ୍ୟାଚୁରାଲ ଲାଙ୍ଗୁଏଜ ପ୍ରୋସେସିଂ – Odia\" lang=\"or\" hreflang=\"or\" class=\"interlanguage-link-target\">ଓଡ଼ିଆ</a></li><li class=\"interlanguage-link interwiki-pms\"><a href=\"https://pms.wikipedia.org/wiki/NLP\" title=\"NLP – Piedmontese\" lang=\"pms\" hreflang=\"pms\" class=\"interlanguage-link-target\">Piemontèis</a></li><li class=\"interlanguage-link interwiki-pl\"><a href=\"https://pl.wikipedia.org/wiki/Przetwarzanie_j%C4%99zyka_naturalnego\" title=\"Przetwarzanie języka naturalnego – Polish\" lang=\"pl\" hreflang=\"pl\" class=\"interlanguage-link-target\">Polski</a></li><li class=\"interlanguage-link interwiki-pt\"><a href=\"https://pt.wikipedia.org/wiki/Processamento_de_linguagem_natural\" title=\"Processamento de linguagem natural – Portuguese\" lang=\"pt\" hreflang=\"pt\" class=\"interlanguage-link-target\">Português</a></li><li class=\"interlanguage-link interwiki-ro\"><a href=\"https://ro.wikipedia.org/wiki/Prelucrarea_limbajului_natural\" title=\"Prelucrarea limbajului natural – Romanian\" lang=\"ro\" hreflang=\"ro\" class=\"interlanguage-link-target\">Română</a></li><li class=\"interlanguage-link interwiki-ru\"><a href=\"https://ru.wikipedia.org/wiki/%D0%9E%D0%B1%D1%80%D0%B0%D0%B1%D0%BE%D1%82%D0%BA%D0%B0_%D0%B5%D1%81%D1%82%D0%B5%D1%81%D1%82%D0%B2%D0%B5%D0%BD%D0%BD%D0%BE%D0%B3%D0%BE_%D1%8F%D0%B7%D1%8B%D0%BA%D0%B0\" title=\"Обработка естественного языка – Russian\" lang=\"ru\" hreflang=\"ru\" class=\"interlanguage-link-target\">Русский</a></li><li class=\"interlanguage-link interwiki-simple\"><a href=\"https://simple.wikipedia.org/wiki/Natural_language_processing\" title=\"Natural language processing – Simple English\" lang=\"en-simple\" hreflang=\"en-simple\" class=\"interlanguage-link-target\">Simple English</a></li><li class=\"interlanguage-link interwiki-ckb\"><a href=\"https://ckb.wikipedia.org/wiki/%D9%BE%DB%8E%D9%88%D8%A7%DA%98%DB%86%DA%A9%D8%B1%D8%AF%D9%86%DB%8C_%D8%B2%D9%85%D8%A7%D9%86%DB%8C_%D8%B3%D8%B1%D9%88%D8%B4%D8%AA%DB%8C\" title=\"پێواژۆکردنی زمانی سروشتی – Central Kurdish\" lang=\"ckb\" hreflang=\"ckb\" class=\"interlanguage-link-target\">کوردی</a></li><li class=\"interlanguage-link interwiki-sr\"><a href=\"https://sr.wikipedia.org/wiki/Obrada_prirodnih_jezika\" title=\"Obrada prirodnih jezika – Serbian\" lang=\"sr\" hreflang=\"sr\" class=\"interlanguage-link-target\">Српски / srpski</a></li><li class=\"interlanguage-link interwiki-sh\"><a href=\"https://sh.wikipedia.org/wiki/Obrada_prirodnih_jezika\" title=\"Obrada prirodnih jezika – Serbo-Croatian\" lang=\"sh\" hreflang=\"sh\" class=\"interlanguage-link-target\">Srpskohrvatski / српскохрватски</a></li><li class=\"interlanguage-link interwiki-ta\"><a href=\"https://ta.wikipedia.org/wiki/%E0%AE%87%E0%AE%AF%E0%AE%B1%E0%AF%8D%E0%AE%95%E0%AF%88_%E0%AE%AE%E0%AF%8A%E0%AE%B4%E0%AE%BF_%E0%AE%AE%E0%AF%81%E0%AE%B1%E0%AF%88%E0%AE%AF%E0%AE%BE%E0%AE%95%E0%AF%8D%E0%AE%95%E0%AE%AE%E0%AF%8D\" title=\"இயற்கை மொழி முறையாக்கம் – Tamil\" lang=\"ta\" hreflang=\"ta\" class=\"interlanguage-link-target\">தமிழ்</a></li><li class=\"interlanguage-link interwiki-th\"><a href=\"https://th.wikipedia.org/wiki/%E0%B8%81%E0%B8%B2%E0%B8%A3%E0%B8%9B%E0%B8%A3%E0%B8%B0%E0%B8%A1%E0%B8%A7%E0%B8%A5%E0%B8%A0%E0%B8%B2%E0%B8%A9%E0%B8%B2%E0%B8%98%E0%B8%A3%E0%B8%A3%E0%B8%A1%E0%B8%8A%E0%B8%B2%E0%B8%95%E0%B8%B4\" title=\"การประมวลภาษาธรรมชาติ – Thai\" lang=\"th\" hreflang=\"th\" class=\"interlanguage-link-target\">ไทย</a></li><li class=\"interlanguage-link interwiki-tr\"><a href=\"https://tr.wikipedia.org/wiki/Do%C4%9Fal_dil_i%C5%9Fleme\" title=\"Doğal dil işleme – Turkish\" lang=\"tr\" hreflang=\"tr\" class=\"interlanguage-link-target\">Türkçe</a></li><li class=\"interlanguage-link interwiki-uk\"><a href=\"https://uk.wikipedia.org/wiki/%D0%9E%D0%B1%D1%80%D0%BE%D0%B1%D0%BA%D0%B0_%D0%BF%D1%80%D0%B8%D1%80%D0%BE%D0%B4%D0%BD%D0%BE%D1%97_%D0%BC%D0%BE%D0%B2%D0%B8\" title=\"Обробка природної мови – Ukrainian\" lang=\"uk\" hreflang=\"uk\" class=\"interlanguage-link-target\">Українська</a></li><li class=\"interlanguage-link interwiki-vi\"><a href=\"https://vi.wikipedia.org/wiki/X%E1%BB%AD_l%C3%BD_ng%C3%B4n_ng%E1%BB%AF_t%E1%BB%B1_nhi%C3%AAn\" title=\"Xử lý ngôn ngữ tự nhiên – Vietnamese\" lang=\"vi\" hreflang=\"vi\" class=\"interlanguage-link-target\">Tiếng Việt</a></li><li class=\"interlanguage-link interwiki-zh-yue\"><a href=\"https://zh-yue.wikipedia.org/wiki/%E8%87%AA%E7%84%B6%E8%AA%9E%E8%A8%80%E8%99%95%E7%90%86\" title=\"自然語言處理 – Cantonese\" lang=\"yue\" hreflang=\"yue\" class=\"interlanguage-link-target\">粵語</a></li><li class=\"interlanguage-link interwiki-zh\"><a href=\"https://zh.wikipedia.org/wiki/%E8%87%AA%E7%84%B6%E8%AF%AD%E8%A8%80%E5%A4%84%E7%90%86\" title=\"自然语言处理 – Chinese\" lang=\"zh\" hreflang=\"zh\" class=\"interlanguage-link-target\">中文</a></li></ul>\n",
            "\t\t<div class=\"after-portlet after-portlet-lang\"><span class=\"wb-langlinks-edit wb-langlinks-link\"><a href=\"https://www.wikidata.org/wiki/Special:EntityPage/Q30642#sitelinks-wikipedia\" title=\"Edit interlanguage links\" class=\"wbc-editpage\">Edit links</a></span></div>\n",
            "\t</div>\n",
            "</nav>\n",
            "\n",
            "</div>\n",
            "\n",
            "</div>\n",
            "<footer id=\"footer\" class=\"mw-footer\" role=\"contentinfo\" >\n",
            "\t<ul id=\"footer-info\" >\n",
            "\t<li id=\"footer-info-lastmod\"> This page was last edited on 21 December 2020, at 08:18<span class=\"anonymous-show\">&#160;(UTC)</span>.</li>\n",
            "\t<li id=\"footer-info-copyright\">Text is available under the <a rel=\"license\" href=\"//en.wikipedia.org/wiki/Wikipedia:Text_of_Creative_Commons_Attribution-ShareAlike_3.0_Unported_License\">Creative Commons Attribution-ShareAlike License</a><a rel=\"license\" href=\"//creativecommons.org/licenses/by-sa/3.0/\" style=\"display:none;\"></a>;\n",
            "additional terms may apply.  By using this site, you agree to the <a href=\"//foundation.wikimedia.org/wiki/Terms_of_Use\">Terms of Use</a> and <a href=\"//foundation.wikimedia.org/wiki/Privacy_policy\">Privacy Policy</a>. Wikipedia® is a registered trademark of the <a href=\"//www.wikimediafoundation.org/\">Wikimedia Foundation, Inc.</a>, a non-profit organization.</li>\n",
            "</ul>\n",
            "\n",
            "\t<ul id=\"footer-places\" >\n",
            "\t<li id=\"footer-places-privacy\"><a href=\"https://foundation.wikimedia.org/wiki/Privacy_policy\" class=\"extiw\" title=\"wmf:Privacy policy\">Privacy policy</a></li>\n",
            "\t<li id=\"footer-places-about\"><a href=\"/wiki/Wikipedia:About\" title=\"Wikipedia:About\">About Wikipedia</a></li>\n",
            "\t<li id=\"footer-places-disclaimer\"><a href=\"/wiki/Wikipedia:General_disclaimer\" title=\"Wikipedia:General disclaimer\">Disclaimers</a></li>\n",
            "\t<li id=\"footer-places-contact\"><a href=\"//en.wikipedia.org/wiki/Wikipedia:Contact_us\">Contact Wikipedia</a></li>\n",
            "\t<li id=\"footer-places-mobileview\"><a href=\"//en.m.wikipedia.org/w/index.php?title=Natural_language_processing&amp;mobileaction=toggle_view_mobile\" class=\"noprint stopMobileRedirectToggle\">Mobile view</a></li>\n",
            "\t<li id=\"footer-places-developers\"><a href=\"https://www.mediawiki.org/wiki/Special:MyLanguage/How_to_contribute\">Developers</a></li>\n",
            "\t<li id=\"footer-places-statslink\"><a href=\"https://stats.wikimedia.org/#/en.wikipedia.org\">Statistics</a></li>\n",
            "\t<li id=\"footer-places-cookiestatement\"><a href=\"https://foundation.wikimedia.org/wiki/Cookie_statement\">Cookie statement</a></li>\n",
            "</ul>\n",
            "\n",
            "\t<ul id=\"footer-icons\" class=\"noprint\">\n",
            "\t<li id=\"footer-copyrightico\"><a href=\"https://wikimediafoundation.org/\"><img src=\"/static/images/footer/wikimedia-button.png\" srcset=\"/static/images/footer/wikimedia-button-1.5x.png 1.5x, /static/images/footer/wikimedia-button-2x.png 2x\" width=\"88\" height=\"31\" alt=\"Wikimedia Foundation\" loading=\"lazy\" /></a></li>\n",
            "\t<li id=\"footer-poweredbyico\"><a href=\"https://www.mediawiki.org/\"><img src=\"/static/images/footer/poweredby_mediawiki_88x31.png\" alt=\"Powered by MediaWiki\" srcset=\"/static/images/footer/poweredby_mediawiki_132x47.png 1.5x, /static/images/footer/poweredby_mediawiki_176x62.png 2x\" width=\"88\" height=\"31\" loading=\"lazy\"/></a></li>\n",
            "</ul>\n",
            "\n",
            "\t<div style=\"clear: both;\"></div>\n",
            "</footer>\n",
            "\n",
            "\n",
            "<script>(RLQ=window.RLQ||[]).push(function(){mw.config.set({\"wgPageParseReport\":{\"limitreport\":{\"cputime\":\"0.728\",\"walltime\":\"0.965\",\"ppvisitednodes\":{\"value\":4062,\"limit\":1000000},\"postexpandincludesize\":{\"value\":82217,\"limit\":2097152},\"templateargumentsize\":{\"value\":5710,\"limit\":2097152},\"expansiondepth\":{\"value\":14,\"limit\":40},\"expensivefunctioncount\":{\"value\":4,\"limit\":500},\"unstrip-depth\":{\"value\":1,\"limit\":20},\"unstrip-size\":{\"value\":100784,\"limit\":5000000},\"entityaccesscount\":{\"value\":1,\"limit\":400},\"timingprofile\":[\"100.00%  841.287      1 -total\",\" 35.82%  301.382      1 Template:Reflist\",\" 14.36%  120.793      1 Template:Cite_conference\",\" 14.29%  120.247      7 Template:ISBN\",\" 10.54%   88.652      1 Template:Short_description\",\"  6.82%   57.380      2 Template:Fix\",\"  6.81%   57.322      1 Template:Dubious\",\"  6.35%   53.448      9 Template:Cite_journal\",\"  6.16%   51.808      1 Template:Pagetype\",\"  5.49%   46.173      1 Template:Natural_Language_Processing\"]},\"scribunto\":{\"limitreport-timeusage\":{\"value\":\"0.361\",\"limit\":\"10.000\"},\"limitreport-memusage\":{\"value\":6446066,\"limit\":52428800}},\"cachereport\":{\"origin\":\"mw1382\",\"timestamp\":\"20201221081854\",\"ttl\":2592000,\"transientcontent\":false}}});});</script>\n",
            "<script type=\"application/ld+json\">{\"@context\":\"https:\\/\\/schema.org\",\"@type\":\"Article\",\"name\":\"Natural language processing\",\"url\":\"https:\\/\\/en.wikipedia.org\\/wiki\\/Natural_language_processing\",\"sameAs\":\"http:\\/\\/www.wikidata.org\\/entity\\/Q30642\",\"mainEntity\":\"http:\\/\\/www.wikidata.org\\/entity\\/Q30642\",\"author\":{\"@type\":\"Organization\",\"name\":\"Contributors to Wikimedia projects\"},\"publisher\":{\"@type\":\"Organization\",\"name\":\"Wikimedia Foundation, Inc.\",\"logo\":{\"@type\":\"ImageObject\",\"url\":\"https:\\/\\/www.wikimedia.org\\/static\\/images\\/wmf-hor-googpub.png\"}},\"datePublished\":\"2001-09-22T05:47:41Z\",\"dateModified\":\"2020-12-21T08:18:49Z\",\"image\":\"https:\\/\\/upload.wikimedia.org\\/wikipedia\\/commons\\/8\\/8b\\/Automated_online_assistant.png\",\"headline\":\"field of computer science and linguistics\"}</script>\n",
            "<script>(RLQ=window.RLQ||[]).push(function(){mw.config.set({\"wgBackendResponseTime\":176,\"wgHostname\":\"mw1352\"});});</script>\n",
            "</body></html>\n"
          ],
          "name": "stdout"
        }
      ]
    },
    {
      "cell_type": "code",
      "metadata": {
        "id": "FFE7jNPvibZm"
      },
      "source": [
        "\n"
      ],
      "execution_count": null,
      "outputs": []
    },
    {
      "cell_type": "markdown",
      "metadata": {
        "id": "DvkgEmGak_63"
      },
      "source": [
        "### Types of Text Representation\n",
        "  - Frequency based Bag of words\n",
        "  - Binary Based Bag of Words\n",
        "  - Log Frequency Distribution\n",
        "  - TF- IDF Frequency Distribution\n",
        "\n",
        "    - TF - IDF = TF * IDF\n",
        "      - TF = Count (w in Doc) // Doc Size\n",
        "      - IDF = log | M + 1 // k |\n",
        "        - M : Total Number of Documents in a Dataset\n",
        "        - k : Documents that have this particular word\n",
        "\n",
        "        - IDF is important to reduce the impact of frequently occuring words\n"
      ]
    },
    {
      "cell_type": "code",
      "metadata": {
        "colab": {
          "base_uri": "https://localhost:8080/"
        },
        "id": "5wV9lYxhmONE",
        "outputId": "7f4c5456-7f92-4b4b-da40-44655e452df4"
      },
      "source": [
        "# Frequency Based Distribution for One Document \n",
        "\n",
        "corpus = ['text text mining is interesting']\n",
        "\n",
        "from sklearn.feature_extraction.text import CountVectorizer\n",
        "vec = CountVectorizer()\n",
        "\n",
        "X = vec.fit_transform(corpus)\n",
        "\n",
        "print(X.toarray())\n",
        "print(vec.get_feature_names())\n",
        "print(len(vec.get_feature_names()))\n",
        "print(vec.vocabulary_)"
      ],
      "execution_count": 26,
      "outputs": [
        {
          "output_type": "stream",
          "text": [
            "[[1 1 1 2]]\n",
            "['interesting', 'is', 'mining', 'text']\n",
            "4\n",
            "{'text': 3, 'mining': 2, 'is': 1, 'interesting': 0}\n"
          ],
          "name": "stdout"
        }
      ]
    },
    {
      "cell_type": "code",
      "metadata": {
        "colab": {
          "base_uri": "https://localhost:8080/"
        },
        "id": "AfrD_VH0noFO",
        "outputId": "5ba3029c-fbe6-4aee-a8e6-e025cc02191c"
      },
      "source": [
        "\n",
        "# Frequency Based Distribution for Multi Document \n",
        "\n",
        "corpus = ['text text mining is interesting',\n",
        "          'text mining is the same as data mining',\n",
        "          'text and data mining have few differences']\n",
        "\n",
        "from sklearn.feature_extraction.text import CountVectorizer\n",
        "\n",
        "vec = CountVectorizer()\n",
        "\n",
        "X = vec.fit_transform(corpus)\n",
        "\n",
        "print(X.toarray())\n",
        "print(vec.get_feature_names())\n",
        "print(len(vec.get_feature_names()))\n",
        "print(vec.vocabulary_)"
      ],
      "execution_count": 27,
      "outputs": [
        {
          "output_type": "stream",
          "text": [
            "[[0 0 0 0 0 0 1 1 1 0 2 0]\n",
            " [0 1 1 0 0 0 0 1 2 1 1 1]\n",
            " [1 0 1 1 1 1 0 0 1 0 1 0]]\n",
            "['and', 'as', 'data', 'differences', 'few', 'have', 'interesting', 'is', 'mining', 'same', 'text', 'the']\n",
            "12\n",
            "{'text': 10, 'mining': 8, 'is': 7, 'interesting': 6, 'the': 11, 'same': 9, 'as': 1, 'data': 2, 'and': 0, 'have': 5, 'few': 4, 'differences': 3}\n"
          ],
          "name": "stdout"
        }
      ]
    },
    {
      "cell_type": "code",
      "metadata": {
        "colab": {
          "base_uri": "https://localhost:8080/"
        },
        "id": "2J5pIeRpn0Bq",
        "outputId": "ca7ea35e-8a0f-4eed-ac4e-a7602f85f981"
      },
      "source": [
        "# Updating Parameters\n",
        "# Binary Frequency Based Distribution for Multi Document \n",
        "\n",
        "corpus = ['text text mining is interesting',\n",
        "          'text mining is the same as data mining',\n",
        "          'text and data mining have few differences']\n",
        "\n",
        "from sklearn.feature_extraction.text import CountVectorizer\n",
        "\n",
        "vec = CountVectorizer(binary = 'true', max_df = 2, min_df = 2, max_features =2, ngram_range=(1,3))\n",
        "\n",
        "X = vec.fit_transform(corpus)\n",
        "print(X.toarray())\n",
        "print(vec.get_feature_names())\n",
        "print(len(vec.get_feature_names()))\n",
        "print(vec.vocabulary_)\n",
        "\n",
        "# Parameters name : 1) Binary = True\n",
        "# 2) max_df = 2  :  maximum document frequency\n",
        "# 3) min_df = 2   : minimum document frequency\n",
        "# max_features = 2 :  Best n features in all documents\n",
        "# ngram_range = (1,3) : Unigrams, Bigrams, Trigrams"
      ],
      "execution_count": 30,
      "outputs": [
        {
          "output_type": "stream",
          "text": [
            "[[0 0]\n",
            " [1 1]\n",
            " [1 1]]\n",
            "['data', 'data mining']\n",
            "2\n",
            "{'data': 0, 'data mining': 1}\n"
          ],
          "name": "stdout"
        }
      ]
    },
    {
      "cell_type": "code",
      "metadata": {
        "colab": {
          "base_uri": "https://localhost:8080/"
        },
        "id": "CkALm-bUoS1Y",
        "outputId": "2c9465f3-b4cf-45d9-f89a-64313a1af48c"
      },
      "source": [
        "# TF-IDF Frequency Based Distribution for Multi Document \n",
        "\n",
        "corpus = ['text text mining is interesting',\n",
        "          'text mining is the same as data mining',\n",
        "          'text and data mining have few differences']\n",
        "\n",
        "from sklearn.feature_extraction.text import TfidfVectorizer\n",
        "\n",
        "vec = TfidfVectorizer()\n",
        "X = vec.fit_transform(corpus)\n",
        "print(X.toarray())\n",
        "print(vec.get_feature_names())\n",
        "print(len(vec.get_feature_names()))\n",
        "print(vec.vocabulary_)"
      ],
      "execution_count": 31,
      "outputs": [
        {
          "output_type": "stream",
          "text": [
            "[[0.         0.         0.         0.         0.         0.\n",
            "  0.54861178 0.4172334  0.32401895 0.         0.64803791 0.        ]\n",
            " [0.         0.41166084 0.31307868 0.         0.         0.\n",
            "  0.         0.31307868 0.48626704 0.41166084 0.24313352 0.41166084]\n",
            " [0.43535684 0.         0.3311001  0.43535684 0.43535684 0.43535684\n",
            "  0.         0.         0.25712876 0.         0.25712876 0.        ]]\n",
            "['and', 'as', 'data', 'differences', 'few', 'have', 'interesting', 'is', 'mining', 'same', 'text', 'the']\n",
            "12\n",
            "{'text': 10, 'mining': 8, 'is': 7, 'interesting': 6, 'the': 11, 'same': 9, 'as': 1, 'data': 2, 'and': 0, 'have': 5, 'few': 4, 'differences': 3}\n"
          ],
          "name": "stdout"
        }
      ]
    },
    {
      "cell_type": "code",
      "metadata": {
        "id": "9hqsd-0Lp6hU"
      },
      "source": [
        "\n",
        "\n",
        "# Dummy dataset Import and performing operations\n",
        "\n",
        "corpus = open('E:\\\\dataset.txt').read()\n",
        "docs = corpus.split('\\n')\n",
        "\n",
        "input_X, y = [], []\n",
        "\n",
        "for doc in docs:\n",
        "    i, l = doc.split(':')\n",
        "    input_X.append(i.strip())\n",
        "    y.append(l.strip())\n",
        "\n",
        "from sklearn.feature_extraction.text import CountVectorizer\n",
        "vec = CountVectorizer(binary = 'true', max_df = 2, min_df = 2, max_features =2, ngram_range=(1,3))\n",
        "X = vec.fit_transform(input_X)\n",
        "\n",
        "print(X.toarray())\n",
        "print(vec.get_feature_names())\n",
        "print(len(vec.get_feature_names()))\n",
        "print(vec.vocabulary_)"
      ],
      "execution_count": null,
      "outputs": []
    },
    {
      "cell_type": "markdown",
      "metadata": {
        "id": "g8cYHJ6Fru7F"
      },
      "source": [
        "### Lazy or Instance base machine Learning Models : KNN : Uses data to find the pattern \n",
        "### Model Based : Doesnot require data to find the pattern\n",
        "\n",
        "  - Non Parametric :  Takes more time , but comes up with a solution : Do not look into the data with a predefined solution in a mind, hence comes up with a dynamic solution\n",
        "  - Parametric are fast "
      ]
    }
  ]
}