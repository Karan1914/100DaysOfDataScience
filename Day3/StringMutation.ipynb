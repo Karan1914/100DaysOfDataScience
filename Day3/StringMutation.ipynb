{
 "cells": [
  {
   "cell_type": "code",
   "execution_count": null,
   "metadata": {},
   "outputs": [],
   "source": [
    "# given an immutable string, and you want to make changes to it.\n",
    "# convert the string to a list and then change the value\n",
    "# or Another approach is to slice the string and join it back.\n",
    "\n",
    "# Sample Input\n",
    "# abracadabra\n",
    "# 5 k\n",
    "\n",
    "# Sample Output\n",
    "# abrackdabra\n",
    "\n"
   ]
  },
  {
   "cell_type": "code",
   "execution_count": null,
   "metadata": {},
   "outputs": [],
   "source": [
    "# Mutation Function\n",
    "def mutate_string(string, position, character):\n",
    "    #l=list(string)\n",
    "    #l[position]=character\n",
    "    #string=''.join(l)\n",
    "    #return (string)\n",
    "\n",
    "    string = string[:position] + character + string[position+1:]\n",
    "    return(string)\n"
   ]
  },
  {
   "cell_type": "code",
   "execution_count": null,
   "metadata": {},
   "outputs": [],
   "source": [
    "if __name__ == '__main__':\n",
    "    s = input()\n",
    "    i, c = input().split()\n",
    "    s_new = mutate_string(s, int(i), c)\n",
    "    print(s_new)"
   ]
  }
 ],
 "metadata": {
  "kernelspec": {
   "display_name": "Python 3",
   "language": "python",
   "name": "python3"
  },
  "language_info": {
   "codemirror_mode": {
    "name": "ipython",
    "version": 3
   },
   "file_extension": ".py",
   "mimetype": "text/x-python",
   "name": "python",
   "nbconvert_exporter": "python",
   "pygments_lexer": "ipython3",
   "version": "3.7.3"
  }
 },
 "nbformat": 4,
 "nbformat_minor": 2
}
