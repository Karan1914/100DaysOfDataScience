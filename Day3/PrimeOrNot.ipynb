{
 "cells": [
  {
   "cell_type": "code",
   "execution_count": null,
   "metadata": {},
   "outputs": [],
   "source": [
    "# Given a positive integer N. The task is to write a Python program to check if the number is prime or not."
   ]
  },
  {
   "cell_type": "code",
   "execution_count": null,
   "metadata": {},
   "outputs": [],
   "source": [
    "def primeornot(n):\n",
    "\n",
    "    if n>1:\n",
    "        for i in range(2, n//2):\n",
    "            if (n % i) == 0:\n",
    "                print(n, \"is not a prime number\")\n",
    "                break\n",
    "\n",
    "        else:\n",
    "            print(n, \"is a prime number\")\n",
    "    else:\n",
    "        print(n, \"is not a prime number\")\n",
    "\n"
   ]
  },
  {
   "cell_type": "code",
   "execution_count": null,
   "metadata": {},
   "outputs": [],
   "source": [
    "# Driver Function\n",
    "a=int(input())\n",
    "primeornot(a)"
   ]
  }
 ],
 "metadata": {
  "kernelspec": {
   "display_name": "Python 3",
   "language": "python",
   "name": "python3"
  },
  "language_info": {
   "codemirror_mode": {
    "name": "ipython",
    "version": 3
   },
   "file_extension": ".py",
   "mimetype": "text/x-python",
   "name": "python",
   "nbconvert_exporter": "python",
   "pygments_lexer": "ipython3",
   "version": "3.7.3"
  }
 },
 "nbformat": 4,
 "nbformat_minor": 2
}
