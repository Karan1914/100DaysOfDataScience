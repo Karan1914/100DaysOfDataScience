{
 "cells": [
  {
   "cell_type": "code",
   "execution_count": null,
   "metadata": {},
   "outputs": [],
   "source": [
    "\n",
    "# Python program to print all Prime numbers in an Interval\n",
    "\n",
    "# The idea to solve this problem is to iterate the val from start to end using a for loop\n",
    "# and for every number, if it is greater than 1,\n",
    "# check if it divides n. If we find any other number which divides, print that value."
   ]
  },
  {
   "cell_type": "code",
   "execution_count": null,
   "metadata": {},
   "outputs": [],
   "source": [
    "def prime(x,y):\n",
    "    if x<y:\n",
    "        for i in range(x,y):\n",
    "            if i>1:\n",
    "                for val in range (2,i):\n",
    "                    if i%val==0:\n",
    "                        break\n",
    "                else:\n",
    "                    print (i)"
   ]
  },
  {
   "cell_type": "code",
   "execution_count": null,
   "metadata": {},
   "outputs": [],
   "source": [
    "# Driver Program\n",
    "\n",
    "a= int(input())\n",
    "b= int(input())\n",
    "\n",
    "if a<b:\n",
    "    prime(a,b+1)\n",
    "else:\n",
    "    print(\"error\")"
   ]
  }
 ],
 "metadata": {
  "kernelspec": {
   "display_name": "Python 3",
   "language": "python",
   "name": "python3"
  },
  "language_info": {
   "codemirror_mode": {
    "name": "ipython",
    "version": 3
   },
   "file_extension": ".py",
   "mimetype": "text/x-python",
   "name": "python",
   "nbconvert_exporter": "python",
   "pygments_lexer": "ipython3",
   "version": "3.7.3"
  }
 },
 "nbformat": 4,
 "nbformat_minor": 2
}
