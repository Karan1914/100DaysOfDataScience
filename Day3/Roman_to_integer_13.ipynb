{
 "cells": [
  {
   "cell_type": "code",
   "execution_count": null,
   "metadata": {},
   "outputs": [],
   "source": [
    "# LeetCode 13th Problem\n",
    "# Roman to integer\n",
    "# Given a roman numeral, convert it to an integer. \n",
    "# Input is guaranteed to be within the range from 1 to 3999."
   ]
  },
  {
   "cell_type": "code",
   "execution_count": null,
   "metadata": {},
   "outputs": [],
   "source": [
    "class Solution(object):\n",
    "    def romanToInt(self, s):\n",
    "        \"\"\"\n",
    "        :type s: str\n",
    "        :rtype: int\n",
    "        \"\"\"\n",
    "        \n",
    "        \n",
    "        \n",
    "        dic = {\n",
    "            'I':1,\n",
    "            'V':5,\n",
    "            'X':10,\n",
    "            'L':50,\n",
    "            'C':100,\n",
    "            'D':500,\n",
    "            'M':1000\n",
    "        }\n",
    "\n",
    "        prev=0\n",
    "        curr=0\n",
    "        total=0\n",
    "        \n",
    "        \n",
    "        for i in range(len(s)):\n",
    "            \n",
    "            curr=dic[s[i]]\n",
    "            \n",
    "            if curr>prev:\n",
    "                total=total+ curr-2*prev\n",
    "            else:\n",
    "                total=total+curr\n",
    "            prev=curr\n",
    "        return total\n",
    "            \n",
    "            "
   ]
  }
 ],
 "metadata": {
  "kernelspec": {
   "display_name": "Python 3",
   "language": "python",
   "name": "python3"
  },
  "language_info": {
   "codemirror_mode": {
    "name": "ipython",
    "version": 3
   },
   "file_extension": ".py",
   "mimetype": "text/x-python",
   "name": "python",
   "nbconvert_exporter": "python",
   "pygments_lexer": "ipython3",
   "version": "3.7.3"
  }
 },
 "nbformat": 4,
 "nbformat_minor": 2
}
