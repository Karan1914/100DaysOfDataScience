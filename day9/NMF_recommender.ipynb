{
 "cells": [
  {
   "cell_type": "code",
   "execution_count": null,
   "metadata": {},
   "outputs": [],
   "source": [
    "\"\"\"Which articles are similar to 'Cristiano Ronaldo'?\n",
    "In the video, you learned how to use NMF features and the cosine similarity to find similar articles. \n",
    "Apply this to your NMF model for popular Wikipedia articles, \n",
    "by finding the articles most similar to the article about the footballer Cristiano Ronaldo. \n",
    "The NMF features you obtained earlier are available as nmf_features, \n",
    "while titles is a list of the article titles.\"\"\"\n",
    "\n",
    "\"\"\"\n",
    "Import normalize from sklearn.preprocessing.\n",
    "Apply the normalize() function to nmf_features. Store the result as norm_features.\n",
    "Create a DataFrame df from norm_features, using titles as an index.\n",
    "Use the .loc[] accessor of df to select the row of 'Cristiano Ronaldo'. Assign the result to article.\n",
    "Apply the .dot() method of df to article to calculate the cosine similarity of every row with article.\n",
    "Print the result of the .nlargest() method of similarities to display the most similiar articles. \n",
    "This has been done for you, so hit 'Submit Answer' to see the result!\n",
    "\"\"\"\n",
    "\n",
    "# Perform the necessary imports\n",
    "import pandas as pd\n",
    "from sklearn.preprocessing import normalize\n",
    "\n",
    "# Normalize the NMF features: norm_features\n",
    "norm_features = normalize(nmf_features)\n",
    "\n",
    "# Create a DataFrame: df\n",
    "df = pd.DataFrame(norm_features,index=titles)\n",
    "\n",
    "# Select the row corresponding to 'Cristiano Ronaldo': article\n",
    "article = df.loc['Cristiano Ronaldo']\n",
    "\n",
    "# Compute the dot products: similarities\n",
    "similarities = df.dot(article)\n",
    "\n",
    "# Display those with the largest cosine similarity\n",
    "print(similarities.nlargest())"
   ]
  },
  {
   "cell_type": "code",
   "execution_count": null,
   "metadata": {},
   "outputs": [],
   "source": [
    "\"\"\"Recommend musical artists part I\n",
    "In this exercise and the next, you'll use what you've learned about NMF to recommend popular music artists! \n",
    "You are given a sparse array artists whose rows correspond to artists and whose column correspond to users. \n",
    "The entries give the number of times each artist was listened to by each user.\n",
    "\n",
    "In this exercise, build a pipeline and transform the array into normalized NMF features. \n",
    "The first step in the pipeline, MaxAbsScaler, transforms the data so that all users have the same influence on the model, \n",
    "regardless of how many different artists they've listened to. \n",
    "In the next exercise, you'll use the resulting normalized NMF features for recommendation!\"\"\"\n",
    "\n",
    "\n",
    "\"\"\"Import:\n",
    "NMF from sklearn.decomposition.\n",
    "Normalizer and MaxAbsScaler from sklearn.preprocessing.\n",
    "make_pipeline from sklearn.pipeline.\n",
    "Create an instance of MaxAbsScaler called scaler.\n",
    "Create an NMF instance with 20 components called nmf.\n",
    "Create an instance of Normalizer called normalizer.\n",
    "Create a pipeline called pipeline that chains together scaler, nmf, and normalizer.\n",
    "Apply the .fit_transform() method of pipeline to artists. Assign the result to norm_features.\n",
    "\"\"\"\n",
    "\n",
    "\n",
    "# Perform the necessary imports\n",
    "from sklearn.decomposition import NMF\n",
    "from sklearn.preprocessing import Normalizer, MaxAbsScaler\n",
    "from sklearn.pipeline import make_pipeline\n",
    "\n",
    "# Create a MaxAbsScaler: scaler\n",
    "scaler = MaxAbsScaler()\n",
    "\n",
    "# Create an NMF model: nmf\n",
    "nmf = NMF(n_components=20)\n",
    "\n",
    "# Create a Normalizer: normalizer\n",
    "normalizer = Normalizer()\n",
    "\n",
    "# Create a pipeline: pipeline\n",
    "pipeline = make_pipeline(scaler,nmf,normalizer)\n",
    "\n",
    "# Apply fit_transform to artists: norm_features\n",
    "norm_features = pipeline.fit_transform(artists)\n"
   ]
  },
  {
   "cell_type": "code",
   "execution_count": 1,
   "metadata": {},
   "outputs": [
    {
     "data": {
      "text/plain": [
       "'Recommend musical artists part II\\nSuppose you were a big fan of Bruce Springsteen - which other musicial artists might you like? \\nUse your NMF features from the previous exercise and the cosine similarity to find similar musical artists. \\nA solution to the previous exercise has been run, \\nso norm_features is an array containing the normalized NMF features as rows. \\nThe names of the musical artists are available as the list artist_names.'"
      ]
     },
     "execution_count": 1,
     "metadata": {},
     "output_type": "execute_result"
    }
   ],
   "source": [
    "\"\"\"Recommend musical artists part II\n",
    "Suppose you were a big fan of Bruce Springsteen - which other musicial artists might you like? \n",
    "Use your NMF features from the previous exercise and the cosine similarity to find similar musical artists. \n",
    "A solution to the previous exercise has been run, \n",
    "so norm_features is an array containing the normalized NMF features as rows. \n",
    "The names of the musical artists are available as the list artist_names.\"\"\"\n",
    "\n",
    "\"\"\"Import pandas as pd.\n",
    "Create a DataFrame df from norm_features, using artist_names as an index.\n",
    "Use the .loc[] accessor of df to select the row of 'Bruce Springsteen'. \n",
    "Assign the result to artist.\n",
    "Apply the .dot() method of df to artist to calculate the dot product of every row with artist. \n",
    "Save the result as similarities.\n",
    "Print the result of the .nlargest() method of similarities to display the artists most similar to 'Bruce Springsteen'.\"\"\"\n",
    "\n",
    "\n",
    "# Import pandas\n",
    "import pandas as pd\n",
    "\n",
    "# Create a DataFrame: df\n",
    "df = pd.DataFrame(norm_features,index=artist_names)\n",
    "\n",
    "# Select row of 'Bruce Springsteen': artist\n",
    "artist = df.loc['Bruce Springsteen']\n",
    "\n",
    "# Compute cosine similarities: similarities\n",
    "similarities = df.dot(artist)\n",
    "\n",
    "# Display those with highest cosine similarity\n",
    "similarities.nlargest()\n"
   ]
  },
  {
   "cell_type": "code",
   "execution_count": null,
   "metadata": {},
   "outputs": [],
   "source": []
  }
 ],
 "metadata": {
  "kernelspec": {
   "display_name": "Python 3",
   "language": "python",
   "name": "python3"
  },
  "language_info": {
   "codemirror_mode": {
    "name": "ipython",
    "version": 3
   },
   "file_extension": ".py",
   "mimetype": "text/x-python",
   "name": "python",
   "nbconvert_exporter": "python",
   "pygments_lexer": "ipython3",
   "version": "3.7.3"
  }
 },
 "nbformat": 4,
 "nbformat_minor": 2
}
