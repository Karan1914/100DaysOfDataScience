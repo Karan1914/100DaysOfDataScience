{
 "cells": [
  {
   "cell_type": "code",
   "execution_count": 20,
   "metadata": {},
   "outputs": [],
   "source": [
    "class Solution(object):\n",
    "    def reverse(self, x):\n",
    "        \"\"\"\n",
    "        :type x: int\n",
    "        :rtype: int\n",
    "        \"\"\"\n",
    "        flag=0\n",
    "    \n",
    "        \n",
    "        num=x\n",
    "        rev=0\n",
    "        \n",
    "        if num<0:\n",
    "            flag=1\n",
    "            num=num*-1\n",
    "        \n",
    "      \n",
    "        while(num!=0):\n",
    "            \n",
    "            rev= rev*10 + num % 10\n",
    "            num=num/10\n",
    "         \n",
    "        if (rev>(2**31)):\n",
    "            return 0\n",
    "        \n",
    "        if (flag==1):\n",
    "            return rev*-1\n",
    "        else:\n",
    "            return rev\n",
    "            "
   ]
  },
  {
   "cell_type": "code",
   "execution_count": null,
   "metadata": {},
   "outputs": [],
   "source": []
  }
 ],
 "metadata": {
  "kernelspec": {
   "display_name": "Python 3",
   "language": "python",
   "name": "python3"
  },
  "language_info": {
   "codemirror_mode": {
    "name": "ipython",
    "version": 3
   },
   "file_extension": ".py",
   "mimetype": "text/x-python",
   "name": "python",
   "nbconvert_exporter": "python",
   "pygments_lexer": "ipython3",
   "version": "3.7.3"
  }
 },
 "nbformat": 4,
 "nbformat_minor": 2
}
