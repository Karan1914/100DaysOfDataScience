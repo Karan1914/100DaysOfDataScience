{
  "nbformat": 4,
  "nbformat_minor": 0,
  "metadata": {
    "colab": {
      "name": "LC.ipynb",
      "provenance": [],
      "collapsed_sections": [],
      "authorship_tag": "ABX9TyNmCriLzVEtvwkLzJYnJ8zi",
      "include_colab_link": true
    },
    "kernelspec": {
      "name": "python3",
      "display_name": "Python 3"
    }
  },
  "cells": [
    {
      "cell_type": "markdown",
      "metadata": {
        "id": "view-in-github",
        "colab_type": "text"
      },
      "source": [
        "<a href=\"https://colab.research.google.com/github/Karan1914/100DaysOfDataScience/blob/master/LC.ipynb\" target=\"_parent\"><img src=\"https://colab.research.google.com/assets/colab-badge.svg\" alt=\"Open In Colab\"/></a>"
      ]
    },
    {
      "cell_type": "code",
      "metadata": {
        "id": "gEg04mojDn-S",
        "colab_type": "code",
        "colab": {
          "base_uri": "https://localhost:8080/",
          "height": 51
        },
        "outputId": "a00da71c-9c5a-422f-f5c3-73b1ebfe01f0"
      },
      "source": [
        "# To find sum of an list\n",
        "import time\n",
        "\n",
        "# starting time\n",
        "start = time.time()\n",
        "\n",
        "n = [10,20,30,20,35]\n",
        "sum = 0\n",
        "for i in n:\n",
        "  sum+=i\n",
        "\n",
        "print(sum)\n",
        "\n",
        "\n",
        "# sleeping for 1 sec to get 10 sec runtime\n",
        "time.sleep(1)\n",
        "\n",
        "# program body ends\n",
        "\n",
        "# end time\n",
        "end = time.time()\n",
        "\n",
        "# total time taken\n",
        "print(f\"Runtime of the program is {end - start}\")"
      ],
      "execution_count": null,
      "outputs": [
        {
          "output_type": "stream",
          "text": [
            "115\n",
            "Runtime of the program is 1.001610279083252\n"
          ],
          "name": "stdout"
        }
      ]
    },
    {
      "cell_type": "code",
      "metadata": {
        "id": "5MMzj52xFIy0",
        "colab_type": "code",
        "colab": {
          "base_uri": "https://localhost:8080/",
          "height": 51
        },
        "outputId": "9b1980b6-0104-47bb-ab9c-9a9bb5afa8b4"
      },
      "source": [
        "# To find sum of an list\n",
        "import time\n",
        "\n",
        "# starting time\n",
        "start = time.time()\n",
        "\n",
        "items = [1,2,3,4,5]\n",
        "\n",
        "n =len(items)\n",
        "\n",
        "sum = n*(n+1)/2\n",
        "\n",
        "print(sum)\n",
        "\n",
        "\n",
        "# sleeping for 1 sec to get 10 sec runtime\n",
        "time.sleep(1)\n",
        "\n",
        "# program body ends\n",
        "\n",
        "# end time\n",
        "end = time.time()\n",
        "\n",
        "# total time taken\n",
        "print(f\"Runtime of the program is {end - start}\")"
      ],
      "execution_count": null,
      "outputs": [
        {
          "output_type": "stream",
          "text": [
            "15.0\n",
            "Runtime of the program is 1.0008630752563477\n"
          ],
          "name": "stdout"
        }
      ]
    },
    {
      "cell_type": "code",
      "metadata": {
        "id": "g1YwUsz2Fq99",
        "colab_type": "code",
        "colab": {
          "base_uri": "https://localhost:8080/",
          "height": 34
        },
        "outputId": "55a0426f-d0ea-426b-c145-237ecebf7702"
      },
      "source": [
        "import math\n",
        "\n",
        "def BinarySearch(arr,target):\n",
        "  left = 0\n",
        "  right = len(arr)-1\n",
        "  while left<=right:\n",
        "    mid = math.floor(left+(right-left)/2)\n",
        "\n",
        "    if arr[mid] == target:\n",
        "      return mid\n",
        "\n",
        "    \n",
        "    if arr[mid] < target:\n",
        "      left = mid+1\n",
        "    else:\n",
        "      right = mid-1\n",
        "  return -1\n",
        "\n",
        "arr = [1,2,3,4,5,6,7]\n",
        "\n",
        "\n",
        "target = 4 \n",
        "\n",
        "result = BinarySearch(arr,target)\n",
        "\n",
        "if result != -1:\n",
        "  print(\"Element found at index %d\"%result)\n",
        "\n",
        "else:\n",
        "  print(\"Element not present in arr\")"
      ],
      "execution_count": null,
      "outputs": [
        {
          "output_type": "stream",
          "text": [
            "Element found at index 3\n"
          ],
          "name": "stdout"
        }
      ]
    },
    {
      "cell_type": "code",
      "metadata": {
        "id": "JTCzAWzXHY5v",
        "colab_type": "code",
        "colab": {
          "base_uri": "https://localhost:8080/",
          "height": 51
        },
        "outputId": "23c5c409-8d52-4dd3-b54f-3b9b900bcff0"
      },
      "source": [
        "# Define infinity\n",
        "\n",
        "# Defining a positive infinite integer \n",
        "positive_infnity = float('inf') \n",
        "print('Positive Infinity: ', positive_infnity) \n",
        "\n",
        "# Defining a negative infinite integer \n",
        "negative_infnity = float('-inf') \n",
        "print('Negative Infinity: ', negative_infnity) \n"
      ],
      "execution_count": null,
      "outputs": [
        {
          "output_type": "stream",
          "text": [
            "Positive Infinity:  inf\n",
            "Negative Infinity:  -inf\n"
          ],
          "name": "stdout"
        }
      ]
    },
    {
      "cell_type": "code",
      "metadata": {
        "id": "_RxK_IW2K7TB",
        "colab_type": "code",
        "colab": {
          "base_uri": "https://localhost:8080/",
          "height": 68
        },
        "outputId": "dd2f1f7b-23be-47d3-91c4-dd918a22db41"
      },
      "source": [
        "# Sliding Window Problem\n",
        "\n",
        "arr = [80, -50, 90, 100]\n",
        "k=2\n",
        "  \n",
        "import numpy\n",
        "#win_sum = sum([arr[i] for i in range(k)] ) \n",
        "win_sum = numpy.sum([arr[i] for i in range(k)])\n",
        "print(win_sum)\n",
        "max_sum = win_sum\n",
        "\n",
        "for i in range(len(arr)-k):\n",
        "  win_sum = win_sum - arr[i] + arr[i+k]\n",
        "  max_sum = max(win_sum,max_sum)\n",
        "\n",
        "print(win_sum)\n",
        "print(max_sum)\n",
        "\n",
        "\n"
      ],
      "execution_count": null,
      "outputs": [
        {
          "output_type": "stream",
          "text": [
            "30\n",
            "190\n",
            "190\n"
          ],
          "name": "stdout"
        }
      ]
    },
    {
      "cell_type": "code",
      "metadata": {
        "id": "w18dLFahOH7s",
        "colab_type": "code",
        "colab": {
          "base_uri": "https://localhost:8080/",
          "height": 34
        },
        "outputId": "608a449c-cd0a-4376-eec4-7741123c8b95"
      },
      "source": [
        "\n",
        "import numpy as np\n",
        "def maxSum(arr, windowSize):\n",
        "    arraySize = len(arr)\n",
        "    # n must be greater than k\n",
        "    if arraySize <= windowSize:\n",
        "        print(\"Invalid operation\")\n",
        "        return -1\n",
        "\n",
        "    # Compute sum of first window of size k\n",
        "    window_sum = np.sum([arr[i] for i in range(windowSize)])\n",
        "    max_sum = window_sum\n",
        "    # Compute sums of remaining windows by\n",
        "    # removing first element of previous\n",
        "    # window and adding last element of\n",
        "    # current window.\n",
        "    for i in range(arraySize-windowSize):\n",
        "        window_sum = window_sum - arr[i] + arr[i + windowSize]\n",
        "        max_sum = max(window_sum, max_sum)\n",
        "\n",
        "    return max_sum\n",
        "\n",
        "\n",
        "arr = [1, 2, 100, -1, 5]\n",
        "# maximum sum should be 104 => 100 + -1 + 5\n",
        "answer = maxSum(arr, 3)\n",
        "print(answer)"
      ],
      "execution_count": null,
      "outputs": [
        {
          "output_type": "stream",
          "text": [
            "104\n"
          ],
          "name": "stdout"
        }
      ]
    },
    {
      "cell_type": "code",
      "metadata": {
        "id": "A4ZKY91WRQm-",
        "colab_type": "code",
        "colab": {
          "base_uri": "https://localhost:8080/",
          "height": 86
        },
        "outputId": "484e1914-15dc-4bf8-ff8b-f397a48f7414"
      },
      "source": [
        "# Move Zeroes #283\n",
        "\n",
        "# [0,1,0,3,12] => [1,3,12,0,0]\n",
        "\n",
        "\n",
        "nums = [1,0,12,2,13,6,0,23]\n",
        "j = 0\n",
        "print(nums)\n",
        "\n",
        "for num in nums:\n",
        "  if num != 0:\n",
        "    nums[j] = num\n",
        "    j+=1\n",
        "\n",
        "\n",
        "for x in range(j,len(nums)):\n",
        "  nums[x]=0\n",
        "\n",
        "print(nums)\n",
        "\n",
        "\"\"\"Explanation:  INSTEAD of moving zeroes to the end, move non zero elements to the start in the same order, maintaining count of non-zero elements,\n",
        "then make a loop from that count till end of array and add zero\n",
        "Time Complexity : O(n)\n",
        "\"\"\"\n",
        "\n",
        "\n",
        "\n"
      ],
      "execution_count": null,
      "outputs": [
        {
          "output_type": "stream",
          "text": [
            "[1, 0, 12, 2, 13, 6, 0, 23]\n",
            "[1, 12, 2, 13, 6, 23, 0, 0]\n"
          ],
          "name": "stdout"
        },
        {
          "output_type": "execute_result",
          "data": {
            "application/vnd.google.colaboratory.intrinsic+json": {
              "type": "string"
            },
            "text/plain": [
              "'Explanation:  INSTEAD of moving zeroes to the end, move non zero elements to the start in the same order, maintaining count of non-zero elements,\\nthen make a loop from that count till end of array and add zero'"
            ]
          },
          "metadata": {
            "tags": []
          },
          "execution_count": 48
        }
      ]
    },
    {
      "cell_type": "code",
      "metadata": {
        "id": "A-KFwlCMXKFl",
        "colab_type": "code",
        "colab": {
          "base_uri": "https://localhost:8080/",
          "height": 86
        },
        "outputId": "5cbdeea1-86d0-48bb-e07c-a3c0061388fe"
      },
      "source": [
        "# Boats to save people #881 Medium\n",
        "\"\"\"Given people's weight array , boat has a limit\n",
        "Each boat can carry at most 2 people at the same time\n",
        "Given that their sum of weight <= limit\n",
        "\n",
        "Return Minimum no of boats to carry every given person\"\"\"\n",
        "\n",
        "def numRescueBoats(people,limit):\n",
        "  boat = 0\n",
        "  \n",
        "  people.sort()\n",
        "  left = 0\n",
        "  right = len(people)-1\n",
        "\n",
        "  while left<=right:\n",
        "    if left==right:\n",
        "      boat=boat+1\n",
        "      break\n",
        "\n",
        "    if people[left] + people[right] <=limit:\n",
        "      left = left+1\n",
        "      right = right-1\n",
        "      boat = boat+1\n",
        "\n",
        "    else:\n",
        "      right=right-1\n",
        "      boat=boat+1\n",
        " \n",
        "\n",
        "  return boat\n",
        "\n",
        "\n",
        "\n",
        "people = [1,3,4,2,4]\n",
        "limit = 4\n",
        "\n",
        "print(numRescueBoats(people,limit))\n",
        "\n",
        "\n",
        "\"\"\"\n",
        "Explanation: \n",
        "Problem Takeaways:\n",
        "1) Max_person =2\n",
        "2) Limit\n",
        "3) sum of weight <= limit\n",
        "4) return min number of boats\n",
        "5) each person weight <=. limit\n",
        "\n",
        "method:\n",
        "sort the array \n",
        "take 2 pointers left as 0\n",
        "right as len(arr)-1\n",
        "then loop\n",
        "if left == right : increment boat by 1 , break\n",
        "else if weight <= limit\n",
        ": inc boat by 1 , move left and right pointer\n",
        "else: move right pointer and inc boat by 1\n",
        "\"\"\"\n",
        "\n",
        "\n",
        "\n",
        "\n"
      ],
      "execution_count": null,
      "outputs": [
        {
          "output_type": "stream",
          "text": [
            "4\n"
          ],
          "name": "stdout"
        },
        {
          "output_type": "execute_result",
          "data": {
            "application/vnd.google.colaboratory.intrinsic+json": {
              "type": "string"
            },
            "text/plain": [
              "'\\nExplanation: \\nProblem Takeaways:\\n1) Max_person =2\\n2) Limit\\n3) sum of weight <= limit\\n4) return min number of boats\\n5) each person weight <=. limit\\n\\nmethod:\\nsort the array \\ntake 2 pointers left as 0\\nright as len(arr)-1\\nthen loop\\nif left == right : increment boat by 1 , break\\nelse if weight <= limit\\n: inc boat by 1 , move left and right pointer\\nelse: move right pointer and inc boat by 1\\n'"
            ]
          },
          "metadata": {
            "tags": []
          },
          "execution_count": 54
        }
      ]
    },
    {
      "cell_type": "code",
      "metadata": {
        "id": "SH0ujakujotR",
        "colab_type": "code",
        "colab": {
          "base_uri": "https://localhost:8080/",
          "height": 34
        },
        "outputId": "fce44ddd-5e7a-4eb8-9d80-332ed320cc32"
      },
      "source": [
        "# Valid Mountain Array #941 : Easy\n",
        "\n",
        "def validMountainArray(A):\n",
        "  if (len(A)<3):\n",
        "    return False\n",
        "\n",
        "  i = 1\n",
        "\n",
        "  while (i < len(A) and A[i] > A[i-1]):\n",
        "    i+=1\n",
        "\n",
        "  if i== len(A) and i==1:\n",
        "    return False\n",
        "  \n",
        "  while (i < len(A) and A[i] < A[i-1]):\n",
        "    i+=1\n",
        "  return i == len(A)\n",
        "\n",
        "\n",
        "\n",
        "Arr = [0,1,2]\n",
        "print(validMountainArray(Arr))"
      ],
      "execution_count": null,
      "outputs": [
        {
          "output_type": "stream",
          "text": [
            "True\n"
          ],
          "name": "stdout"
        }
      ]
    },
    {
      "cell_type": "code",
      "metadata": {
        "id": "g2vrgzltnSMp",
        "colab_type": "code",
        "colab": {
          "base_uri": "https://localhost:8080/",
          "height": 34
        },
        "outputId": "048d3dac-ee7b-4ddc-c6e3-4c03cb7b6d95"
      },
      "source": [
        "# Container with Most Water # 11 Medium\n",
        "\n",
        "def maxArea(height):\n",
        "  l = 0\n",
        "  r = len(height)-1\n",
        "  max_Area = 0\n",
        "\n",
        "  while l<r:\n",
        "    max_Area = max(max_Area , min( height[l],height[r] ) * (r-l) ) # rectange of minimum height and distance\n",
        "    if (height[l] < height[r]):\n",
        "      l+=1\n",
        "    else:\n",
        "      r -=1\n",
        "  \n",
        "\n",
        "  return max_Area\n",
        "\n",
        "\n",
        "height = [1,8,4,5,3,6,4,7]\n",
        "print(maxArea(height))"
      ],
      "execution_count": null,
      "outputs": [
        {
          "output_type": "stream",
          "text": [
            "42\n"
          ],
          "name": "stdout"
        }
      ]
    },
    {
      "cell_type": "code",
      "metadata": {
        "id": "8lhuBaCktA4A",
        "colab_type": "code",
        "colab": {}
      },
      "source": [
        "# First Bad Version # 278 Easy\n",
        "\"\"\" \n",
        "Given a number N that represent amount of version and a function that accepts a number \n",
        "and returns whether it's a bad version or not, \n",
        "find the first bad version of the array \n",
        "Note :  if a version is bad, all the versions after it would be bad too\n",
        "\n",
        "Takeaways:  versions are sorted so can use binary search\n",
        "\n",
        "If mid is not a bad version set start pointer to mid+1\n",
        "else if mid is a bad version :\n",
        "  end = mid\n",
        "\"\"\"\n",
        "\n",
        "\n",
        "# The isBadVersion API is already defined for you\n",
        "# param version, an integer\n",
        "# retuns a bool\n",
        "# def isBadVersion(version):\n",
        "\n",
        "\n",
        "\n",
        "def firstBadVersion(n):\n",
        "  left = 1\n",
        "  right = n # int , length of array\n",
        "\n",
        "  while left<right:\n",
        "    mid = (right+left)//2\n",
        "\n",
        "    if (not isBadVersion(mid)):\n",
        "      left = mid+1\n",
        "\n",
        "    else:\n",
        "      right = mid\n",
        "\n",
        "  return left\n"
      ],
      "execution_count": null,
      "outputs": []
    },
    {
      "cell_type": "code",
      "metadata": {
        "id": "xZU-K7CszFvw",
        "colab_type": "code",
        "colab": {}
      },
      "source": [
        "# Longest Substring without repeating characters #3 Medium\n",
        "\n"
      ],
      "execution_count": null,
      "outputs": []
    },
    {
      "cell_type": "code",
      "metadata": {
        "id": "cJSs4AsuBylA",
        "colab_type": "code",
        "colab": {
          "base_uri": "https://localhost:8080/",
          "height": 119
        },
        "outputId": "706e343d-5374-4cd5-c327-c78754bcdcb0"
      },
      "source": [
        "import pandas as pd\n",
        "list_of_days = [2, 1, 0, 2, 1, 3, 0, 2, 4, 0, 3, 2 ,3, 4, 2, 2, 2, 4, 3, 0] # created a list of the data\n",
        "\n",
        "df1 = pd.Series(list_of_days).value_counts().reset_index().sort_values('index').reset_index(drop=True)\n",
        "df1.columns = ['Demand', 'Frequency']\n",
        "print (df1)"
      ],
      "execution_count": null,
      "outputs": [
        {
          "output_type": "stream",
          "text": [
            "   Demand  Frequency\n",
            "0       0          4\n",
            "1       1          2\n",
            "2       2          7\n",
            "3       3          4\n",
            "4       4          3\n"
          ],
          "name": "stdout"
        }
      ]
    },
    {
      "cell_type": "code",
      "metadata": {
        "id": "jORYSV0JB6Bi",
        "colab_type": "code",
        "colab": {
          "base_uri": "https://localhost:8080/",
          "height": 235
        },
        "outputId": "734903b2-3de9-4688-bc93-5f4ce5727939"
      },
      "source": [
        "pd.value_counts([2,1,0,2,1,3,0,2,4,0,3,2,3,4,2,2,2,4,3,0]).to_frame(name='Frequency').rename_axis('Demand').sort_index()\n"
      ],
      "execution_count": null,
      "outputs": [
        {
          "output_type": "execute_result",
          "data": {
            "text/html": [
              "<div>\n",
              "<style scoped>\n",
              "    .dataframe tbody tr th:only-of-type {\n",
              "        vertical-align: middle;\n",
              "    }\n",
              "\n",
              "    .dataframe tbody tr th {\n",
              "        vertical-align: top;\n",
              "    }\n",
              "\n",
              "    .dataframe thead th {\n",
              "        text-align: right;\n",
              "    }\n",
              "</style>\n",
              "<table border=\"1\" class=\"dataframe\">\n",
              "  <thead>\n",
              "    <tr style=\"text-align: right;\">\n",
              "      <th></th>\n",
              "      <th>Frequency</th>\n",
              "    </tr>\n",
              "    <tr>\n",
              "      <th>Demand</th>\n",
              "      <th></th>\n",
              "    </tr>\n",
              "  </thead>\n",
              "  <tbody>\n",
              "    <tr>\n",
              "      <th>0</th>\n",
              "      <td>4</td>\n",
              "    </tr>\n",
              "    <tr>\n",
              "      <th>1</th>\n",
              "      <td>2</td>\n",
              "    </tr>\n",
              "    <tr>\n",
              "      <th>2</th>\n",
              "      <td>7</td>\n",
              "    </tr>\n",
              "    <tr>\n",
              "      <th>3</th>\n",
              "      <td>4</td>\n",
              "    </tr>\n",
              "    <tr>\n",
              "      <th>4</th>\n",
              "      <td>3</td>\n",
              "    </tr>\n",
              "  </tbody>\n",
              "</table>\n",
              "</div>"
            ],
            "text/plain": [
              "        Frequency\n",
              "Demand           \n",
              "0               4\n",
              "1               2\n",
              "2               7\n",
              "3               4\n",
              "4               3"
            ]
          },
          "metadata": {
            "tags": []
          },
          "execution_count": 75
        }
      ]
    },
    {
      "cell_type": "code",
      "metadata": {
        "id": "z8BJ6G98CJi_",
        "colab_type": "code",
        "colab": {}
      },
      "source": [
        "\"\"\"\n",
        "select \n",
        "    case \n",
        "        when salary between 75000 and 90000 then '75000-90000' \n",
        "        when salary between 90000 and 120000 then '90000-120000'\n",
        "        else '120000+'\n",
        "    end as salary_band, \n",
        "    count(*) \n",
        "from employee_salary\n",
        "group by 1 \"\"\""
      ],
      "execution_count": null,
      "outputs": []
    },
    {
      "cell_type": "markdown",
      "metadata": {
        "id": "8Vu1gPjBCuvf",
        "colab_type": "text"
      },
      "source": [
        "select ntile, min(salary), max(salary)\n",
        "from (\n",
        "    select salary, \n",
        "    ntile(4) over (order by salary)\n",
        ") x\n",
        "group by ntile \n",
        "order by ntile "
      ]
    },
    {
      "cell_type": "code",
      "metadata": {
        "id": "kpxSFqt4C4tf",
        "colab_type": "code",
        "colab": {}
      },
      "source": [
        "\"\"\"\n",
        "SELECT Age, COUNT(Age)AS Frequency\n",
        "\n",
        "  FROM Persons\n",
        "\n",
        "  GROUP BY Age\n",
        "\n",
        "  ORDER BY\n",
        "\n",
        "  COUNT(Age) DESC\n",
        "\"\"\""
      ],
      "execution_count": null,
      "outputs": []
    },
    {
      "cell_type": "code",
      "metadata": {
        "id": "dJWQyprLE4wf",
        "colab_type": "code",
        "colab": {}
      },
      "source": [
        "class Node():\n",
        "  def __init__(self,val):\n",
        "    self.val= val\n",
        "    self.left = None\n",
        "    self.right= None\n",
        "\n",
        "class BST(Object):\n",
        "  def __init__(self,key,value):\n",
        "    self.key = key\n",
        "    self.val=value\n",
        "    self.left = None\n",
        "    self.right = None\n",
        "\n",
        "  def verify(node):\n",
        "    if not node:\n",
        "      return True\n",
        "\n",
        "    if (tree_max(node.left)<=node.key<=tree_min(node.right)) and verify(node.left) and verify(node.right)):\n",
        "      return True\n",
        "    else:\n",
        "      return False"
      ],
      "execution_count": null,
      "outputs": []
    },
    {
      "cell_type": "code",
      "metadata": {
        "id": "pYX10QQfIhEj",
        "colab_type": "code",
        "colab": {}
      },
      "source": [
        "def is BST(root, min=float('inf'), max= float('inf')):\n",
        "\n",
        "  if not root:\n",
        "    return False\n",
        "\n",
        "  if root.val > min and root.val < max and isBST(root.left,min , root) and isBST(root.right, root, max):\n",
        "    return True\n",
        "  else:\n",
        "    return False"
      ],
      "execution_count": null,
      "outputs": []
    },
    {
      "cell_type": "code",
      "metadata": {
        "id": "9kje3xamJJ83",
        "colab_type": "code",
        "colab": {}
      },
      "source": [
        "# Stack Implementation\n",
        "\n",
        "\n",
        "class Stack:\n",
        "\n",
        "  def __init__(self):\n",
        "    self.s1= [ ]\n",
        "\n",
        "  def push(self,val):\n",
        "    self.s1.append(val)\n",
        "\n",
        "  def pop():\n",
        "    if self.s1:\n",
        "      deleted_elem = self.s1.pop()\n",
        "      return deleted_elem\n",
        "\n",
        "  def min():\n",
        "\n",
        "\n",
        "  def isEmpty():\n",
        "    if len(self.stack) == 0:\n",
        "        return True\n",
        "    return False\n",
        "\n",
        "  def top(): # returns the top element\n",
        "    return self.s1[-1]\n",
        "\n",
        "\n",
        "\n"
      ],
      "execution_count": null,
      "outputs": []
    },
    {
      "cell_type": "markdown",
      "metadata": {
        "id": "APcjIUhUMpkU",
        "colab_type": "text"
      },
      "source": [
        ""
      ]
    },
    {
      "cell_type": "code",
      "metadata": {
        "id": "yp_cyM7OMp0h",
        "colab_type": "code",
        "colab": {}
      },
      "source": [
        "# Queue Implementaion using stack\n",
        "\n",
        "class Queue:\n",
        "\n",
        "  def __init__(self):\n",
        "    self.inStack, self.outStack = [], []\n",
        "\n",
        "  def push(self,x):\n",
        "    self.instack.append(x)\n",
        "\n",
        "  def pop():\n",
        "    if not self.outStack:\n",
        "            while self.inStack:\n",
        "                self.outStack.append(self.inStack.pop())\n",
        "\n",
        "    self.outStack.pop()\n",
        "\n",
        "  def min():\n",
        "    return self.outStack.min()\n",
        "\n",
        "\n",
        "  def isEmpty():\n",
        "    return (not self.instack) and (not self.outStack)\n"
      ],
      "execution_count": 11,
      "outputs": []
    },
    {
      "cell_type": "code",
      "metadata": {
        "id": "9BMV2VzkQ7N_",
        "colab_type": "code",
        "colab": {
          "base_uri": "https://localhost:8080/",
          "height": 119
        },
        "outputId": "512b1bdf-4e16-49e9-e404-35d6554c42ad"
      },
      "source": [
        "# Python program to print all permutations with \n",
        "# duplicates allowed \n",
        "\n",
        "def toString(List): \n",
        "\treturn ''.join(List) \n",
        "\n",
        "# Function to print permutations of string \n",
        "# This function takes three parameters: \n",
        "# 1. String \n",
        "# 2. Starting index of the string \n",
        "# 3. Ending index of the string. \n",
        "def permute(a, l, r): \n",
        "\tif l == r: \n",
        "\t\tprint (toString(a)) \n",
        "\telse: \n",
        "\t\tfor i in range(l, r + 1): \n",
        "\t\t\ta[l], a[i] = a[i], a[l] \n",
        "\t\t\tpermute(a, l + 1, r) \n",
        "\t\t\ta[l], a[i] = a[i], a[l] # backtrack \n",
        "\n",
        "# Driver program to test the above function \n",
        "string = \"ABC\"\n",
        "n = len(string) \n",
        "a = list(string) \n",
        "permute(a, 0, n-1) \n",
        "\n",
        "# This code is contributed by Bhavya Jain \n"
      ],
      "execution_count": 17,
      "outputs": [
        {
          "output_type": "stream",
          "text": [
            "ABC\n",
            "ACB\n",
            "BAC\n",
            "BCA\n",
            "CBA\n",
            "CAB\n"
          ],
          "name": "stdout"
        }
      ]
    },
    {
      "cell_type": "code",
      "metadata": {
        "id": "gQN2bTrsP3h6",
        "colab_type": "code",
        "colab": {
          "base_uri": "https://localhost:8080/",
          "height": 34
        },
        "outputId": "8e154ab6-10b9-4d1a-d583-49f5eb90a196"
      },
      "source": [
        "\n",
        "# Python program to print all permutations \n",
        "\n",
        "from itertools import permutations \n",
        "print ([''.join(p) for p in permutations('ABC')] )\n",
        "# This code is contributed by Vidit Varshney \n"
      ],
      "execution_count": 19,
      "outputs": [
        {
          "output_type": "stream",
          "text": [
            "['ABC', 'ACB', 'BAC', 'BCA', 'CAB', 'CBA']\n"
          ],
          "name": "stdout"
        }
      ]
    },
    {
      "cell_type": "code",
      "metadata": {
        "id": "LfZrzHGaRD2i",
        "colab_type": "code",
        "colab": {
          "base_uri": "https://localhost:8080/",
          "height": 119
        },
        "outputId": "923e6f97-a235-4c60-cf1f-51c574e4c324"
      },
      "source": [
        "# Python program to print all permutations \n",
        "\n",
        "def permute(data, i, length): \n",
        "    if i==length: \n",
        "        print(''.join(data) )\n",
        "    else: \n",
        "        for j in range(i,length): \n",
        "            #swap\n",
        "            data[i], data[j] = data[j], data[i] \n",
        "            permute(data, i+1, length) \n",
        "            data[i], data[j] = data[j], data[i]  \n",
        "\n",
        "\n",
        "string = \"KAR\"\n",
        "n = len(string) \n",
        "data = list(string) \n",
        "permute(data, 0, n)"
      ],
      "execution_count": 25,
      "outputs": [
        {
          "output_type": "stream",
          "text": [
            "KAR\n",
            "KRA\n",
            "AKR\n",
            "ARK\n",
            "RAK\n",
            "RKA\n"
          ],
          "name": "stdout"
        }
      ]
    },
    {
      "cell_type": "code",
      "metadata": {
        "id": "iONeVFqSR2w5",
        "colab_type": "code",
        "colab": {
          "base_uri": "https://localhost:8080/",
          "height": 238
        },
        "outputId": "b92a2ee2-c95f-4d2f-9f80-7ac726ef2542"
      },
      "source": [
        "from itertools import permutations\n",
        "\n",
        "#print (list(permutations(['H','A','C','K'],2)))\n",
        "\n",
        "s,n = input().split()\n",
        "x = [''.join(i) for i in permutations(sorted(s),int(n))]\n",
        "#print(x)\n",
        "#print(*,sep='\\n')\n",
        "for i in x:\n",
        "    print (i)"
      ],
      "execution_count": 27,
      "outputs": [
        {
          "output_type": "stream",
          "text": [
            "hack 2\n",
            "ac\n",
            "ah\n",
            "ak\n",
            "ca\n",
            "ch\n",
            "ck\n",
            "ha\n",
            "hc\n",
            "hk\n",
            "ka\n",
            "kc\n",
            "kh\n"
          ],
          "name": "stdout"
        }
      ]
    },
    {
      "cell_type": "code",
      "metadata": {
        "id": "O4l0OzlLehsG",
        "colab_type": "code",
        "colab": {}
      },
      "source": [
        ""
      ],
      "execution_count": null,
      "outputs": []
    }
  ]
}