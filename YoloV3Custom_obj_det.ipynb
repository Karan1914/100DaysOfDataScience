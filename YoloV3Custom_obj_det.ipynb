{
  "nbformat": 4,
  "nbformat_minor": 0,
  "metadata": {
    "colab": {
      "name": "YoloV3Custom_obj_det.ipynb",
      "provenance": [],
      "collapsed_sections": [],
      "authorship_tag": "ABX9TyNDxO2PaHp21O5wAZa+BbCm",
      "include_colab_link": true
    },
    "kernelspec": {
      "name": "python3",
      "display_name": "Python 3"
    }
  },
  "cells": [
    {
      "cell_type": "markdown",
      "metadata": {
        "id": "view-in-github",
        "colab_type": "text"
      },
      "source": [
        "<a href=\"https://colab.research.google.com/github/Karan1914/100DaysOfDataScience/blob/master/YoloV3Custom_obj_det.ipynb\" target=\"_parent\"><img src=\"https://colab.research.google.com/assets/colab-badge.svg\" alt=\"Open In Colab\"/></a>"
      ]
    },
    {
      "cell_type": "code",
      "metadata": {
        "id": "nUBYufdtSp7I",
        "colab_type": "code",
        "colab": {}
      },
      "source": [
        ""
      ],
      "execution_count": null,
      "outputs": []
    },
    {
      "cell_type": "markdown",
      "metadata": {
        "id": "Zx1L9LqoSuxQ",
        "colab_type": "text"
      },
      "source": [
        "This notebook is for complete YoloV3 object detection of a single object\n",
        "It will provide you a tool which you can use to label the dataset\n",
        "\n",
        "Use this link for downloadig labelimg tool\n",
        "\n",
        "https://github.com/tzutalin/labelImg\n",
        "\n",
        "Use this link to follow installation steps for labelimg\n",
        "\n",
        "https://github.com/tzutalin/labelimg#macOS\n",
        "\n"
      ]
    },
    {
      "cell_type": "markdown",
      "metadata": {
        "id": "7xiXulm2TGrm",
        "colab_type": "text"
      },
      "source": [
        "In short for window operating system\n",
        "1) download labelimg from the above github link\n",
        "2) Install Python, PyQt5 and install lxml.\n",
        "\n",
        "Open cmd and go to the labelImg directory\n",
        "\n",
        "For pyqt4 use the below cmd:\n",
        "  pyrcc4 -o lib/resources.py resources.qrc\n",
        "\n",
        "For pyqt5 use the below cmd:\n",
        "  pyrcc5 -o libs/resources.py resources.qrc\n",
        "\n",
        "python labelImg.py\n",
        "python labelImg.py [IMAGE_PATH] [PRE-DEFINED CLASS FILE]"
      ]
    },
    {
      "cell_type": "markdown",
      "metadata": {
        "id": "Tu_bMsV7ThvS",
        "colab_type": "text"
      },
      "source": [
        "After Installation go to this path for further steps\n",
        "or refer this video\n",
        "\n"
      ]
    }
  ]
}