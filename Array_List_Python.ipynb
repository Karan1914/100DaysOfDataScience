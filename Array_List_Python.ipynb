{
  "nbformat": 4,
  "nbformat_minor": 0,
  "metadata": {
    "colab": {
      "name": "Array_List_Python.ipynb",
      "provenance": [],
      "authorship_tag": "ABX9TyPiTZv8liB1inMyc37PsTHK",
      "include_colab_link": true
    },
    "kernelspec": {
      "name": "python3",
      "display_name": "Python 3"
    }
  },
  "cells": [
    {
      "cell_type": "markdown",
      "metadata": {
        "id": "view-in-github",
        "colab_type": "text"
      },
      "source": [
        "<a href=\"https://colab.research.google.com/github/Karan1914/100DaysOfDataScience/blob/master/Array_List_Python.ipynb\" target=\"_parent\"><img src=\"https://colab.research.google.com/assets/colab-badge.svg\" alt=\"Open In Colab\"/></a>"
      ]
    },
    {
      "cell_type": "markdown",
      "metadata": {
        "id": "ZHoqvrs2-hNC",
        "colab_type": "text"
      },
      "source": [
        "\n",
        "### **This File is for Array and List related practice problems written in Python**\n",
        "\n",
        "\n",
        "\n"
      ]
    },
    {
      "cell_type": "code",
      "metadata": {
        "id": "KeC7t3wZ-p68",
        "colab_type": "code",
        "colab": {
          "base_uri": "https://localhost:8080/",
          "height": 34
        },
        "outputId": "f4c0b35c-544c-469a-b970-31e0446fe4c6"
      },
      "source": [
        "# Problem 1 :\n",
        "# Python Program to find sum of array\n",
        "\n",
        "\"\"\" Given an array of integers, find sum of its elements.\n",
        "\n",
        "Examples :\n",
        "\n",
        "Input : arr[] = {1, 2, 3}\n",
        "Output : 6\n",
        "1 + 2 + 3 = 6\n",
        "\n",
        "Input : arr[] = {15, 12, 13, 10}\n",
        "Output : 50 \"\"\"\n",
        "\n",
        "\n",
        "arr = [1,2,3]\n",
        "sum_=0\n",
        "for i in arr:\n",
        "  sum_+=i\n",
        "\n",
        "print(sum_)\n",
        "\n"
      ],
      "execution_count": 6,
      "outputs": [
        {
          "output_type": "stream",
          "text": [
            "6\n"
          ],
          "name": "stdout"
        }
      ]
    },
    {
      "cell_type": "code",
      "metadata": {
        "id": "WMVBmVk7_Tjs",
        "colab_type": "code",
        "colab": {
          "base_uri": "https://localhost:8080/",
          "height": 34
        },
        "outputId": "c53a7bd0-38e3-4f05-cc4e-79e95406d1af"
      },
      "source": [
        "import numpy as np\n",
        "arr = [] \n",
        "  \n",
        "# input values to list \n",
        "arr = [12, 3, 4, 15] \n",
        "  \n",
        "# sum() is an inbuilt function in python that adds  \n",
        "# all the elements in list,set and tuples and returns \n",
        "# the value \n",
        "\n",
        "arr = np.array(arr) \n",
        "ans = np.sum(arr) \n",
        "  \n",
        "# display sum \n",
        "print ('Sum of the array is ',ans) "
      ],
      "execution_count": 5,
      "outputs": [
        {
          "output_type": "stream",
          "text": [
            "Sum of the array is  34\n"
          ],
          "name": "stdout"
        }
      ]
    },
    {
      "cell_type": "code",
      "metadata": {
        "id": "fuyU23Yl_1AW",
        "colab_type": "code",
        "colab": {
          "base_uri": "https://localhost:8080/",
          "height": 51
        },
        "outputId": "973ba08f-9b97-42a5-bf91-9b825202595f"
      },
      "source": [
        "# Python Program to find largest element in an array\n",
        "\n",
        "\"\"\"\n",
        "Given an array, find the largest element in it.\n",
        "\n",
        "Input : arr[] = {10, 20, 4}\n",
        "Output : 20\n",
        "\n",
        "Input : arr[] = {20, 10, 20, 4, 100}\n",
        "Output : 100\n",
        "\"\"\"\n",
        "\n",
        "arr = [10,20,4]\n",
        "\n",
        "arr_1 = np.array(arr)\n",
        "\n",
        "high = np.max(arr_1)\n",
        "\n",
        "print(high)\n",
        "\n",
        "arr = [10, 324, 324, 45, 90, 98] \n",
        "temp = arr[0]\n",
        "for i in arr:\n",
        "  if i > temp:\n",
        "    temp = i\n",
        "print(temp)\n"
      ],
      "execution_count": 11,
      "outputs": [
        {
          "output_type": "stream",
          "text": [
            "20\n",
            "324\n"
          ],
          "name": "stdout"
        }
      ]
    },
    {
      "cell_type": "code",
      "metadata": {
        "id": "su9kL4xEAHd3",
        "colab_type": "code",
        "colab": {
          "base_uri": "https://localhost:8080/",
          "height": 34
        },
        "outputId": "e9680cf8-a437-4e56-b8c3-f2a2852aa588"
      },
      "source": [
        "# Python Program for array rotation\n",
        "\n",
        "\"\"\" \n",
        "Write a function rotate(ar[], d, n) that rotates arr[] of size n by d elements.\n",
        "1,2,3,4,5,6,7 by 2\n",
        "3,4,5,6,7,1,2\n",
        "\"\"\"\n",
        "arr = [1,2,3,4,5,6,7]\n",
        "n = len(arr)\n",
        "d =2\n",
        "\n",
        "#Function to left rotate arr[] of size n by d*/ \n",
        "def leftRotate(arr, d, n):\n",
        "  for i in range(d):\n",
        "    leftRotatebyOne(arr, n)\n",
        "  return arr\n",
        "\n",
        "\n",
        "def leftRotatebyOne(arr, n):\n",
        "  temp = arr[0]\n",
        "\n",
        "  for i in range(n-1):\n",
        "    arr[i] = arr[i+1]\n",
        "  arr[n-1] = temp\n",
        "\n",
        "print(leftRotate(arr,2,n))\n",
        "\n",
        "\n"
      ],
      "execution_count": 17,
      "outputs": [
        {
          "output_type": "stream",
          "text": [
            "[3, 4, 5, 6, 7, 1, 2]\n"
          ],
          "name": "stdout"
        }
      ]
    },
    {
      "cell_type": "code",
      "metadata": {
        "id": "PEAE1E_zB8bf",
        "colab_type": "code",
        "colab": {
          "base_uri": "https://localhost:8080/",
          "height": 51
        },
        "outputId": "14b9fb96-36cc-4601-ab63-66f486957746"
      },
      "source": [
        "# Python Program for Find remainder of array multiplication divided by n\n",
        "\"\"\"\n",
        "\n",
        "Given multiple numbers and a number n, the task is to print the remainder after multiply all the number divide by n.\n",
        "\n",
        "Examples:\n",
        "\n",
        "Input : arr[] = {100, 10, 5, 25, 35, 14}, \n",
        "            n = 11\n",
        "Output : 9\n",
        "100 x 10 x 5 x 25 x 35 x 14 = 61250000 % 11 = 9\"\"\"\n",
        "\n",
        "arr = [100, 10, 5, 25, 35, 14]\n",
        "n = 11 \n",
        "\n",
        "# Output = 9\n",
        "\n",
        "# solution1 using Numpy\n",
        "arr_2 = np.prod(arr)\n",
        "\n",
        "print(arr_2%n)\n",
        "\n",
        "\n",
        "# Solution 2 using list\n",
        "result = 1\n",
        "for i in arr:\n",
        "  result *= i\n",
        "\n",
        "print(result%n)\n",
        "\n",
        "\n",
        "\n"
      ],
      "execution_count": 28,
      "outputs": [
        {
          "output_type": "stream",
          "text": [
            "9\n",
            "9\n"
          ],
          "name": "stdout"
        }
      ]
    },
    {
      "cell_type": "code",
      "metadata": {
        "id": "x7XkhR2eDRfd",
        "colab_type": "code",
        "colab": {
          "base_uri": "https://localhost:8080/",
          "height": 51
        },
        "outputId": "042c6bd6-14ce-4245-fad5-ec1c96924eed"
      },
      "source": [
        "# Reconstruct the array by replacing arr[i] with (arr[i-1]+1) % M\n",
        "\n",
        "\"\"\"\n",
        "\n",
        "Given an array of N elements and an integer M. \n",
        "Now, the array is modified by replacing some of the array elements with -1. \n",
        "The task is to print the original array.\n",
        "\n",
        "The elements in the orginal array are related as, for every index i, a[i] = (a[i-1]+1)% M.\n",
        "\n",
        "It is guaranteed that there is one non zero value in the array.\n",
        "\n",
        "Examples:\n",
        "\n",
        "Input: arr[] = {5, -1, -1, 1, 2, 3}, M = 7\n",
        "Output: 5 6 0 1 2 3\n",
        "M = 7, so value at index 2 should be (5+1) % 7 = 6\n",
        "value at index 3 should be (6+1) % 7 = 0\n",
        "\n",
        "Input: arr[] = {5, -1, 7, -1, 9, 0}, M = 10\n",
        "Output: 5 6 7 8 9 0\n",
        "\n",
        "\"\"\"\n",
        "\n",
        "\n",
        "def arr_rep(arr,N,M):\n",
        "  for i in range(1, N-1):\n",
        "    arr[i] = (arr[i-1] + 1 ) % M\n",
        "\n",
        "  return arr\n",
        "\n",
        "arr = [5, -1, -1, 1, 2, 3]\n",
        "arr2 = [5, -1, 7, -1, 9, 0]\n",
        "N = len(arr)\n",
        "M = 7\n",
        "\n",
        "print(arr_rep(arr,N,M))\n",
        "print(arr_rep(arr2,N,M=10))\n",
        "\n"
      ],
      "execution_count": 33,
      "outputs": [
        {
          "output_type": "stream",
          "text": [
            "[5, 6, 0, 1, 2, 3]\n",
            "[5, 6, 7, 8, 9, 0]\n"
          ],
          "name": "stdout"
        }
      ]
    },
    {
      "cell_type": "code",
      "metadata": {
        "id": "xfPASyNaFnBG",
        "colab_type": "code",
        "colab": {
          "base_uri": "https://localhost:8080/",
          "height": 34
        },
        "outputId": "06977e58-37bf-4433-ddd2-d534d8551dd5"
      },
      "source": [
        "# Python Program to check if given array is Monotonic\n",
        "\n",
        "\"\"\"\n",
        "Given an array A containing n integers. The task is to check whether the array is Monotonic or not. \n",
        "An array is monotonic if it is either monotone increasing or monotone decreasing.\n",
        "An array A is monotone increasing if for all i <= j, A[i] <= A[j]. An array A is monotone decreasing if for all i <= j, A[i] >= A[j].\n",
        "Return “True” if the given array A is monotonic else return “False” (without quotes).\n",
        "\n",
        "Examples:\n",
        "\n",
        "Input : 6 5 4 4\n",
        "Output : true\n",
        "\n",
        "Input : 5 15 20 10\n",
        "Output : false\n",
        "\n",
        "\"\"\"\n",
        "\n",
        "\n",
        "\n",
        "  \n",
        "\n",
        "def mono(A):\n",
        "  return(\n",
        "      all(\n",
        "          A[i]<=A[i+1] for i in range(len(A)-1)\n",
        "      )\n",
        "          or\n",
        "         all(\n",
        "             A[i]>=A[i+1] for i in range(len(A)-1)\n",
        "         )\n",
        "\n",
        "      )\n",
        "  \n",
        "\n",
        "arr = [6,5,4,4,3]\n",
        "\n",
        "n = len(arr)\n",
        "mono(arr,n)"
      ],
      "execution_count": 39,
      "outputs": [
        {
          "output_type": "execute_result",
          "data": {
            "text/plain": [
              "True"
            ]
          },
          "metadata": {
            "tags": []
          },
          "execution_count": 39
        }
      ]
    },
    {
      "cell_type": "code",
      "metadata": {
        "id": "MZoQJqrWHSLI",
        "colab_type": "code",
        "colab": {
          "base_uri": "https://localhost:8080/",
          "height": 34
        },
        "outputId": "4f323151-044c-4e1d-e6cd-7fde3649180b"
      },
      "source": [
        "# Python Program to find sum of array\n",
        "\n",
        "\"\"\"\n",
        "Given an array of integers, find sum of its elements.\n",
        "\n",
        "Examples :\n",
        "\n",
        "Input : arr[] = {1, 2, 3}\n",
        "Output : 6\n",
        "1 + 2 + 3 = 6\n",
        "\n",
        "Input : arr[] = {15, 12, 13, 10}\n",
        "Output : 50\n",
        "\n",
        "\"\"\"\n",
        "\n",
        "\n",
        "def sum(arr , n):\n",
        "  s = 0\n",
        "  for i in arr:\n",
        "    s +=i\n",
        "  return s\n",
        "\n",
        "def sum2(arr , n):\n",
        "  s = 0\n",
        "  arr = np.array(arr)\n",
        "  s = np.sum(arr)\n",
        "  return s\n",
        "\n",
        "arr = [1, 2, 3 ]\n",
        "n = len(arr)\n",
        "\n",
        "\n",
        "print(sum2(arr,n))"
      ],
      "execution_count": 45,
      "outputs": [
        {
          "output_type": "stream",
          "text": [
            "6\n"
          ],
          "name": "stdout"
        }
      ]
    },
    {
      "cell_type": "code",
      "metadata": {
        "id": "8pyODcUtJcrR",
        "colab_type": "code",
        "colab": {
          "base_uri": "https://localhost:8080/",
          "height": 51
        },
        "outputId": "c660dbcd-2414-45e1-93f4-8c314e3e1ae1"
      },
      "source": [
        "test_number = 96696693\n",
        "  \n",
        "# printing the original number  \n",
        "print (\"The original number is : \" + str(test_number)) \n",
        "  \n",
        "# using str() + string slicing \n",
        "# for checking a number is palindrome \n",
        "print(str(test_number)[::-1] )"
      ],
      "execution_count": 47,
      "outputs": [
        {
          "output_type": "stream",
          "text": [
            "The original number is : 96696693\n",
            "39669669\n"
          ],
          "name": "stdout"
        }
      ]
    },
    {
      "cell_type": "code",
      "metadata": {
        "id": "aNIdKr7oLRVl",
        "colab_type": "code",
        "colab": {
          "base_uri": "https://localhost:8080/",
          "height": 51
        },
        "outputId": "9a39e4f2-7a2f-40fa-b47a-ce4b19b15e34"
      },
      "source": [
        "# check prime\n",
        "\n",
        "def isPrime(n): \n",
        "  \n",
        "    # Corner case \n",
        "    if n <= 1: \n",
        "        return False\n",
        "  \n",
        "    # Check from 2 to n-1 \n",
        "    for i in range(2, n): \n",
        "        if n % i == 0: \n",
        "            return False; \n",
        "  \n",
        "    return True\n",
        "  \n",
        "# Driver Program to test above function \n",
        "print(\"true\") if isPrime(11) else print(\"false\") \n",
        "print(\"true\") if isPrime(14) else print(\"false\") "
      ],
      "execution_count": 48,
      "outputs": [
        {
          "output_type": "stream",
          "text": [
            "true\n",
            "false\n"
          ],
          "name": "stdout"
        }
      ]
    },
    {
      "cell_type": "code",
      "metadata": {
        "id": "vleRw5HKL-Hf",
        "colab_type": "code",
        "colab": {
          "base_uri": "https://localhost:8080/",
          "height": 34
        },
        "outputId": "30fcd91c-c1e5-4a57-a201-fcabcebf2d34"
      },
      "source": [
        "# Python3 program to \n",
        "# Check if the string is pangram \n",
        "import string \n",
        "  \n",
        "def ispangram(str): \n",
        "    alphabet = \"abcdefghijklmnopqrstuvwxyz\"\n",
        "    for char in alphabet: \n",
        "        if char not in str.lower(): \n",
        "            return False\n",
        "  \n",
        "    return True\n",
        "      \n",
        "# Driver code \n",
        "string = 'the quick brown fox jumps over the lazy dog'\n",
        "if(ispangram(string) == True): \n",
        "    print(\"Yes\") \n",
        "else: \n",
        "    print(\"No\") "
      ],
      "execution_count": 49,
      "outputs": [
        {
          "output_type": "stream",
          "text": [
            "Yes\n"
          ],
          "name": "stdout"
        }
      ]
    },
    {
      "cell_type": "code",
      "metadata": {
        "id": "zMy3QK_kMiGl",
        "colab_type": "code",
        "colab": {
          "base_uri": "https://localhost:8080/",
          "height": 34
        },
        "outputId": "e0dc4c98-c1e2-450a-ecd5-c778f1d7834f"
      },
      "source": [
        "# Python3 program to \n",
        "# Check if the string is pangram \n",
        "import string \n",
        "\n",
        "alphabet = set(string.ascii_lowercase) \n",
        "\n",
        "def ispangram(string): \n",
        "\treturn set(string.lower()) >= alphabet \n",
        "\t\n",
        "# Driver code \n",
        "string = \"The quick brown fox jumps over the lazy dog\"\n",
        "if(ispangram(string) == True): \n",
        "\tprint(\"Yes\") \n",
        "else: \n",
        "\tprint(\"No\") \n"
      ],
      "execution_count": 50,
      "outputs": [
        {
          "output_type": "stream",
          "text": [
            "Yes\n"
          ],
          "name": "stdout"
        }
      ]
    },
    {
      "cell_type": "code",
      "metadata": {
        "id": "ES-8FBhdMuz8",
        "colab_type": "code",
        "colab": {
          "base_uri": "https://localhost:8080/",
          "height": 34
        },
        "outputId": "2e308b50-2b80-44c8-fe91-86f56f44cfc1"
      },
      "source": [
        "# Python3 program to \n",
        "# Check if the string is pangram \n",
        "import string \n",
        "\n",
        "alphabet = set(string.ascii_lowercase) \n",
        "\n",
        "def ispangram(str): \n",
        "\treturn not set(alphabet) - set(str) \n",
        "\t\n",
        "# Driver code \n",
        "string = 'the quick brown fox jumps over the lazy dog'\n",
        "if(ispangram(string) == True): \n",
        "\tprint(\"Yes\") \n",
        "else: \n",
        "\tprint(\"No\") \n"
      ],
      "execution_count": 51,
      "outputs": [
        {
          "output_type": "stream",
          "text": [
            "Yes\n"
          ],
          "name": "stdout"
        }
      ]
    },
    {
      "cell_type": "code",
      "metadata": {
        "id": "14sJesmlM4Mc",
        "colab_type": "code",
        "colab": {
          "base_uri": "https://localhost:8080/",
          "height": 409
        },
        "outputId": "14112101-f2b7-43bd-83f8-4d899434766d"
      },
      "source": [
        "# Python program to determine whether the number is \n",
        "# Armstrong number or not \n",
        "\n",
        "# Function to calculate x raised to the power y \n",
        "def power(x, y): \n",
        "\tif y==0: \n",
        "\t\treturn 1\n",
        "\tif y%2==0: \n",
        "\t\treturn power(x, y/2)*power(x, y/2) \n",
        "\treturn x*power(x, y/2)*power(x, y/2) \n",
        "\n",
        "# Function to calculate order of the number \n",
        "def order(x): \n",
        "\n",
        "\t# variable to store of the number \n",
        "\tn = 0\n",
        "\twhile (x!=0): \n",
        "\t\tn = n+1\n",
        "\t\tx = x/10\n",
        "\treturn n \n",
        "\n",
        "# Function to check whether the given number is \n",
        "# Armstrong number or not \n",
        "def isArmstrong (x): \n",
        "\tn = order(x) \n",
        "\ttemp = x \n",
        "\tsum1 = 0\n",
        "\twhile (temp!=0): \n",
        "\t\tr = temp%10\n",
        "\t\tsum1 = sum1 + power(r, n) \n",
        "\t\ttemp = temp/10\n",
        "\n",
        "\t# If condition satisfies \n",
        "\treturn (sum1 == x) \n",
        "\n",
        "\n",
        "# Driver Program \n",
        "x = 153\n",
        "print(isArmstrong(x)) \n",
        "x = 1253\n",
        "print(isArmstrong(x)) \n"
      ],
      "execution_count": 52,
      "outputs": [
        {
          "output_type": "error",
          "ename": "RecursionError",
          "evalue": "ignored",
          "traceback": [
            "\u001b[0;31m---------------------------------------------------------------------------\u001b[0m",
            "\u001b[0;31mRecursionError\u001b[0m                            Traceback (most recent call last)",
            "\u001b[0;32m<ipython-input-52-8a6b5c957c12>\u001b[0m in \u001b[0;36m<module>\u001b[0;34m()\u001b[0m\n\u001b[1;32m     37\u001b[0m \u001b[0;31m# Driver Program\u001b[0m\u001b[0;34m\u001b[0m\u001b[0;34m\u001b[0m\u001b[0;34m\u001b[0m\u001b[0m\n\u001b[1;32m     38\u001b[0m \u001b[0mx\u001b[0m \u001b[0;34m=\u001b[0m \u001b[0;36m153\u001b[0m\u001b[0;34m\u001b[0m\u001b[0;34m\u001b[0m\u001b[0m\n\u001b[0;32m---> 39\u001b[0;31m \u001b[0mprint\u001b[0m\u001b[0;34m(\u001b[0m\u001b[0misArmstrong\u001b[0m\u001b[0;34m(\u001b[0m\u001b[0mx\u001b[0m\u001b[0;34m)\u001b[0m\u001b[0;34m)\u001b[0m\u001b[0;34m\u001b[0m\u001b[0;34m\u001b[0m\u001b[0m\n\u001b[0m\u001b[1;32m     40\u001b[0m \u001b[0mx\u001b[0m \u001b[0;34m=\u001b[0m \u001b[0;36m1253\u001b[0m\u001b[0;34m\u001b[0m\u001b[0;34m\u001b[0m\u001b[0m\n\u001b[1;32m     41\u001b[0m \u001b[0mprint\u001b[0m\u001b[0;34m(\u001b[0m\u001b[0misArmstrong\u001b[0m\u001b[0;34m(\u001b[0m\u001b[0mx\u001b[0m\u001b[0;34m)\u001b[0m\u001b[0;34m)\u001b[0m\u001b[0;34m\u001b[0m\u001b[0;34m\u001b[0m\u001b[0m\n",
            "\u001b[0;32m<ipython-input-52-8a6b5c957c12>\u001b[0m in \u001b[0;36misArmstrong\u001b[0;34m(x)\u001b[0m\n\u001b[1;32m     28\u001b[0m         \u001b[0;32mwhile\u001b[0m \u001b[0;34m(\u001b[0m\u001b[0mtemp\u001b[0m\u001b[0;34m!=\u001b[0m\u001b[0;36m0\u001b[0m\u001b[0;34m)\u001b[0m\u001b[0;34m:\u001b[0m\u001b[0;34m\u001b[0m\u001b[0;34m\u001b[0m\u001b[0m\n\u001b[1;32m     29\u001b[0m                 \u001b[0mr\u001b[0m \u001b[0;34m=\u001b[0m \u001b[0mtemp\u001b[0m\u001b[0;34m%\u001b[0m\u001b[0;36m10\u001b[0m\u001b[0;34m\u001b[0m\u001b[0;34m\u001b[0m\u001b[0m\n\u001b[0;32m---> 30\u001b[0;31m                 \u001b[0msum1\u001b[0m \u001b[0;34m=\u001b[0m \u001b[0msum1\u001b[0m \u001b[0;34m+\u001b[0m \u001b[0mpower\u001b[0m\u001b[0;34m(\u001b[0m\u001b[0mr\u001b[0m\u001b[0;34m,\u001b[0m \u001b[0mn\u001b[0m\u001b[0;34m)\u001b[0m\u001b[0;34m\u001b[0m\u001b[0;34m\u001b[0m\u001b[0m\n\u001b[0m\u001b[1;32m     31\u001b[0m                 \u001b[0mtemp\u001b[0m \u001b[0;34m=\u001b[0m \u001b[0mtemp\u001b[0m\u001b[0;34m/\u001b[0m\u001b[0;36m10\u001b[0m\u001b[0;34m\u001b[0m\u001b[0;34m\u001b[0m\u001b[0m\n\u001b[1;32m     32\u001b[0m \u001b[0;34m\u001b[0m\u001b[0m\n",
            "\u001b[0;32m<ipython-input-52-8a6b5c957c12>\u001b[0m in \u001b[0;36mpower\u001b[0;34m(x, y)\u001b[0m\n\u001b[1;32m      7\u001b[0m                 \u001b[0;32mreturn\u001b[0m \u001b[0;36m1\u001b[0m\u001b[0;34m\u001b[0m\u001b[0;34m\u001b[0m\u001b[0m\n\u001b[1;32m      8\u001b[0m         \u001b[0;32mif\u001b[0m \u001b[0my\u001b[0m\u001b[0;34m%\u001b[0m\u001b[0;36m2\u001b[0m\u001b[0;34m==\u001b[0m\u001b[0;36m0\u001b[0m\u001b[0;34m:\u001b[0m\u001b[0;34m\u001b[0m\u001b[0;34m\u001b[0m\u001b[0m\n\u001b[0;32m----> 9\u001b[0;31m                 \u001b[0;32mreturn\u001b[0m \u001b[0mpower\u001b[0m\u001b[0;34m(\u001b[0m\u001b[0mx\u001b[0m\u001b[0;34m,\u001b[0m \u001b[0my\u001b[0m\u001b[0;34m/\u001b[0m\u001b[0;36m2\u001b[0m\u001b[0;34m)\u001b[0m\u001b[0;34m*\u001b[0m\u001b[0mpower\u001b[0m\u001b[0;34m(\u001b[0m\u001b[0mx\u001b[0m\u001b[0;34m,\u001b[0m \u001b[0my\u001b[0m\u001b[0;34m/\u001b[0m\u001b[0;36m2\u001b[0m\u001b[0;34m)\u001b[0m\u001b[0;34m\u001b[0m\u001b[0;34m\u001b[0m\u001b[0m\n\u001b[0m\u001b[1;32m     10\u001b[0m         \u001b[0;32mreturn\u001b[0m \u001b[0mx\u001b[0m\u001b[0;34m*\u001b[0m\u001b[0mpower\u001b[0m\u001b[0;34m(\u001b[0m\u001b[0mx\u001b[0m\u001b[0;34m,\u001b[0m \u001b[0my\u001b[0m\u001b[0;34m/\u001b[0m\u001b[0;36m2\u001b[0m\u001b[0;34m)\u001b[0m\u001b[0;34m*\u001b[0m\u001b[0mpower\u001b[0m\u001b[0;34m(\u001b[0m\u001b[0mx\u001b[0m\u001b[0;34m,\u001b[0m \u001b[0my\u001b[0m\u001b[0;34m/\u001b[0m\u001b[0;36m2\u001b[0m\u001b[0;34m)\u001b[0m\u001b[0;34m\u001b[0m\u001b[0;34m\u001b[0m\u001b[0m\n\u001b[1;32m     11\u001b[0m \u001b[0;34m\u001b[0m\u001b[0m\n",
            "\u001b[0;32m<ipython-input-52-8a6b5c957c12>\u001b[0m in \u001b[0;36mpower\u001b[0;34m(x, y)\u001b[0m\n\u001b[1;32m      8\u001b[0m         \u001b[0;32mif\u001b[0m \u001b[0my\u001b[0m\u001b[0;34m%\u001b[0m\u001b[0;36m2\u001b[0m\u001b[0;34m==\u001b[0m\u001b[0;36m0\u001b[0m\u001b[0;34m:\u001b[0m\u001b[0;34m\u001b[0m\u001b[0;34m\u001b[0m\u001b[0m\n\u001b[1;32m      9\u001b[0m                 \u001b[0;32mreturn\u001b[0m \u001b[0mpower\u001b[0m\u001b[0;34m(\u001b[0m\u001b[0mx\u001b[0m\u001b[0;34m,\u001b[0m \u001b[0my\u001b[0m\u001b[0;34m/\u001b[0m\u001b[0;36m2\u001b[0m\u001b[0;34m)\u001b[0m\u001b[0;34m*\u001b[0m\u001b[0mpower\u001b[0m\u001b[0;34m(\u001b[0m\u001b[0mx\u001b[0m\u001b[0;34m,\u001b[0m \u001b[0my\u001b[0m\u001b[0;34m/\u001b[0m\u001b[0;36m2\u001b[0m\u001b[0;34m)\u001b[0m\u001b[0;34m\u001b[0m\u001b[0;34m\u001b[0m\u001b[0m\n\u001b[0;32m---> 10\u001b[0;31m         \u001b[0;32mreturn\u001b[0m \u001b[0mx\u001b[0m\u001b[0;34m*\u001b[0m\u001b[0mpower\u001b[0m\u001b[0;34m(\u001b[0m\u001b[0mx\u001b[0m\u001b[0;34m,\u001b[0m \u001b[0my\u001b[0m\u001b[0;34m/\u001b[0m\u001b[0;36m2\u001b[0m\u001b[0;34m)\u001b[0m\u001b[0;34m*\u001b[0m\u001b[0mpower\u001b[0m\u001b[0;34m(\u001b[0m\u001b[0mx\u001b[0m\u001b[0;34m,\u001b[0m \u001b[0my\u001b[0m\u001b[0;34m/\u001b[0m\u001b[0;36m2\u001b[0m\u001b[0;34m)\u001b[0m\u001b[0;34m\u001b[0m\u001b[0;34m\u001b[0m\u001b[0m\n\u001b[0m\u001b[1;32m     11\u001b[0m \u001b[0;34m\u001b[0m\u001b[0m\n\u001b[1;32m     12\u001b[0m \u001b[0;31m# Function to calculate order of the number\u001b[0m\u001b[0;34m\u001b[0m\u001b[0;34m\u001b[0m\u001b[0;34m\u001b[0m\u001b[0m\n",
            "... last 1 frames repeated, from the frame below ...\n",
            "\u001b[0;32m<ipython-input-52-8a6b5c957c12>\u001b[0m in \u001b[0;36mpower\u001b[0;34m(x, y)\u001b[0m\n\u001b[1;32m      8\u001b[0m         \u001b[0;32mif\u001b[0m \u001b[0my\u001b[0m\u001b[0;34m%\u001b[0m\u001b[0;36m2\u001b[0m\u001b[0;34m==\u001b[0m\u001b[0;36m0\u001b[0m\u001b[0;34m:\u001b[0m\u001b[0;34m\u001b[0m\u001b[0;34m\u001b[0m\u001b[0m\n\u001b[1;32m      9\u001b[0m                 \u001b[0;32mreturn\u001b[0m \u001b[0mpower\u001b[0m\u001b[0;34m(\u001b[0m\u001b[0mx\u001b[0m\u001b[0;34m,\u001b[0m \u001b[0my\u001b[0m\u001b[0;34m/\u001b[0m\u001b[0;36m2\u001b[0m\u001b[0;34m)\u001b[0m\u001b[0;34m*\u001b[0m\u001b[0mpower\u001b[0m\u001b[0;34m(\u001b[0m\u001b[0mx\u001b[0m\u001b[0;34m,\u001b[0m \u001b[0my\u001b[0m\u001b[0;34m/\u001b[0m\u001b[0;36m2\u001b[0m\u001b[0;34m)\u001b[0m\u001b[0;34m\u001b[0m\u001b[0;34m\u001b[0m\u001b[0m\n\u001b[0;32m---> 10\u001b[0;31m         \u001b[0;32mreturn\u001b[0m \u001b[0mx\u001b[0m\u001b[0;34m*\u001b[0m\u001b[0mpower\u001b[0m\u001b[0;34m(\u001b[0m\u001b[0mx\u001b[0m\u001b[0;34m,\u001b[0m \u001b[0my\u001b[0m\u001b[0;34m/\u001b[0m\u001b[0;36m2\u001b[0m\u001b[0;34m)\u001b[0m\u001b[0;34m*\u001b[0m\u001b[0mpower\u001b[0m\u001b[0;34m(\u001b[0m\u001b[0mx\u001b[0m\u001b[0;34m,\u001b[0m \u001b[0my\u001b[0m\u001b[0;34m/\u001b[0m\u001b[0;36m2\u001b[0m\u001b[0;34m)\u001b[0m\u001b[0;34m\u001b[0m\u001b[0;34m\u001b[0m\u001b[0m\n\u001b[0m\u001b[1;32m     11\u001b[0m \u001b[0;34m\u001b[0m\u001b[0m\n\u001b[1;32m     12\u001b[0m \u001b[0;31m# Function to calculate order of the number\u001b[0m\u001b[0;34m\u001b[0m\u001b[0;34m\u001b[0m\u001b[0;34m\u001b[0m\u001b[0m\n",
            "\u001b[0;31mRecursionError\u001b[0m: maximum recursion depth exceeded in comparison"
          ]
        }
      ]
    },
    {
      "cell_type": "code",
      "metadata": {
        "id": "IWEOy2LZNE68",
        "colab_type": "code",
        "colab": {
          "base_uri": "https://localhost:8080/",
          "height": 71
        },
        "outputId": "3c3a4ddf-19b3-4f55-9249-eb28817a9df0"
      },
      "source": [
        "# import keyword library \n",
        "import keyword \n",
        "  \n",
        "keyword_list = keyword.kwlist \n",
        "print(\"No. of keywords present in current version :\", \n",
        "                                   len(keyword_list)) \n",
        "  \n",
        "print(keyword_list) \n"
      ],
      "execution_count": 54,
      "outputs": [
        {
          "output_type": "stream",
          "text": [
            "No. of keywords present in current version : 33\n",
            "['False', 'None', 'True', 'and', 'as', 'assert', 'break', 'class', 'continue', 'def', 'del', 'elif', 'else', 'except', 'finally', 'for', 'from', 'global', 'if', 'import', 'in', 'is', 'lambda', 'nonlocal', 'not', 'or', 'pass', 'raise', 'return', 'try', 'while', 'with', 'yield']\n"
          ],
          "name": "stdout"
        }
      ]
    },
    {
      "cell_type": "code",
      "metadata": {
        "id": "d2ijMD_ONUtU",
        "colab_type": "code",
        "colab": {
          "base_uri": "https://localhost:8080/",
          "height": 34
        },
        "outputId": "f75c414a-bf16-4588-f125-ad61472e3708"
      },
      "source": [
        "import keyword \n",
        "\n",
        "keyword_list = keyword.kwlist \n",
        "\n",
        "str1 = \"geeks\"\n",
        "str2 = \"for\"\n",
        "\n",
        "\n",
        "\n",
        "def check_keyword(word,keyword_list):\n",
        "  if word in keyword_list : \n",
        "        return \"Yes\"\n",
        "  else : \n",
        "      return \"No\"\n",
        "  \n",
        "\n",
        "print(check_keyword(str1,keyword_list))\n",
        "\n",
        "\n"
      ],
      "execution_count": 70,
      "outputs": [
        {
          "output_type": "stream",
          "text": [
            "No\n"
          ],
          "name": "stdout"
        }
      ]
    },
    {
      "cell_type": "code",
      "metadata": {
        "id": "oAzcH4qVNtif",
        "colab_type": "code",
        "colab": {
          "base_uri": "https://localhost:8080/",
          "height": 51
        },
        "outputId": "6e8869cd-0d8e-488f-87d9-26510bc4fb97"
      },
      "source": [
        "# Python program for \n",
        "# Efficient Solution to find \n",
        "# find if count of divisors \n",
        "# is even or odd \n",
        "\n",
        "# Python program for \n",
        "# Efficient Solution to find \n",
        "# find if count of divisors \n",
        "# is even or odd \n",
        "\n",
        "def NumOfDivisor(n): \n",
        "\tif n < 1: \n",
        "\t\treturn\n",
        "\troot_n = n**0.5\n",
        "\t\n",
        "\t# If n is a perfect square, \n",
        "\t# then it has odd divisors \n",
        "\tif root_n**2 == n: \n",
        "\t\tprint(\"Odd\") \n",
        "\telse: \n",
        "\t\tprint(\"Even\") \n",
        "\t\t\n",
        "# Driver code\t \n",
        "if __name__ == '__main__': \n",
        "\tprint(\"The count of divisor\"+\n",
        "\t\t\"of 10 is: \") \n",
        "\tNumOfDivisor(10) \n",
        "\t\n",
        "\n",
        "\n"
      ],
      "execution_count": 72,
      "outputs": [
        {
          "output_type": "stream",
          "text": [
            "The count of divisorof 10 is: \n",
            "Even\n"
          ],
          "name": "stdout"
        }
      ]
    },
    {
      "cell_type": "code",
      "metadata": {
        "id": "vXiTGjIJPkEt",
        "colab_type": "code",
        "colab": {
          "base_uri": "https://localhost:8080/",
          "height": 34
        },
        "outputId": "f816abbd-1acc-49f7-bbec-249dde680fa5"
      },
      "source": [
        "# Recursive approach to check if an \n",
        "# Array is sorted or not \n",
        "\n",
        "# Function that returns 0 if a pair \n",
        "# is found unsorted \n",
        "def arraySortedOrNot(arr): \n",
        "\t\n",
        "\t# Calculating length \n",
        "\tn = len(arr) \n",
        "\t\n",
        "\t# Array has one or no element or the \n",
        "\t# rest are already checked and approved. \n",
        "\tif n == 1 or n == 0: \n",
        "\t\treturn True\n",
        "\t\t\n",
        "\t# Recursion applied till last element \n",
        "\treturn arr[0]<= arr[1] and arraySortedOrNot(arr[1:]) \n",
        "\n",
        "\n",
        "arr = [20, 23, 23, 45, 78, 88] \n",
        "\n",
        "# Displaying result \n",
        "if arraySortedOrNot(arr): print(\"Yes\") \n",
        "else: print(\"No\") \n"
      ],
      "execution_count": 73,
      "outputs": [
        {
          "output_type": "stream",
          "text": [
            "Yes\n"
          ],
          "name": "stdout"
        }
      ]
    },
    {
      "cell_type": "code",
      "metadata": {
        "id": "-lWctAlwPwjK",
        "colab_type": "code",
        "colab": {
          "base_uri": "https://localhost:8080/",
          "height": 34
        },
        "outputId": "1eec4a7b-87fc-455a-994e-8666441f0389"
      },
      "source": [
        "# Python3 program to check if an \n",
        "# Array is sorted or not \n",
        "\n",
        "# Function that returns true if array is \n",
        "# sorted in non-decreasing order. \n",
        "def arraySortedOrNot(arr, n): \n",
        "\n",
        "\t# Array has one or no element \n",
        "\tif (n == 0 or n == 1): \n",
        "\t\treturn True\n",
        "\n",
        "\tfor i in range(1, n): \n",
        "\n",
        "\t\t# Unsorted pair found \n",
        "\t\tif (arr[i-1] > arr[i]): \n",
        "\t\t\treturn False\n",
        "\n",
        "\t# No unsorted pair found \n",
        "\treturn True\n",
        "\n",
        "\n",
        "# Driver code \n",
        "arr = [20, 23, 23, 45, 78, 88] \n",
        "n = len(arr) \n",
        "if (arraySortedOrNot(arr, n)): \n",
        "\tprint(\"Yes\") \n",
        "else: \n",
        "\tprint(\"No\") \n",
        "\n"
      ],
      "execution_count": 74,
      "outputs": [
        {
          "output_type": "stream",
          "text": [
            "Yes\n"
          ],
          "name": "stdout"
        }
      ]
    },
    {
      "cell_type": "code",
      "metadata": {
        "id": "cGibWLkLP7cw",
        "colab_type": "code",
        "colab": {
          "base_uri": "https://localhost:8080/",
          "height": 34
        },
        "outputId": "52a1ff29-da1c-473c-d701-e353c7d9869c"
      },
      "source": [
        "# Python 3 implementation of above approach \n",
        "\n",
        "# Recursive function that returns 1 if \n",
        "# palindrome, 0 if not palindrome \n",
        "def palindrome(arr, begin, end): \n",
        "\n",
        "\t# base case \n",
        "\tif (begin >= end) : \n",
        "\t\treturn 1\n",
        "\t\n",
        "\tif (arr[begin] == arr[end]) : \n",
        "\t\treturn palindrome(arr, begin + 1, \n",
        "\t\t\t\t\t\t\t\tend - 1) \n",
        "\t\n",
        "\telse : \n",
        "\t\treturn 0\n",
        "\n",
        "# Driver code \n",
        "if __name__ == \"__main__\": \n",
        "\ta = [ 3, 6, 0, 6, 3 ] \n",
        "\tn = len(a) \n",
        "\n",
        "\tif (palindrome(a, 0, n - 1) == 1): \n",
        "\t\tprint(\"Palindrome\") \n",
        "\telse: \n",
        "\t\tprint(\"Not Palindrome\") \n",
        "\n"
      ],
      "execution_count": 76,
      "outputs": [
        {
          "output_type": "stream",
          "text": [
            "Palindrome\n"
          ],
          "name": "stdout"
        }
      ]
    },
    {
      "cell_type": "code",
      "metadata": {
        "id": "M455cW3jQFMF",
        "colab_type": "code",
        "colab": {
          "base_uri": "https://localhost:8080/",
          "height": 34
        },
        "outputId": "4c00f7c1-c34e-41f2-dccf-73b3022429e6"
      },
      "source": [
        "# Python3 program to check if \n",
        "# an array is bitonic or not. \n",
        "\n",
        "# Function to check if the \n",
        "# given array is bitonic \n",
        "def checkBitonic(arr, n) : \n",
        "\n",
        "\t# Check for increasing sequence \n",
        "\tfor i in range(1, n) : \n",
        "\t\tif arr[i] > arr[i - 1] : \n",
        "\t\t\tcontinue\n",
        "\t\telse : \n",
        "\t\t\tbreak\n",
        "\n",
        "\tif i == n-1 : \n",
        "\t\treturn 1\n",
        "\n",
        "\t# Check for decreasing sequence \n",
        "\tfor j in range(i + 1, n) : \n",
        "\t\t\n",
        "\t\tif arr[j] < arr[j - 1] : \n",
        "\t\t\tcontinue\n",
        "\t\telse : \n",
        "\t\t\tbreak\n",
        "\n",
        "\ti = j \n",
        "\tif i != n - 1 : \n",
        "\t\treturn 0\n",
        "\n",
        "\treturn 1\n",
        "\n",
        "# Driver Code \n",
        "if __name__ == \"__main__\" : \n",
        "\t\n",
        "\tarr = [-3, 9, 7, 20, 17, 5, 1] \n",
        "\t\n",
        "\tn = len(arr) \n",
        "\n",
        "\tif checkBitonic(arr, n) == 1 : \n",
        "\t\tprint(\"YES\") \n",
        "\telse : \n",
        "\t\tprint(\"NO\") \n",
        "\n",
        "\n"
      ],
      "execution_count": 77,
      "outputs": [
        {
          "output_type": "stream",
          "text": [
            "NO\n"
          ],
          "name": "stdout"
        }
      ]
    },
    {
      "cell_type": "code",
      "metadata": {
        "id": "DYFZmsX8QbGi",
        "colab_type": "code",
        "colab": {
          "base_uri": "https://localhost:8080/",
          "height": 34
        },
        "outputId": "6da6a656-02b9-41b2-faef-210617c5a0ca"
      },
      "source": [
        "# Python3 Program to check whether the \n",
        "# Array is palindromic or not \n",
        "def palindrome(arr, n): \n",
        "\n",
        "\t# Initialise flag to zero. \n",
        "\tflag = 0; \n",
        "\n",
        "\t# Loop till array size n/2. \n",
        "\ti = 0; \n",
        "\twhile (i <= n // 2 and n != 0): \n",
        "\n",
        "\t\t# Check if first and last element \n",
        "\t\t# are different. Then set flag to 1. \n",
        "\t\tif (arr[i] != arr[n - i - 1]): \n",
        "\t\t\tflag = 1; \n",
        "\t\t\tbreak; \n",
        "\t\ti += 1; \n",
        "\n",
        "\t# If flag is set then print Not Palindrome \n",
        "\t# else print Palindrome. \n",
        "\tif (flag == 1): \n",
        "\t\tprint(\"Not Palindrome\"); \n",
        "\telse: \n",
        "\t\tprint(\"Palindrome\"); \n",
        "\n",
        "# Driver code. \n",
        "arr = [ 1, 2, 3, 2, 1 ]; \n",
        "n = len(arr); \n",
        "\n",
        "palindrome(arr, n); \n",
        "\n"
      ],
      "execution_count": 78,
      "outputs": [
        {
          "output_type": "stream",
          "text": [
            "Palindrome\n"
          ],
          "name": "stdout"
        }
      ]
    },
    {
      "cell_type": "code",
      "metadata": {
        "id": "QMn4Bi7fQ66q",
        "colab_type": "code",
        "colab": {
          "base_uri": "https://localhost:8080/",
          "height": 34
        },
        "outputId": "88b5655c-56d1-44a6-c7ab-940904d5ee66"
      },
      "source": [
        "# Python program to find if it is possible \n",
        "# to make a number divisible by 3 using \n",
        "# all digits of given array \n",
        "\n",
        "def isPossibleToMakeDivisible(arr, n): \n",
        "\t# Find remainder of sum when divided by 3 \n",
        "\tremainder = 0\n",
        "\tfor i in range (0, n):\n",
        "\t\tremainder = ((remainder + arr[i]) % 3)\n",
        "  \n",
        "\n",
        "\n",
        "\t# Return true if remainder is 0. \n",
        "\treturn (remainder == 0) \n",
        "\n",
        "# main() \n",
        "\n",
        "arr = [40, 50, 90 ]; \n",
        "n = 3\n",
        "if (isPossibleToMakeDivisible(arr, n)): \n",
        "\tprint(\"Yes\") \n",
        "else: \n",
        "\tprint(\"No\") \n",
        "\n"
      ],
      "execution_count": 83,
      "outputs": [
        {
          "output_type": "stream",
          "text": [
            "Yes\n"
          ],
          "name": "stdout"
        }
      ]
    },
    {
      "cell_type": "code",
      "metadata": {
        "id": "zElkECXYRVm-",
        "colab_type": "code",
        "colab": {}
      },
      "source": [
        ""
      ],
      "execution_count": null,
      "outputs": []
    }
  ]
}