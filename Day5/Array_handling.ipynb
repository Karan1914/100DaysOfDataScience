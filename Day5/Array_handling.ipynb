{
 "cells": [
  {
   "cell_type": "code",
   "execution_count": null,
   "metadata": {},
   "outputs": [],
   "source": [
    "# In this problem we will address how to deal with arrays in Python \n",
    "# In Python there is no different data type for arrays as it is in other languages\n",
    "# we use lists as arrays\n",
    "\n",
    "# Here we will handle how to sum all elements of an array in python\n"
   ]
  },
  {
   "cell_type": "code",
   "execution_count": 1,
   "metadata": {},
   "outputs": [
    {
     "data": {
      "text/plain": [
       "'\\nInput : arr[] = {1, 2, 3}\\nOutput : 6\\n1 + 2 + 3 = 6\\n\\nInput : arr[] = {15, 12, 13, 10}\\nOutput : 50\\n\\n'"
      ]
     },
     "execution_count": 1,
     "metadata": {},
     "output_type": "execute_result"
    }
   ],
   "source": [
    "# To tackle problem 1 we use inbuilt sum() to sum all the elements in an array\n",
    "\n",
    "# Problem 1 :\n",
    "# Python Program to find sum of array\n",
    "\n",
    "\"\"\"\n",
    "Input : arr[] = {1, 2, 3}\n",
    "Output : 6\n",
    "1 + 2 + 3 = 6\n",
    "\n",
    "Input : arr[] = {15, 12, 13, 10}\n",
    "Output : 50\n",
    "\n",
    "\"\"\""
   ]
  },
  {
   "cell_type": "code",
   "execution_count": 11,
   "metadata": {},
   "outputs": [
    {
     "name": "stdout",
     "output_type": "stream",
     "text": [
      "157\n"
     ]
    }
   ],
   "source": [
    "def total(arr):\n",
    "    return(sum(arr))\n",
    "    \n",
    "# Driver Program\n",
    "n=[10,12,23,45,67] # define array as a list\n",
    "\n",
    "print(total(n)) # to print total of all elements in an array\n"
   ]
  }
 ],
 "metadata": {
  "kernelspec": {
   "display_name": "Python 3",
   "language": "python",
   "name": "python3"
  },
  "language_info": {
   "codemirror_mode": {
    "name": "ipython",
    "version": 3
   },
   "file_extension": ".py",
   "mimetype": "text/x-python",
   "name": "python",
   "nbconvert_exporter": "python",
   "pygments_lexer": "ipython3",
   "version": "3.7.3"
  }
 },
 "nbformat": 4,
 "nbformat_minor": 2
}
