{
 "cells": [
  {
   "cell_type": "code",
   "execution_count": null,
   "metadata": {},
   "outputs": [],
   "source": [
    "# String Validators HackerRank"
   ]
  },
  {
   "cell_type": "code",
   "execution_count": null,
   "metadata": {},
   "outputs": [],
   "source": [
    "# Python has built-in string validation methods for basic data. \n",
    "# It can check if a string is composed of alphabetical characters, alphanumeric characters, digits, etc.\n",
    "\n",
    "# str.isalnum()\n",
    "# >>> This method checks if all the characters of a string are alphanumeric (a-z, A-Z and 0-9).\n",
    "\n",
    "# str.isalpha()\n",
    "# >>> This method checks if all the characters of a string are alphabetical (a-z and A-Z).\n",
    "\n",
    "# str.isdigit()\n",
    "# >>> This method checks if all the characters of a string are digits (0-9).\n",
    "\n",
    "# str.islower()\n",
    "# >>> This method checks if all the characters of a string are lowercase characters (a-z).\n",
    "\n",
    "# str.isupper()\n",
    "# >>> This method checks if all the characters of a string are uppercase characters (A-Z).\n",
    "\n",
    "\n"
   ]
  },
  {
   "cell_type": "code",
   "execution_count": null,
   "metadata": {},
   "outputs": [],
   "source": [
    "# You are given a string s.\n",
    "# Your task is to find out if the string s contains: \n",
    "# alphanumeric characters, alphabetical characters, digits, lowercase and uppercase characters.\n",
    "\n",
    "\"\"\"In the first line, print True if s has any alphanumeric characters. Otherwise, print False.\n",
    "In the second line, print True if s has any alphabetical characters. Otherwise, print False.\n",
    "In the third line, print True if s has any digits. Otherwise, print False.\n",
    "In the fourth line, print True if s has any lowercase characters. Otherwise, print False.\n",
    "In the fifth line, print True if s has any uppercase characters. Otherwise, print False.\"\"\"\n",
    "\n",
    "# Sample Input\n",
    "# qA2\n",
    "\n",
    "# Sample Output\n",
    "\"\"\"\n",
    "True\n",
    "True\n",
    "True\n",
    "True\n",
    "True\n",
    "\"\"\"\n"
   ]
  },
  {
   "cell_type": "code",
   "execution_count": null,
   "metadata": {},
   "outputs": [],
   "source": [
    "if __name__ == '__main__':\n",
    "    s = input()\n",
    "    print (any((c.isalnum())  for c in s))\n",
    "    print (any((c.isalpha())  for c in s))\n",
    "    print (any((c.isdigit())  for c in s))\n",
    "    print (any((c.islower())  for c in s))\n",
    "    print (any((c.isupper())  for c in s))"
   ]
  },
  {
   "cell_type": "code",
   "execution_count": null,
   "metadata": {},
   "outputs": [],
   "source": [
    "# catch in this problem was to use any() to check for any character in the string !!\n",
    "# .isalnum, .isalpha etc these methods check for complete string validation  \n",
    "# and return true only if all the characters in ths string satisfies the given condition"
   ]
  }
 ],
 "metadata": {
  "kernelspec": {
   "display_name": "Python 3",
   "language": "python",
   "name": "python3"
  },
  "language_info": {
   "codemirror_mode": {
    "name": "ipython",
    "version": 3
   },
   "file_extension": ".py",
   "mimetype": "text/x-python",
   "name": "python",
   "nbconvert_exporter": "python",
   "pygments_lexer": "ipython3",
   "version": "3.7.3"
  }
 },
 "nbformat": 4,
 "nbformat_minor": 2
}
