{
 "cells": [
  {
   "cell_type": "markdown",
   "metadata": {},
   "source": [
    "#  Leetcode\n",
    "# Problem 14\n",
    "## Longest common prefix"
   ]
  },
  {
   "cell_type": "code",
   "execution_count": 1,
   "metadata": {},
   "outputs": [],
   "source": [
    "# Write a function to find the longest common prefix string amongst an array of strings.\n",
    "\n",
    "# If there is no common prefix, return an empty string \"\".\n",
    "\n",
    "# Input: [\"flower\",\"flow\",\"flight\"]\n",
    "# Output: \"fl\""
   ]
  },
  {
   "cell_type": "code",
   "execution_count": null,
   "metadata": {},
   "outputs": [],
   "source": [
    "class Solution(object):\n",
    "    def longestCommonPrefix(self, strs):\n",
    "        \"\"\"\n",
    "        :type strs: List[str]\n",
    "        :rtype: str\n",
    "        \"\"\"\n",
    "        def prefix(strs, index):\n",
    "            check_prefix = strs[0][:index]\n",
    "            for index in range(1, len(strs)):\n",
    "                if not strs[index].startswith(check_prefix):\n",
    "                    return False\n",
    "            return True\n",
    "                \n",
    "                    \n",
    "        if not strs:\n",
    "            return \"\"\n",
    "        \n",
    "        minLength = float('inf')\n",
    "        for string in strs:\n",
    "            minLength = min(minLength, len(string))\n",
    "            \n",
    "        low, high = 0, minLength\n",
    "        \n",
    "        while low <= high:\n",
    "            mid = (low+high)/2\n",
    "            if (prefix(strs, mid)):\n",
    "                low = mid + 1\n",
    "            else:\n",
    "                high = mid - 1\n",
    "        \n",
    "        return strs[0][:(low+high)/2]\n",
    "        \n",
    "           "
   ]
  }
 ],
 "metadata": {
  "kernelspec": {
   "display_name": "Python 3",
   "language": "python",
   "name": "python3"
  },
  "language_info": {
   "codemirror_mode": {
    "name": "ipython",
    "version": 3
   },
   "file_extension": ".py",
   "mimetype": "text/x-python",
   "name": "python",
   "nbconvert_exporter": "python",
   "pygments_lexer": "ipython3",
   "version": "3.7.3"
  }
 },
 "nbformat": 4,
 "nbformat_minor": 2
}
