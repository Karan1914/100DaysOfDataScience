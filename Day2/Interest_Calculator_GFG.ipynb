{
 "cells": [
  {
   "cell_type": "markdown",
   "metadata": {},
   "source": [
    "### Python Program to Calculate Simple Interest and Compound Interest"
   ]
  },
  {
   "cell_type": "code",
   "execution_count": null,
   "metadata": {},
   "outputs": [],
   "source": [
    "\"\"\" Simple interest formula is given by:\n",
    "Simple Interest = (P x T x R)/100\n",
    "Where,\n",
    "P is the principle amount\n",
    "T is the time and\n",
    "R is the rate \"\"\"\n",
    "\n",
    "def SI(P,R,T):\n",
    "    return (P * R * T)/100"
   ]
  },
  {
   "cell_type": "code",
   "execution_count": null,
   "metadata": {},
   "outputs": [],
   "source": [
    "# Calculates compound interest \n",
    "def CI(P, R, T): \n",
    "    return (P * (pow((1 + R / 100), T))) "
   ]
  },
  {
   "cell_type": "code",
   "execution_count": null,
   "metadata": {},
   "outputs": [],
   "source": [
    "P = int(input(\"Enter Principal Amount: \"))\n",
    "T = int(input(\"Enter Time in Years: \"))\n",
    "R = int(input(\"Enter Rate: \"))\n",
    "\n",
    "Simple_Interest = SI(P,R,T)\n",
    "Compound_Interest = CI(P,R,T)\n",
    "print(\"Simple interest is\", Simple_Interest) \n",
    "print(\"Compound interest is\", Compound_Interest) "
   ]
  }
 ],
 "metadata": {
  "kernelspec": {
   "display_name": "Python 3",
   "language": "python",
   "name": "python3"
  },
  "language_info": {
   "codemirror_mode": {
    "name": "ipython",
    "version": 3
   },
   "file_extension": ".py",
   "mimetype": "text/x-python",
   "name": "python",
   "nbconvert_exporter": "python",
   "pygments_lexer": "ipython3",
   "version": "3.7.3"
  }
 },
 "nbformat": 4,
 "nbformat_minor": 2
}
