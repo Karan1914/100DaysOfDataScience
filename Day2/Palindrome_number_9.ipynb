{
 "cells": [
  {
   "cell_type": "markdown",
   "metadata": {},
   "source": [
    "### Determine whether an integer is a palindrome. \n",
    "### An integer is a palindrome when it reads the same backward as forward.\n"
   ]
  },
  {
   "cell_type": "code",
   "execution_count": null,
   "metadata": {},
   "outputs": [],
   "source": [
    "## Palindrome Number \n",
    "\n",
    "\"\"\"Input: 121\n",
    "Output: true\"\"\"\n",
    "\n",
    "\"\"\"Input: -121\n",
    "Output: false\n",
    "Explanation: From left to right, it reads -121. \n",
    "From right to left, it becomes 121-. \n",
    "Therefore it is not a palindrome.\"\"\"\n",
    "\n",
    "\"\"\"Input: 10\n",
    "Output: false\n",
    "Explanation: Reads 01 from right to left. \n",
    "Therefore it is not a palindrome.\"\"\"\n",
    "\n",
    "    \n",
    "    \n",
    "    \n",
    "    "
   ]
  },
  {
   "cell_type": "code",
   "execution_count": null,
   "metadata": {},
   "outputs": [],
   "source": [
    "class Solution:\n",
    "    def isPalindrome(self, x: int) -> bool:\n",
    "        flag=0\n",
    "        if x<0:\n",
    "            flag =1\n",
    "            return False\n",
    "        \n",
    "        else:\n",
    "            x=str(x)\n",
    "            new_str=x[::-1]\n",
    "            if x==new_str:\n",
    "                return True"
   ]
  }
 ],
 "metadata": {
  "kernelspec": {
   "display_name": "Python 3",
   "language": "python",
   "name": "python3"
  },
  "language_info": {
   "codemirror_mode": {
    "name": "ipython",
    "version": 3
   },
   "file_extension": ".py",
   "mimetype": "text/x-python",
   "name": "python",
   "nbconvert_exporter": "python",
   "pygments_lexer": "ipython3",
   "version": "3.7.3"
  }
 },
 "nbformat": 4,
 "nbformat_minor": 2
}
